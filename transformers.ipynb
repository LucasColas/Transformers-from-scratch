{
  "cells": [
    {
      "cell_type": "markdown",
      "metadata": {
        "id": "view-in-github",
        "colab_type": "text"
      },
      "source": [
        "<a href=\"https://colab.research.google.com/github/LucasColas/Transformers-from-scratch/blob/main/transformers.ipynb\" target=\"_parent\"><img src=\"https://colab.research.google.com/assets/colab-badge.svg\" alt=\"Open In Colab\"/></a>"
      ]
    },
    {
      "cell_type": "markdown",
      "metadata": {
        "id": "5tmOFPR8VmUq"
      },
      "source": [
        " Machine translation\n",
        "This project is originally from a course at Polytechnique Montréal called INF8225.\n",
        "The goal is to build a machine translation. Several architectures are used : RNN, GRU and Transformers.\n",
        "Do not forget to **select the runtime type as GPU!**\n",
        "\n",
        "**Sources**\n",
        "\n",
        "* Dataset: [Tab-delimited Bilingual Sentence Pairs](http://www.manythings.org/anki/)\n",
        "\n",
        "<!---\n",
        "M. Cettolo, C. Girardi, and M. Federico. 2012. WIT3: Web Inventory of Transcribed and Translated Talks. In Proc. of EAMT, pp. 261-268, Trento, Italy. pdf, bib. [paper](https://aclanthology.org/2012.eamt-1.60.pdf). [website](https://wit3.fbk.eu/2016-01).\n",
        "-->\n",
        "\n",
        "* The code is inspired by this [pytorch tutorial](https://pytorch.org/tutorials/beginner/torchtext_translation_tutorial.html).\n",
        "\n",
        "*This notebook is quite big, use the table of contents to easily navigate through it.*"
      ]
    },
    {
      "cell_type": "markdown",
      "metadata": {
        "id": "eyCdlapMV8Hu"
      },
      "source": [
        "# Imports and data initializations\n",
        "\n",
        "We first download and parse the dataset. From the parsed sentences\n",
        "we can build the vocabularies and the torch datasets.\n",
        "The end goal of this section is to have an iterator\n",
        "that can yield the pairs of translated datasets, and\n",
        "where each sentences is made of a sequence of tokens."
      ]
    },
    {
      "cell_type": "markdown",
      "source": [
        "## Imports"
      ],
      "metadata": {
        "id": "vLbVbH4lu4J0"
      }
    },
    {
      "cell_type": "markdown",
      "source": [
        "We have to use older versions of torchtext. Hence we need to install older versions of libraries."
      ],
      "metadata": {
        "id": "YVV4z5sSbzgn"
      }
    },
    {
      "cell_type": "code",
      "source": [
        "!pip install wandb > /dev/null\n",
        "import wandb"
      ],
      "metadata": {
        "id": "m27nUzQBthMC"
      },
      "execution_count": null,
      "outputs": []
    },
    {
      "cell_type": "code",
      "source": [
        "!wandb login"
      ],
      "metadata": {
        "colab": {
          "base_uri": "https://localhost:8080/"
        },
        "id": "LU2Ap1Vptj57",
        "outputId": "3c78918e-306a-4116-f19e-0af0e1841910"
      },
      "execution_count": null,
      "outputs": [
        {
          "output_type": "stream",
          "name": "stdout",
          "text": [
            "\u001b[34m\u001b[1mwandb\u001b[0m: Logging into wandb.ai. (Learn how to deploy a W&B server locally: https://wandb.me/wandb-server)\n",
            "\u001b[34m\u001b[1mwandb\u001b[0m: You can find your API key in your browser here: https://wandb.ai/authorize\n",
            "\u001b[34m\u001b[1mwandb\u001b[0m: Paste an API key from your profile and hit enter, or press ctrl+c to quit: \n",
            "\u001b[34m\u001b[1mwandb\u001b[0m: No netrc file found, creating one.\n",
            "\u001b[34m\u001b[1mwandb\u001b[0m: Appending key for api.wandb.ai to your netrc file: /root/.netrc\n",
            "\u001b[34m\u001b[1mwandb\u001b[0m: Currently logged in as: \u001b[33mlukyoda-13\u001b[0m (\u001b[33mlukyoda-13-polytechnique-montr-al\u001b[0m) to \u001b[32mhttps://api.wandb.ai\u001b[0m. Use \u001b[1m`wandb login --relogin`\u001b[0m to force relogin\n"
          ]
        }
      ]
    },
    {
      "cell_type": "markdown",
      "source": [
        "Try to run one of the two following cells. After you ran one of them, restart your session and run the same cell again. Then try to run the cell for the imports."
      ],
      "metadata": {
        "id": "6KIJl9afb9Yn"
      }
    },
    {
      "cell_type": "code",
      "source": [
        "!pip install numpy==1.23.5 --force-reinstall --no-cache-dir > /dev/null # Downgrade numpy first\n",
        "!pip install torch==2.1.2+cu121 -f https://download.pytorch.org/whl/torch/ --force-reinstall --no-cache-dir > /dev/null\n",
        "!pip install torchtext==0.16.2 --force-reinstall --no-cache-dir > /dev/null\n",
        "\n",
        "# Reinstall scipy and scikit-learn\n",
        "!pip install scipy --force-reinstall --no-cache-dir > /dev/null\n",
        "!pip install scikit-learn --force-reinstall --no-cache-dir > /dev/null\n",
        "\n",
        "!python3 -m spacy download en > /dev/null\n",
        "!python3 -m spacy download fr > /dev/null\n",
        "!pip install torchinfo > /dev/null\n",
        "!pip install einops > /dev/null\n",
        "!pip install wandb > /dev/null"
      ],
      "metadata": {
        "colab": {
          "base_uri": "https://localhost:8080/"
        },
        "id": "ePmTpM8Ib5B9",
        "outputId": "cca6c731-6b58-4c76-91d2-3facb90623c4"
      },
      "execution_count": null,
      "outputs": [
        {
          "metadata": {
            "tags": null
          },
          "name": "stdout",
          "output_type": "stream",
          "text": [
            "\u001b[31mERROR: Operation cancelled by user\u001b[0m\u001b[31m\n",
            "\u001b[0m\u001b[31mERROR: Operation cancelled by user\u001b[0m\u001b[31m\n",
            "\u001b[0m\u001b[31mERROR: Operation cancelled by user\u001b[0m\u001b[31m\n",
            "\u001b[0m\u001b[31mERROR: pip's dependency resolver does not currently take into account all the packages that are installed. This behaviour is the source of the following dependency conflicts.\n",
            "numba 0.60.0 requires numpy<2.1,>=1.22, but you have numpy 2.2.4 which is incompatible.\n",
            "tensorflow 2.18.0 requires numpy<2.1.0,>=1.26.0, but you have numpy 2.2.4 which is incompatible.\u001b[0m\u001b[31m\n",
            "\u001b[0m\u001b[31mERROR: pip's dependency resolver does not currently take into account all the packages that are installed. This behaviour is the source of the following dependency conflicts.\n",
            "numba 0.60.0 requires numpy<2.1,>=1.22, but you have numpy 2.2.4 which is incompatible.\n",
            "tensorflow 2.18.0 requires numpy<2.1.0,>=1.26.0, but you have numpy 2.2.4 which is incompatible.\u001b[0m\u001b[31m\n",
            "\u001b[0m"
          ]
        }
      ]
    },
    {
      "cell_type": "code",
      "source": [
        "\n",
        "# Note current default torch and cuda was 2.6.0+cu124\n",
        "# We need to go back to an earlier version compatible with torchtext\n",
        "# This will generate some dependency issues (incompatible packages), but for things that we will not need for this TP\n",
        "\n",
        "!pip install torch==2.1.2+cu121 -f https://download.pytorch.org/whl/torch/ --force-reinstall --no-cache-dir > /dev/null\n",
        "!pip install torchtext==0.16.2 --force-reinstall --no-cache-dir > /dev/null\n",
        "!pip install numpy==1.23.5 --force-reinstall --no-cache-dir > /dev/null\n",
        "\n",
        "\n",
        "!python3 -m spacy download en > /dev/null\n",
        "!python3 -m spacy download fr > /dev/null\n",
        "!pip install torchinfo > /dev/null\n",
        "!pip install einops > /dev/null\n",
        "!pip install wandb > /dev/null\n",
        "\n"
      ],
      "metadata": {
        "colab": {
          "base_uri": "https://localhost:8080/"
        },
        "id": "hxQLxOjRb1KY",
        "outputId": "6ec51350-f528-4715-841d-36f12f9af1bb"
      },
      "execution_count": null,
      "outputs": [
        {
          "output_type": "stream",
          "name": "stdout",
          "text": [
            "\u001b[31mERROR: pip's dependency resolver does not currently take into account all the packages that are installed. This behaviour is the source of the following dependency conflicts.\n",
            "pymc 5.21.1 requires numpy>=1.25.0, but you have numpy 1.23.5 which is incompatible.\n",
            "scikit-image 0.25.2 requires numpy>=1.24, but you have numpy 1.23.5 which is incompatible.\n",
            "bigframes 1.40.0 requires numpy>=1.24.0, but you have numpy 1.23.5 which is incompatible.\n",
            "torchaudio 2.6.0+cu124 requires torch==2.6.0, but you have torch 2.1.2+cu121 which is incompatible.\n",
            "tensorflow 2.18.0 requires numpy<2.1.0,>=1.26.0, but you have numpy 1.23.5 which is incompatible.\n",
            "chex 0.1.89 requires numpy>=1.24.1, but you have numpy 1.23.5 which is incompatible.\n",
            "albumentations 2.0.5 requires numpy>=1.24.4, but you have numpy 1.23.5 which is incompatible.\n",
            "torchvision 0.21.0+cu124 requires torch==2.6.0, but you have torch 2.1.2+cu121 which is incompatible.\u001b[0m\u001b[31m\n",
            "\u001b[0m\u001b[31mERROR: pip's dependency resolver does not currently take into account all the packages that are installed. This behaviour is the source of the following dependency conflicts.\n",
            "numba 0.60.0 requires numpy<2.1,>=1.22, but you have numpy 2.2.4 which is incompatible.\n",
            "torchaudio 2.6.0+cu124 requires torch==2.6.0, but you have torch 2.1.2 which is incompatible.\n",
            "tensorflow 2.18.0 requires numpy<2.1.0,>=1.26.0, but you have numpy 2.2.4 which is incompatible.\n",
            "torchvision 0.21.0+cu124 requires torch==2.6.0, but you have torch 2.1.2 which is incompatible.\u001b[0m\u001b[31m\n",
            "\u001b[0m\u001b[31mERROR: pip's dependency resolver does not currently take into account all the packages that are installed. This behaviour is the source of the following dependency conflicts.\n",
            "pymc 5.21.1 requires numpy>=1.25.0, but you have numpy 1.23.5 which is incompatible.\n",
            "scikit-image 0.25.2 requires numpy>=1.24, but you have numpy 1.23.5 which is incompatible.\n",
            "bigframes 1.40.0 requires numpy>=1.24.0, but you have numpy 1.23.5 which is incompatible.\n",
            "imbalanced-learn 0.13.0 requires numpy<3,>=1.24.3, but you have numpy 1.23.5 which is incompatible.\n",
            "blosc2 3.2.0 requires numpy>=1.26, but you have numpy 1.23.5 which is incompatible.\n",
            "albucore 0.0.23 requires numpy>=1.24.4, but you have numpy 1.23.5 which is incompatible.\n",
            "treescope 0.1.9 requires numpy>=1.25.2, but you have numpy 1.23.5 which is incompatible.\n",
            "jaxlib 0.5.1 requires numpy>=1.25, but you have numpy 1.23.5 which is incompatible.\n",
            "jax 0.5.2 requires numpy>=1.25, but you have numpy 1.23.5 which is incompatible.\n",
            "xarray 2025.1.2 requires numpy>=1.24, but you have numpy 1.23.5 which is incompatible.\n",
            "tensorflow 2.18.0 requires numpy<2.1.0,>=1.26.0, but you have numpy 1.23.5 which is incompatible.\n",
            "chex 0.1.89 requires numpy>=1.24.1, but you have numpy 1.23.5 which is incompatible.\n",
            "albumentations 2.0.5 requires numpy>=1.24.4, but you have numpy 1.23.5 which is incompatible.\n",
            "torchvision 0.21.0+cu124 requires torch==2.6.0, but you have torch 2.1.2 which is incompatible.\u001b[0m\u001b[31m\n",
            "\u001b[0m"
          ]
        }
      ]
    },
    {
      "cell_type": "code",
      "source": [
        "### !pip install --upgrade --force-reinstall scipy scikit-learn"
      ],
      "metadata": {
        "id": "qcfM-DOEvlw_"
      },
      "execution_count": null,
      "outputs": []
    },
    {
      "cell_type": "code",
      "execution_count": null,
      "metadata": {
        "id": "cJQfREvFUdoz",
        "colab": {
          "base_uri": "https://localhost:8080/"
        },
        "outputId": "3aaa7ea0-17f0-4951-86fc-6cf72abcc3cd"
      },
      "outputs": [
        {
          "output_type": "stream",
          "name": "stdout",
          "text": [
            "2.1.2+cu121\n"
          ]
        }
      ],
      "source": [
        "\n",
        "\n",
        "\n",
        "from itertools import takewhile\n",
        "from collections import Counter, defaultdict\n",
        "\n",
        "import numpy as np\n",
        "from sklearn.model_selection import train_test_split\n",
        "import pandas as pd\n",
        "\n",
        "import torch\n",
        "# cpal\n",
        "print(torch.__version__)\n",
        "\n",
        "import torch.nn as nn\n",
        "import torch.optim as optim\n",
        "from torch.utils.data.dataset import Dataset\n",
        "from torch.utils.data import DataLoader\n",
        "from torch.nn.utils.rnn import pad_sequence\n",
        "\n",
        "import torchtext\n",
        "from torchtext.data.utils import get_tokenizer\n",
        "from torchtext.vocab import build_vocab_from_iterator, Vocab\n",
        "from torchtext.datasets import IWSLT2016\n",
        "\n",
        "import einops\n",
        "import wandb\n",
        "from torchinfo import summary\n",
        "\n",
        "DEVICE = torch.device('cuda' if torch.cuda.is_available() else 'cpu')\n"
      ]
    },
    {
      "cell_type": "code",
      "execution_count": null,
      "metadata": {
        "id": "DxNpMbkvUfGE",
        "colab": {
          "base_uri": "https://localhost:8080/"
        },
        "outputId": "58676897-f363-4be0-c1e7-5ebc327982c8"
      },
      "outputs": [
        {
          "output_type": "stream",
          "name": "stdout",
          "text": [
            "--2025-03-23 12:35:46--  http://www.manythings.org/anki/fra-eng.zip\n",
            "Resolving www.manythings.org (www.manythings.org)... 173.254.30.110\n",
            "Connecting to www.manythings.org (www.manythings.org)|173.254.30.110|:80... connected.\n",
            "HTTP request sent, awaiting response... 200 OK\n",
            "Length: 7943074 (7.6M) [application/zip]\n",
            "Saving to: ‘fra-eng.zip’\n",
            "\n",
            "fra-eng.zip         100%[===================>]   7.57M  4.29MB/s    in 1.8s    \n",
            "\n",
            "2025-03-23 12:35:48 (4.29 MB/s) - ‘fra-eng.zip’ saved [7943074/7943074]\n",
            "\n",
            "Archive:  fra-eng.zip\n",
            "  inflating: _about.txt              \n",
            "  inflating: fra.txt                 \n",
            "209462\n"
          ]
        },
        {
          "output_type": "stream",
          "name": "stderr",
          "text": [
            "/usr/local/lib/python3.11/dist-packages/torchtext/data/utils.py:105: UserWarning: Spacy model \"en\" could not be loaded, trying \"en_core_web_sm\" instead\n",
            "  warnings.warn(\n",
            "/usr/local/lib/python3.11/dist-packages/torchtext/data/utils.py:105: UserWarning: Spacy model \"fr\" could not be loaded, trying \"fr_core_news_sm\" instead\n",
            "  warnings.warn(\n"
          ]
        }
      ],
      "source": [
        "# Our dataset\n",
        "!wget http://www.manythings.org/anki/fra-eng.zip\n",
        "!unzip fra-eng.zip\n",
        "\n",
        "df = pd.read_csv('fra.txt', sep='\\t', names=['english', 'french', 'attribution'])\n",
        "train = [\n",
        "    (en, fr) for en, fr in zip(df['english'], df['french'])\n",
        "]\n",
        "train, valid = train_test_split(train, test_size=0.1, random_state=0)\n",
        "print(len(train))\n",
        "\n",
        "en_tokenizer, fr_tokenizer = get_tokenizer('spacy', language='en'), get_tokenizer('spacy', language='fr')\n",
        "\n",
        "SPECIALS = ['<unk>', '<pad>', '<bos>', '<eos>']"
      ]
    },
    {
      "cell_type": "markdown",
      "source": [
        "If the install doesn't work, try this :\n",
        "Run the next cell and restart your session. Run again this cell after the restart of your session."
      ],
      "metadata": {
        "id": "6tSCXVB9bmw_"
      }
    },
    {
      "cell_type": "code",
      "source": [
        "# Note current default torch and cuda was 2.6.0+cu124\n",
        "# We need to go back to an earlier version compatible with torchtext\n",
        "# This will generate some dependency issues (incompatible packages), but for things that we will not need for this TP!pip install torch==2.1.2+cu121 -f https://download.pytorch.org/whl/torch/ --force-reinstall --no-cache-dir\n",
        "!pip install torchtext==0.16.2 --force-reinstall --no-cache-dir\n",
        "!pip install numpy==1.23.5 --force-reinstall --no-cache-dir\n",
        "!pip install scikit-learn==1.1.3 --force-reinstall --no-cache-dir\n",
        "!pip install scipy==1.9.3 --force-reinstall --no-cache-dir !pip install spacy einops wandb torchinfo\n",
        "!python -m spacy download en_core_web_sm\n",
        "!python -m spacy download fr_core_news_sm"
      ],
      "metadata": {
        "id": "YCRDEUTfbp-h"
      },
      "execution_count": null,
      "outputs": []
    },
    {
      "cell_type": "code",
      "source": [
        "from itertools import takewhile\n",
        "from collections import Counter, defaultdictimport numpy as np\n",
        "from sklearn.model_selection import train_test_split\n",
        "import pandas as pdimport torch\n",
        "# cpal\n",
        "print(torch.__version__)import torch.nn as nn\n",
        "import torch.optim as optim\n",
        "from torch.utils.data.dataset import Dataset\n",
        "from torch.utils.data import DataLoader\n",
        "from torch.nn.utils.rnn import pad_sequenceimport torchtext\n",
        "# from torchtext.data.utils import get_tokenizer\n",
        "from torchtext.vocab import build_vocab_from_iterator, Vocab\n",
        "from torchtext.datasets import IWSLT2016import spacyimport einops\n",
        "import wandb\n",
        "from torchinfo import summaryDEVICE = torch.device('cuda' if torch.cuda.is_available() else 'cpu')"
      ],
      "metadata": {
        "id": "ViT75IqHbq_K"
      },
      "execution_count": null,
      "outputs": []
    },
    {
      "cell_type": "code",
      "source": [
        "# Our dataset\n",
        "!wget http://www.manythings.org/anki/fra-eng.zip\n",
        "!unzip fra-eng.zipdf = pd.read_csv('fra.txt', sep='\\t', names=['english', 'french', 'attribution'])\n",
        "train = [\n",
        "    (en, fr) for en, fr in zip(df['english'], df['french'])\n",
        "]\n",
        "train, valid = train_test_split(train, test_size=0.1, random_state=0)\n",
        "print(len(train))en_nlp = spacy.load('en_core_web_sm')\n",
        "fr_nlp = spacy.load('fr_core_news_sm')def en_tokenizer(text):\n",
        "    return [tok.text.lower() for tok in en_nlp.tokenizer(text)]def fr_tokenizer(text):\n",
        "    return [tok.text.lower() for tok in fr_nlp.tokenizer(text)]SPECIALS = ['<unk>', '<pad>', '<bos>', '<eos>']"
      ],
      "metadata": {
        "id": "qRxfBCeubxqY"
      },
      "execution_count": null,
      "outputs": []
    },
    {
      "cell_type": "markdown",
      "source": [
        "The tokenizers are objects that are able to divide a python string into a list of tokens (words, punctuations, special tokens...) as a list of strings.\n",
        "\n",
        "The special tokens are used for a particular reasons:\n",
        "* *\\<unk\\>*: Replace an unknown word in the vocabulary by this default token\n",
        "* *\\<pad\\>*: Virtual token used to as padding token so a batch of sentences can have a unique length\n",
        "* *\\<bos\\>*: Token indicating the beggining of a sentence in the target sequence\n",
        "* *\\<eos\\>*: Token indicating the end of a sentence in the target sequence"
      ],
      "metadata": {
        "id": "ppPj9CrnsSoW"
      }
    },
    {
      "cell_type": "markdown",
      "metadata": {
        "id": "6ddZvN5FiK9u"
      },
      "source": [
        "## Datasets\n",
        "\n",
        "Functions and classes to build the vocabularies and the torch datasets.\n",
        "The vocabulary is an object able to transform a string token into the id (an int) of that token in the vocabulary."
      ]
    },
    {
      "cell_type": "code",
      "execution_count": null,
      "metadata": {
        "id": "Z2dKQ6PvZC_U"
      },
      "outputs": [],
      "source": [
        "class TranslationDataset(Dataset):\n",
        "    def __init__(\n",
        "            self,\n",
        "            dataset: list,\n",
        "            en_vocab: Vocab,\n",
        "            fr_vocab: Vocab,\n",
        "            en_tokenizer,\n",
        "            fr_tokenizer,\n",
        "        ):\n",
        "        super().__init__()\n",
        "\n",
        "        self.dataset = dataset\n",
        "        self.en_vocab = en_vocab\n",
        "        self.fr_vocab = fr_vocab\n",
        "        self.en_tokenizer = en_tokenizer\n",
        "        self.fr_tokenizer = fr_tokenizer\n",
        "\n",
        "    def __len__(self):\n",
        "        \"\"\"Return the number of examples in the dataset.\n",
        "        \"\"\"\n",
        "        return len(self.dataset)\n",
        "\n",
        "    def __getitem__(self, index: int) -> tuple:\n",
        "        \"\"\"Return a sample.\n",
        "\n",
        "        Args\n",
        "        ----\n",
        "            index: Index of the sample.\n",
        "\n",
        "        Output\n",
        "        ------\n",
        "            en_tokens: English tokens of the sample, as a LongTensor.\n",
        "            fr_tokens: French tokens of the sample, as a LongTensor.\n",
        "        \"\"\"\n",
        "        # Get the strings\n",
        "        en_sentence, fr_sentence = self.dataset[index]\n",
        "\n",
        "        # To list of words\n",
        "        # We also add the beggining-of-sentence and end-of-sentence tokens\n",
        "        en_tokens = ['<bos>'] + self.en_tokenizer(en_sentence) + ['<eos>']\n",
        "        fr_tokens = ['<bos>'] + self.fr_tokenizer(fr_sentence) + ['<eos>']\n",
        "\n",
        "        # To list of tokens\n",
        "        en_tokens = self.en_vocab(en_tokens)  # list[int]\n",
        "        fr_tokens = self.fr_vocab(fr_tokens)\n",
        "\n",
        "        return torch.LongTensor(en_tokens), torch.LongTensor(fr_tokens)\n",
        "\n",
        "\n",
        "def yield_tokens(dataset, tokenizer, lang):\n",
        "    \"\"\"Tokenize the whole dataset and yield the tokens.\n",
        "    \"\"\"\n",
        "    assert lang in ('en', 'fr')\n",
        "    sentence_idx = 0 if lang == 'en' else 1\n",
        "\n",
        "    for sentences in dataset:\n",
        "        sentence = sentences[sentence_idx]\n",
        "        tokens = tokenizer(sentence)\n",
        "        yield tokens\n",
        "\n",
        "\n",
        "def build_vocab(dataset: list, en_tokenizer, fr_tokenizer, min_freq: int):\n",
        "    \"\"\"Return two vocabularies, one for each language.\n",
        "    \"\"\"\n",
        "    en_vocab = build_vocab_from_iterator(\n",
        "        yield_tokens(dataset, en_tokenizer, 'en'),\n",
        "        min_freq=min_freq,\n",
        "        specials=SPECIALS,\n",
        "    )\n",
        "    en_vocab.set_default_index(en_vocab['<unk>'])  # Default token for unknown words\n",
        "\n",
        "    fr_vocab = build_vocab_from_iterator(\n",
        "        yield_tokens(dataset, fr_tokenizer, 'fr'),\n",
        "        min_freq=min_freq,\n",
        "        specials=SPECIALS,\n",
        "    )\n",
        "    fr_vocab.set_default_index(fr_vocab['<unk>'])\n",
        "\n",
        "    return en_vocab, fr_vocab\n",
        "\n",
        "\n",
        "def preprocess(\n",
        "        dataset: list,\n",
        "        en_tokenizer,\n",
        "        fr_tokenizer,\n",
        "        max_words: int,\n",
        "    ) -> list:\n",
        "    \"\"\"Preprocess the dataset.\n",
        "    Remove samples where at least one of the sentences are too long.\n",
        "    Those samples takes too much memory.\n",
        "    Also remove the pending '\\n' at the end of sentences.\n",
        "    \"\"\"\n",
        "    filtered = []\n",
        "\n",
        "    for en_s, fr_s in dataset:\n",
        "        if len(en_tokenizer(en_s)) >= max_words or len(fr_tokenizer(fr_s)) >= max_words:\n",
        "            continue\n",
        "\n",
        "        en_s = en_s.replace('\\n', '')\n",
        "        fr_s = fr_s.replace('\\n', '')\n",
        "\n",
        "        filtered.append((en_s, fr_s))\n",
        "\n",
        "    return filtered\n",
        "\n",
        "\n",
        "def build_datasets(\n",
        "        max_sequence_length: int,\n",
        "        min_token_freq: int,\n",
        "        en_tokenizer,\n",
        "        fr_tokenizer,\n",
        "        train: list,\n",
        "        val: list,\n",
        "    ) -> tuple:\n",
        "    \"\"\"Build the training, validation and testing datasets.\n",
        "    It takes care of the vocabulary creation.\n",
        "\n",
        "    Args\n",
        "    ----\n",
        "        - max_sequence_length: Maximum number of tokens in each sequences.\n",
        "            Having big sequences increases dramatically the VRAM taken during training.\n",
        "        - min_token_freq: Minimum number of occurences each token must have\n",
        "            to be saved in the vocabulary. Reducing this number increases\n",
        "            the vocabularies's size.\n",
        "        - en_tokenizer: Tokenizer for the english sentences.\n",
        "        - fr_tokenizer: Tokenizer for the french sentences.\n",
        "        - train and val: List containing the pairs (english, french) sentences.\n",
        "\n",
        "\n",
        "    Output\n",
        "    ------\n",
        "        - (train_dataset, val_dataset): Tuple of the two TranslationDataset objects.\n",
        "    \"\"\"\n",
        "    datasets = [\n",
        "        preprocess(samples, en_tokenizer, fr_tokenizer, max_sequence_length)\n",
        "        for samples in [train, val]\n",
        "    ]\n",
        "\n",
        "    en_vocab, fr_vocab = build_vocab(datasets[0], en_tokenizer, fr_tokenizer, min_token_freq)\n",
        "\n",
        "    datasets = [\n",
        "        TranslationDataset(samples, en_vocab, fr_vocab, en_tokenizer, fr_tokenizer)\n",
        "        for samples in datasets\n",
        "    ]\n",
        "\n",
        "    return datasets\n"
      ]
    },
    {
      "cell_type": "code",
      "execution_count": null,
      "metadata": {
        "id": "GWlH-qEbkoYA"
      },
      "outputs": [],
      "source": [
        "def generate_batch(data_batch: list, src_pad_idx: int, tgt_pad_idx: int) -> tuple:\n",
        "    \"\"\"Add padding to the given batch so that all\n",
        "    the samples are of the same size.\n",
        "\n",
        "    Args\n",
        "    ----\n",
        "        data_batch: List of samples.\n",
        "            Each sample is a tuple of LongTensors of varying size.\n",
        "        src_pad_idx: Source padding index value.\n",
        "        tgt_pad_idx: Target padding index value.\n",
        "\n",
        "    Output\n",
        "    ------\n",
        "        en_batch: Batch of tokens for the padded english sentences.\n",
        "            Shape of [batch_size, max_en_len].\n",
        "        fr_batch: Batch of tokens for the padded french sentences.\n",
        "            Shape of [batch_size, max_fr_len].\n",
        "    \"\"\"\n",
        "    en_batch, fr_batch = [], []\n",
        "    for en_tokens, fr_tokens in data_batch:\n",
        "        en_batch.append(en_tokens)\n",
        "        fr_batch.append(fr_tokens)\n",
        "\n",
        "    en_batch = pad_sequence(en_batch, padding_value=src_pad_idx, batch_first=True)\n",
        "    fr_batch = pad_sequence(fr_batch, padding_value=tgt_pad_idx, batch_first=True)\n",
        "    return en_batch, fr_batch"
      ]
    },
    {
      "cell_type": "markdown",
      "metadata": {
        "id": "C8Gs4Myjh-jV"
      },
      "source": [
        "# Models architecture\n",
        "This is where you have to code the architectures.\n",
        "\n",
        "In a machine translation task, the model takes as input the whole\n",
        "source sentence along with the current known tokens of the target,\n",
        "and predict the next token in the target sequence.\n",
        "This means that the target tokens are predicted in an autoregressive\n",
        "manner, starting from the first token (right after the *\\<bos\\>* token) and producing tokens one by one until the last *\\<eos\\>* token.\n",
        "\n",
        "Formally, we define $s = [s_1, ..., s_{N_s}]$ as the source sequence made of $N_s$ tokens.\n",
        "We also define $t^i = [t_1, ..., t_i]$ as the target sequence at the beginning of the step $i$.\n",
        "\n",
        "The output of the model parameterized by $\\theta$ is:\n",
        "\n",
        "$$\n",
        "T_{i+1} = p(t_{i+1} | s, t^i ; \\theta )\n",
        "$$\n",
        "\n",
        "Where $T_{i+1}$ is the distribution of the next token $t_{i+1}$.\n",
        "\n",
        "The loss is simply a *cross entropy loss* over the whole steps, where each class is a token of the vocabulary.\n",
        "\n",
        "![RNN schema for machinea translation](https://www.simplilearn.com/ice9/free_resources_article_thumb/machine-translation-model-with-encoder-decoder-rnn.jpg)\n",
        "\n",
        "Note that in this image the english sentence is provided in reverse.\n",
        "\n",
        "---\n",
        "\n",
        "In pytorch, there is no dinstinction between an intermediate layer or a whole model having multiple layers in itself.\n",
        "Every layers or models inherit from the `torch.nn.Module`.\n",
        "This module needs to define the `__init__` method where you instanciate the layers,\n",
        "and the `forward` method where you decide how the inputs and the layers of the module interact between them.\n",
        "Thanks to the autograd computations of pytorch, you do not have\n",
        "to implement any backward method!\n",
        "\n",
        "A really important advice is to **always look at\n",
        "the shape of your input and your output.**\n",
        "From that, you can often guess how the layers should interact\n",
        "with the inputs to produce the right output.\n",
        "You can also easily detect if there's something wrong going on.\n",
        "\n",
        "You are more than advised to use the `einops` library and the `torch.einsum` function. This will require less operations than 'classical' code, but note that it's a bit trickier to use.\n",
        "This is a way of describing tensors manipulation with strings, bypassing the multiple tensor methods executed in the background.\n",
        "You can find a nice presentation of `einops` [here](https://einops.rocks/1-einops-basics/).\n",
        "A paper has just been released about einops [here](https://paperswithcode.com/paper/einops-clear-and-reliable-tensor).\n",
        "\n",
        "**A great tutorial on pytorch can be found [here](https://stanford.edu/class/cs224n/materials/CS224N_PyTorch_Tutorial.html).**\n",
        "Spending 3 hours on this tutorial is *no* waste of time."
      ]
    },
    {
      "cell_type": "markdown",
      "source": [
        "## RNN models"
      ],
      "metadata": {
        "id": "xodRThXg2DHM"
      }
    },
    {
      "cell_type": "markdown",
      "source": [
        "### RNN\n",
        "Here, the implementation of the RNN is provided as an example. Study this code and use it as an example for the GRU implementation, if needed.\n",
        "\n",
        "The `RNNCell` layer produce one hidden state vector for each sentence in the batch\n",
        "(useful for the output of the encoder), and also produce one embedding for each\n",
        "token in each sentence (useful for the output of the decoder).\n",
        "\n",
        "The `RNN` module is composed of a stack of `RNNCell`. Each token embeddings\n",
        "coming out from a previous `RNNCell` is used as an input for the next `RNNCell` layer.\n",
        "\n",
        "**Be careful !** Our `RNNCell` implementation is not exactly the same thing as\n",
        "the PyTorch's `nn.RNNCell`. PyTorch implements only the operations for one token\n",
        "(so you would need to loop through each tokens inside the `RNN` instead).\n",
        "\n",
        "The same thing apply for the `GRU` and `GRUCell`.\n"
      ],
      "metadata": {
        "id": "ZvfRVUKm1u8e"
      }
    },
    {
      "cell_type": "code",
      "source": [
        "class RNNCell(nn.Module):\n",
        "    \"\"\"A single RNN layer.\n",
        "\n",
        "    Parameters\n",
        "    ----------\n",
        "        input_size: Size of each input token.\n",
        "        hidden_size: Size of each RNN hidden state.\n",
        "        dropout: Dropout rate.\n",
        "\n",
        "    Important note: This layer does not exactly the same thing as nn.RNNCell does.\n",
        "    PyTorch implementation is only doing one simple pass over one token for each batch.\n",
        "    This implementation is taking the whole sequence of each batch and provide the\n",
        "    final hidden state along with the embeddings of each token in each sequence.\n",
        "    \"\"\"\n",
        "    def __init__(\n",
        "            self,\n",
        "            input_size: int,\n",
        "            hidden_size: int,\n",
        "            dropout: float,\n",
        "        ):\n",
        "        super().__init__()\n",
        "\n",
        "        self.hidden_size = hidden_size\n",
        "\n",
        "        # See pytorch definition: https://pytorch.org/docs/stable/generated/torch.nn.RNN.html\n",
        "        self.Wih = nn.Linear(input_size, hidden_size, device=DEVICE)\n",
        "        self.Whh = nn.Linear(hidden_size, hidden_size, device=DEVICE)\n",
        "        self.dropout = nn.Dropout(p=dropout)\n",
        "        self.act = nn.Tanh()\n",
        "\n",
        "    def forward(self, x: torch.FloatTensor, h: torch.FloatTensor) -> tuple:\n",
        "        \"\"\"Go through all the sequence in x, iteratively updating\n",
        "        the hidden state h.\n",
        "\n",
        "        Args\n",
        "        ----\n",
        "            x: Input sequence.\n",
        "                Shape of [batch_size, seq_len, input_size].\n",
        "            h: Initial hidden state.\n",
        "                Shape of [batch_size, hidden_size].\n",
        "\n",
        "        Output\n",
        "        ------\n",
        "            y: Token embeddings.\n",
        "                Shape of [batch_size, seq_len, hidden_size].\n",
        "            h: Last hidden state.\n",
        "                Shape of [batch_size, hidden_size].\n",
        "        \"\"\"\n",
        "        batch_size, seq_len, input_size = x.shape\n",
        "        y = torch.zeros([batch_size, seq_len, self.hidden_size], device=DEVICE)\n",
        "\n",
        "        for t in range(seq_len):\n",
        "          input = x[:, t, :]\n",
        "          w_input = self.Wih(input)\n",
        "          w_hidden = self.Whh(h)\n",
        "          h = self.act(w_input + w_hidden)\n",
        "          y[:, t, :] = self.dropout(h)\n",
        "\n",
        "        return y, h\n",
        "\n",
        "\n",
        "class RNN(nn.Module):\n",
        "    \"\"\"Implementation of an RNN based\n",
        "    on https://pytorch.org/docs/stable/generated/torch.nn.RNN.html.\n",
        "\n",
        "    Parameters\n",
        "    ----------\n",
        "        input_size: Size of each input token.\n",
        "        hidden_size: Size of each RNN hidden state.\n",
        "        num_layers: Number of layers (RNNCell or GRUCell).\n",
        "        dropout: Dropout rate.\n",
        "        model_type: Either 'RNN' or 'GRU', to select which model we want.\n",
        "            This parameter can be removed if you decide to use the module `GRU`.\n",
        "            Indeed, `GRU` should have exactly the same code as this module,\n",
        "            but with `GRUCell` instead of `RNNCell`. We let the freedom for you\n",
        "            to decide at which level you want to specialise the modules (either\n",
        "            in `TranslationRNN` by creating a `GRU` or a `RNN`, or in `RNN`\n",
        "            by creating a `GRUCell` or a `RNNCell`).\n",
        "    \"\"\"\n",
        "    def __init__(\n",
        "            self,\n",
        "            input_size: int,\n",
        "            hidden_size: int,\n",
        "            num_layers: int,\n",
        "            dropout: float,\n",
        "            model_type: str,\n",
        "        ):\n",
        "        super().__init__()\n",
        "\n",
        "        self.hidden_size = hidden_size\n",
        "        model_class = RNNCell if model_type == 'RNN' else GRUCell\n",
        "\n",
        "        self.layers = nn.ModuleList()\n",
        "        self.layers.append(model_class(input_size, hidden_size, dropout))\n",
        "        for i in range(1, num_layers):\n",
        "          self.layers.append(model_class(hidden_size, hidden_size, dropout))\n",
        "\n",
        "    def forward(self, x: torch.FloatTensor, h: torch.FloatTensor=None) -> tuple:\n",
        "        \"\"\"Pass the input sequence through all the RNN cells.\n",
        "        Returns the output and the final hidden state of each RNN layer\n",
        "\n",
        "        Args\n",
        "        ----\n",
        "            x: Input sequence.\n",
        "                Shape of [batch_size, seq_len, input_size].\n",
        "            h: Hidden state for each RNN layer.\n",
        "                Can be None, in which case an initial hidden state is created.\n",
        "                Shape of [batch_size, n_layers, hidden_size].\n",
        "\n",
        "        Output\n",
        "        ------\n",
        "            y: Output embeddings for each token after the RNN layers.\n",
        "                Shape of [batch_size, seq_len, hidden_size].\n",
        "            h: Final hidden state.\n",
        "                Shape of [batch_size, n_layers, hidden_size].\n",
        "        \"\"\"\n",
        "        input = x\n",
        "        h = torch.zeros([x.shape[0], len(self.layers), self.hidden_size], device=x.device) if h is None else h\n",
        "        final_h = torch.zeros_like(h, device=x.device)\n",
        "        for l in range(len(self.layers)):\n",
        "          input, h_out = self.layers[l](input, h[:, l, :])\n",
        "          final_h[:, l, :] = h_out\n",
        "\n",
        "        return input, final_h"
      ],
      "metadata": {
        "id": "RiNKnwScM5Tc"
      },
      "execution_count": null,
      "outputs": []
    },
    {
      "cell_type": "markdown",
      "source": [
        "### GRU\n",
        "Here you have to implement a GRU-RNN. This architecture is close to the Vanilla RNN but perform different operations. Look up the pytorch documentation to figure out the differences."
      ],
      "metadata": {
        "id": "I0ciaamtvK0R"
      }
    },
    {
      "cell_type": "code",
      "source": [
        "class GRU(nn.Module):\n",
        "    \"\"\"Implementation of a GRU based on https://pytorch.org/docs/stable/generated/torch.nn.GRU.html.\n",
        "\n",
        "    Parameters\n",
        "    ----------\n",
        "        input_size: Size of each input token.\n",
        "        hidden_size: Size of each RNN hidden state.\n",
        "        num_layers: Number of layers.\n",
        "        dropout: Dropout rate.\n",
        "    \"\"\"\n",
        "    def __init__(\n",
        "            self,\n",
        "            input_size: int,\n",
        "            hidden_size: int,\n",
        "            num_layers: int,\n",
        "            dropout: float,\n",
        "        ):\n",
        "        super().__init__()\n",
        "        print(\"GRU !!\")\n",
        "        self.hidden_size = hidden_size\n",
        "        self.num_layers = num_layers\n",
        "\n",
        "        # Create multiple GRU layers\n",
        "        self.layers = nn.ModuleList([GRUCell(input_size, hidden_size, dropout)])\n",
        "        self.layers.extend([GRUCell(hidden_size, hidden_size, dropout) for _ in range(1, num_layers)])\n",
        "\n",
        "\n",
        "    def forward(self, x: torch.FloatTensor, h: torch.FloatTensor=None) -> tuple:\n",
        "        \"\"\"\n",
        "        Args\n",
        "        ----\n",
        "            x: Input sequence\n",
        "                Shape of [batch_size, seq_len, input_size].\n",
        "            h: Initial hidden state for each layer.\n",
        "                If 'None', then an initial hidden state (a zero filled tensor)\n",
        "                is created.\n",
        "                Shape of [batch_size, n_layers, hidden_size].\n",
        "\n",
        "        Output\n",
        "        ------\n",
        "            output:\n",
        "                Shape of [batch_size, seq_len, hidden_size].\n",
        "            h_n: Final hidden state.\n",
        "                Shape of [batch_size, n_layers, hidden size].\n",
        "        \"\"\"\n",
        "        # TODO\n",
        "        batch_size = x.shape[0]\n",
        "        # If h is not provided, initialize with zeros\n",
        "        if h is None:\n",
        "            h = torch.zeros(batch_size, self.num_layers, self.hidden_size, device=x.device)\n",
        "        final_h = torch.zeros_like(h, device=x.device)\n",
        "\n",
        "        input_seq = x\n",
        "        # Pass through each GRU layer\n",
        "        for l, cell in enumerate(self.layers):\n",
        "            input_seq, h_out = cell(input_seq, h[:, l, :])\n",
        "            final_h[:, l, :] = h_out\n",
        "\n",
        "        return input_seq, final_h\n",
        "\n",
        "\n",
        "\n",
        "class GRUCell(nn.Module):\n",
        "    \"\"\"A single GRU layer.\n",
        "\n",
        "    Parameters\n",
        "    ----------\n",
        "        input_size: Size of each input token.\n",
        "        hidden_size: Size of each RNN hidden state.\n",
        "        dropout: Dropout rate.\n",
        "    \"\"\"\n",
        "    def __init__(\n",
        "            self,\n",
        "            input_size: int,\n",
        "            hidden_size: int,\n",
        "            dropout: float,\n",
        "        ):\n",
        "        super().__init__()\n",
        "        # TODO\n",
        "        print(\"GRUCell\")\n",
        "        self.hidden_size = hidden_size\n",
        "\n",
        "        # Gates for update (z) and reset (r)\n",
        "        self.Wiz = nn.Linear(input_size, hidden_size, device=DEVICE)\n",
        "        self.Whz = nn.Linear(hidden_size, hidden_size, device=DEVICE)\n",
        "        self.Wir = nn.Linear(input_size, hidden_size, device=DEVICE)\n",
        "        self.Whr = nn.Linear(hidden_size, hidden_size, device=DEVICE)\n",
        "\n",
        "        # Candidate hidden state\n",
        "        self.Win = nn.Linear(input_size, hidden_size, device=DEVICE)\n",
        "        self.Whn = nn.Linear(hidden_size, hidden_size, device=DEVICE)\n",
        "\n",
        "        self.dropout = nn.Dropout(p=dropout)\n",
        "        self.sigmoid = nn.Sigmoid()\n",
        "        self.tanh = nn.Tanh()\n",
        "\n",
        "\n",
        "    def forward(self, x: torch.FloatTensor, h: torch.FloatTensor) -> tuple:\n",
        "        \"\"\"\n",
        "        Args\n",
        "        ----\n",
        "            x: Input sequence.\n",
        "                Shape of [batch_size, seq_len, input_size].\n",
        "            h: Initial hidden state.\n",
        "                Shape of [batch_size, hidden_size].\n",
        "\n",
        "        Output\n",
        "        ------\n",
        "            y: Token embeddings.\n",
        "                Shape of [batch_size, seq_len, hidden_size].\n",
        "            h: Last hidden state.\n",
        "                Shape of [batch_size, hidden_size].\n",
        "        \"\"\"\n",
        "        # TODO\n",
        "        batch_size, seq_len, _ = x.shape\n",
        "        y = torch.zeros(batch_size, seq_len, self.hidden_size, device=x.device)\n",
        "\n",
        "        for t in range(seq_len):\n",
        "            x_t = x[:, t, :]\n",
        "\n",
        "            # Compute update and reset gates\n",
        "            z_t = self.sigmoid(self.Wiz(x_t) + self.Whz(h))\n",
        "            r_t = self.sigmoid(self.Wir(x_t) + self.Whr(h))\n",
        "\n",
        "            # Compute candidate hidden state\n",
        "            n_t = self.tanh(self.Win(x_t) + self.Whn(r_t * h))\n",
        "\n",
        "            # Update hidden state\n",
        "            h = (1 - z_t) * n_t + z_t * h\n",
        "\n",
        "            # Apply dropout and store the output for this time step\n",
        "            y[:, t, :] = self.dropout(h)\n",
        "\n",
        "        return y, h\n"
      ],
      "metadata": {
        "id": "xdAMSZ7EMrMN"
      },
      "execution_count": null,
      "outputs": []
    },
    {
      "cell_type": "markdown",
      "source": [
        "### Translation RNN\n",
        "\n",
        "This module instanciates a vanilla RNN or a GRU-RNN and performs the translation task. This code des the following:\n",
        "* Encodes the source and target sequence\n",
        "* Passes the final hidden state of the encoder to the decoder (one for each layer)\n",
        "* Decodes the hidden state into the target sequence\n",
        "\n",
        "We use teacher forcing for training, meaning that when the next token is predicted, that prediction is based on the previous true target tokens."
      ],
      "metadata": {
        "id": "boIetZUy1f-5"
      }
    },
    {
      "cell_type": "code",
      "execution_count": null,
      "metadata": {
        "id": "KD-6N17xhuLy"
      },
      "outputs": [],
      "source": [
        "class TranslationRNN(nn.Module):\n",
        "    \"\"\"Basic RNN encoder and decoder for a translation task.\n",
        "    It can run as a vanilla RNN or a GRU-RNN.\n",
        "\n",
        "    Parameters\n",
        "    ----------\n",
        "        n_tokens_src: Number of tokens in the source vocabulary.\n",
        "        n_tokens_tgt: Number of tokens in the target vocabulary.\n",
        "        dim_embedding: Dimension size of the word embeddings (for both language).\n",
        "        dim_hidden: Dimension size of the hidden layers in the RNNs\n",
        "            (for both the encoder and the decoder).\n",
        "        n_layers: Number of layers in the RNNs.\n",
        "        dropout: Dropout rate.\n",
        "        src_pad_idx: Source padding index value.\n",
        "        tgt_pad_idx: Target padding index value.\n",
        "        model_type: Either 'RNN' or 'GRU', to select which model we want.\n",
        "    \"\"\"\n",
        "\n",
        "    def __init__(\n",
        "            self,\n",
        "            n_tokens_src: int,\n",
        "            n_tokens_tgt: int,\n",
        "            dim_embedding: int,\n",
        "            dim_hidden: int,\n",
        "            n_layers: int,\n",
        "            dropout: float,\n",
        "            src_pad_idx: int,\n",
        "            tgt_pad_idx: int,\n",
        "            model_type: str,\n",
        "        ):\n",
        "        super().__init__()\n",
        "        self.src_embeddings = nn.Embedding(n_tokens_src, dim_embedding, src_pad_idx)\n",
        "        self.tgt_embeddings = nn.Embedding(n_tokens_tgt, dim_embedding, tgt_pad_idx)\n",
        "\n",
        "        self.dropout_1 = nn.Dropout(dropout)\n",
        "        self.dropout_2 = nn.Dropout(dropout)\n",
        "\n",
        "        self.encoder = RNN(dim_embedding, dim_hidden, n_layers, dropout, model_type)\n",
        "        self.norm = nn.LayerNorm(dim_hidden)\n",
        "        self.decoder = RNN(dim_embedding, dim_hidden, n_layers, dropout, model_type)\n",
        "        self.out_layer = nn.Linear(dim_hidden, n_tokens_tgt)\n",
        "\n",
        "\n",
        "    def forward(\n",
        "        self,\n",
        "        source: torch.LongTensor,\n",
        "        target: torch.LongTensor\n",
        "    ) -> torch.FloatTensor:\n",
        "        \"\"\"Predict the target tokens logits based on the source tokens.\n",
        "\n",
        "        Args\n",
        "        ----\n",
        "            source: Batch of source sentences.\n",
        "                Shape of [batch_size, src_seq_len].\n",
        "            target: Batch of target sentences.\n",
        "                Shape of [batch_size, tgt_seq_len].\n",
        "\n",
        "        Output\n",
        "        ------\n",
        "            y: Distributions over the next token for all tokens in each sentences.\n",
        "                Those need to be the logits only, do not apply a softmax because\n",
        "                it will be done in the loss computation for numerical stability.\n",
        "                See https://pytorch.org/docs/stable/generated/torch.nn.CrossEntropyLoss.html for more informations.\n",
        "                Shape of [batch_size, tgt_seq_len, n_tokens_tgt].\n",
        "        \"\"\"\n",
        "        source = torch.fliplr(source)\n",
        "\n",
        "        src_emb = self.src_embeddings(source)\n",
        "        out, hidden = self.encoder(src_emb)\n",
        "\n",
        "        hidden = self.norm(hidden)\n",
        "\n",
        "        tgt_emb = self.tgt_embeddings(target)\n",
        "        y, hidden = self.decoder(tgt_emb, hidden)\n",
        "\n",
        "        y = self.out_layer(y)\n",
        "\n",
        "        return y\n"
      ]
    },
    {
      "cell_type": "markdown",
      "source": [],
      "metadata": {
        "id": "XLrMrwpjeOq8"
      }
    },
    {
      "cell_type": "code",
      "source": [],
      "metadata": {
        "id": "RI_8zCdm4YQu"
      },
      "execution_count": null,
      "outputs": []
    },
    {
      "cell_type": "markdown",
      "source": [
        "## Transformer models\n",
        "Here you have to code the Full Transformer and Decoder-Only Transformer architectures.\n",
        "It is divided in three parts:\n",
        "* Attention layers (done individually)\n",
        "* Encoder and decoder layers (done individually)\n",
        "* Full Transformer: gather the encoder and decoder layers (done individually)\n",
        "\n",
        "The Transformer (or \"Full Transformer\") is presented in the paper: [Attention is all you need](https://arxiv.org/pdf/1706.03762.pdf). The [illustrated transformer](https://jalammar.github.io/illustrated-transformer/) blog can help you\n",
        "understanding how the architecture works.\n",
        "Once this is done, you can use [the annontated transformer](https://nlp.seas.harvard.edu/2018/04/03/attention.html) to have an idea of how to code this architecture.\n",
        "We encourage you to use `torch.einsum` and the `einops` library as much as you can. It will make your code simpler.\n",
        "\n",
        "---\n",
        "**Implementation order**\n",
        "\n",
        "To help you with the implementation, we advise you following this order:\n",
        "* Implement `TranslationTransformer` and use `nn.Transformer` instead of `Transformer`\n",
        "* Implement `Transformer` and use `nn.TransformerDecoder` and `nn.TransformerEnocder`\n",
        "* Implement the `TransformerDecoder` and `TransformerEncoder` and use `nn.MultiHeadAttention`\n",
        "* Implement `MultiHeadAttention`\n",
        "\n",
        "Do not forget to add `batch_first=True` when necessary in the `nn` modules."
      ],
      "metadata": {
        "id": "EZcGlRnZvOnY"
      }
    },
    {
      "cell_type": "markdown",
      "source": [
        "### Positional Encoding\n"
      ],
      "metadata": {
        "id": "ZwaVFTTUlYwd"
      }
    },
    {
      "cell_type": "code",
      "source": [
        "import math\n",
        "import torch\n",
        "import torch.nn as nn\n",
        "import torch.nn.functional as F\n",
        "import torch.optim as optim\n",
        "from einops import rearrange\n",
        "from einops.layers.torch import Rearrange\n",
        "\n",
        "class PositionalEncoding(nn.Module):\n",
        "    \"\"\"\n",
        "    This PE module comes from:\n",
        "    Pytorch. (2021). LANGUAGE MODELING WITH NN.TRANSFORMER AND TORCHTEXT. https://pytorch.org/tutorials/beginner/transformer_tutorial.html\n",
        "    \"\"\"\n",
        "    def __init__(self, d_model: int, dropout: float, max_len: int = 5000):\n",
        "        super().__init__()\n",
        "        self.dropout = nn.Dropout(dropout)\n",
        "\n",
        "        position = torch.arange(max_len).unsqueeze(1).to(DEVICE)\n",
        "        div_term = torch.exp(torch.arange(0, d_model, 2) * (-math.log(10000.0) / d_model)).to(DEVICE)\n",
        "        pe = torch.zeros(max_len, 1, d_model).to(DEVICE)\n",
        "        pe[:, 0, 0::2] = torch.sin(position * div_term)\n",
        "        pe[:, 0, 1::2] = torch.cos(position * div_term)\n",
        "        self.register_buffer('pe', pe)\n",
        "\n",
        "    def forward(self, x):\n",
        "        x = rearrange(x, \"b s e -> s b e\")\n",
        "        \"\"\"\n",
        "        Args:\n",
        "            x: Tensor, shape [seq_len, batch_size, embedding_dim]\n",
        "        \"\"\"\n",
        "        x = x + self.pe[:x.size(0)]\n",
        "        x = rearrange(x, \"s b e -> b s e\")\n",
        "        return self.dropout(x)"
      ],
      "metadata": {
        "id": "lIqHye2Vl3gk"
      },
      "execution_count": null,
      "outputs": []
    },
    {
      "cell_type": "markdown",
      "source": [
        "### Attention layers\n",
        "We use a `MultiHeadAttention` module, that is able to perform self-attention aswell as cross-attention (depending on what you give as queries, keys and values).\n",
        "\n",
        "**Attention**\n",
        "\n",
        "\n",
        "It takes the multiheaded queries, keys and values as input.\n",
        "It computes the attention between the queries and the keys and return the attended values.\n",
        "\n",
        "The implementation of this function can greatly be improved with *einsums*.\n",
        "\n",
        "**MultiheadAttention**\n",
        "\n",
        "Computes the multihead queries, keys and values and feed them to the `attention` function.\n",
        "You also need to merge the key padding mask and the attention mask into one mask.\n",
        "\n",
        "The implementation of this module can greatly be improved with *einops.rearrange*."
      ],
      "metadata": {
        "id": "OFxV-6M3402p"
      }
    },
    {
      "cell_type": "code",
      "source": [
        "from einops.layers.torch import Rearrange\n",
        "\n",
        "\n",
        "def attention(\n",
        "        q: torch.FloatTensor,\n",
        "        k: torch.FloatTensor,\n",
        "        v: torch.FloatTensor,\n",
        "        mask: torch.BoolTensor=None,\n",
        "        dropout: nn.Dropout=None,\n",
        "    ) -> tuple:\n",
        "    \"\"\"Computes multihead scaled dot-product attention from the\n",
        "    projected queries, keys and values.\n",
        "\n",
        "    Args\n",
        "    ----\n",
        "        q: Batch of queries.\n",
        "            Shape of [batch_size, seq_len_1, n_heads, dim_model].\n",
        "        k: Batch of keys.\n",
        "            Shape of [batch_size, seq_len_2, n_heads, dim_model].\n",
        "        v: Batch of values.\n",
        "            Shape of [batch_size, seq_len_2, n_heads, dim_model].\n",
        "        mask: Prevent tokens to attend to some other tokens (for padding or autoregressive attention).\n",
        "            Attention is prevented where the mask is `True`.\n",
        "            Shape of [batch_size, n_heads, seq_len_1, seq_len_2],\n",
        "            or broadcastable to that shape.\n",
        "        dropout: Dropout layer to use.\n",
        "\n",
        "    Output\n",
        "    ------\n",
        "        y: Multihead scaled dot-attention between the queries, keys and values.\n",
        "            Shape of [batch_size, seq_len_1, n_heads, dim_model].\n",
        "        attn: Computed attention between the keys and the queries.\n",
        "            Shape of [batch_size, n_heads, seq_len_1, seq_len_2].\n",
        "    \"\"\"\n",
        "\n",
        "    head_dim = q.size(-1)\n",
        "    scores = torch.einsum(\"bqhd,bkhd->bhqk\", q, k) / math.sqrt(head_dim)\n",
        "    if mask is not None:\n",
        "        scores = scores.masked_fill(mask, -1e9)\n",
        "    attn = F.softmax(scores, dim=-1)\n",
        "    if dropout is not None:\n",
        "        attn = dropout(attn)\n",
        "    output = torch.einsum(\"bhqk,bkhd->bqhd\", attn, v)\n",
        "    return output, attn\n",
        "\n",
        "\n",
        "class MultiheadAttention(nn.Module):\n",
        "    \"\"\"Multihead attention module.\n",
        "    Can be used as a self-attention and cross-attention layer.\n",
        "    The queries, keys and values are projected into multiple heads\n",
        "    before computing the attention between those tensors.\n",
        "\n",
        "    Parameters\n",
        "    ----------\n",
        "        dim: Dimension of the input tokens.\n",
        "        n_heads: Number of heads. `dim` must be divisible by `n_heads`.\n",
        "        dropout: Dropout rate.\n",
        "    \"\"\"\n",
        "    def __init__(\n",
        "            self,\n",
        "            dim: int,\n",
        "            n_heads: int,\n",
        "            dropout: float,\n",
        "        ):\n",
        "        super().__init__()\n",
        "\n",
        "        assert dim % n_heads == 0\n",
        "\n",
        "        # TODO\n",
        "        self.dim = dim\n",
        "        self.n_heads = n_heads\n",
        "        self.head_dim = dim // n_heads\n",
        "\n",
        "        # Projection layers for queries, keys, values.\n",
        "        self.w_q = nn.Linear(dim, dim)\n",
        "        self.w_k = nn.Linear(dim, dim)\n",
        "        self.w_v = nn.Linear(dim, dim)\n",
        "        # Output projection.\n",
        "        self.fc = nn.Linear(dim, dim)\n",
        "        self.attn_dropout = nn.Dropout(dropout)\n",
        "        self.proj_dropout = nn.Dropout(dropout)\n",
        "\n",
        "    def forward(\n",
        "            self,\n",
        "            q: torch.FloatTensor,\n",
        "            k: torch.FloatTensor,\n",
        "            v: torch.FloatTensor,\n",
        "            key_padding_mask: torch.BoolTensor = None,\n",
        "            attn_mask: torch.BoolTensor = None,\n",
        "        ) -> torch.FloatTensor:\n",
        "        \"\"\"Computes the scaled multi-head attention form the input queries,\n",
        "        keys and values.\n",
        "\n",
        "        Project those queries, keys and values before feeding them\n",
        "        to the `attention` function.\n",
        "\n",
        "        The masks are boolean masks. Tokens are prevented to attends to\n",
        "        positions where the mask is `True`.\n",
        "\n",
        "        Args\n",
        "        ----\n",
        "            q: Batch of queries.\n",
        "                Shape of [batch_size, seq_len_1, dim_model].\n",
        "            k: Batch of keys.\n",
        "                Shape of [batch_size, seq_len_2, dim_model].\n",
        "            v: Batch of values.\n",
        "                Shape of [batch_size, seq_len_2, dim_model].\n",
        "            key_padding_mask: Prevent attending to padding tokens.\n",
        "                Shape of [batch_size, seq_len_2].\n",
        "            attn_mask: Prevent attending to subsequent tokens.\n",
        "                Shape of [seq_len_1, seq_len_2].\n",
        "\n",
        "        Output\n",
        "        ------\n",
        "            y: Computed multihead attention.\n",
        "                Shape of [batch_size, seq_len_1, dim_model].\n",
        "        \"\"\"\n",
        "        # TODO\n",
        "        batch_size, seq_len_q, _ = q.shape\n",
        "        batch_size, seq_len_k, _ = k.shape\n",
        "\n",
        "        # Linear projections and reshape for multiple heads.\n",
        "        q = self.w_q(q)\n",
        "        k = self.w_k(k)\n",
        "        v = self.w_v(v)\n",
        "        # Rearranging: split the last dimension into (n_heads, head_dim)\n",
        "        q = rearrange(q, \"b t (h d) -> b t h d\", h=self.n_heads)\n",
        "        k = rearrange(k, \"b t (h d) -> b t h d\", h=self.n_heads)\n",
        "        v = rearrange(v, \"b t (h d) -> b t h d\", h=self.n_heads)\n",
        "\n",
        "        # Prepare masks if provided.\n",
        "        mask = None\n",
        "        if key_padding_mask is not None:\n",
        "            # Expand mask to shape [batch, 1, 1, seq_len_k]\n",
        "            mask = key_padding_mask.unsqueeze(1).unsqueeze(2)\n",
        "        if attn_mask is not None:\n",
        "            # attn_mask: [seq_len_q, seq_len_k] -> [1, 1, seq_len_q, seq_len_k]\n",
        "            attn_mask = attn_mask.unsqueeze(0).unsqueeze(0)\n",
        "            mask = attn_mask if mask is None else mask | attn_mask\n",
        "\n",
        "        # Compute attention.\n",
        "        attn_output, attn = attention(q, k, v, mask=mask, dropout=self.attn_dropout)\n",
        "        # Rearranging back to [batch, seq_len_q, dim]\n",
        "        attn_output = rearrange(attn_output, \"b t h d -> b t (h d)\")\n",
        "        output = self.fc(attn_output)\n",
        "        output = self.proj_dropout(output)\n",
        "        return output\n"
      ],
      "metadata": {
        "id": "A0jOZxOwu_Uj"
      },
      "execution_count": null,
      "outputs": []
    },
    {
      "cell_type": "markdown",
      "source": [
        "### Encoder and decoder layers\n",
        "\n",
        "**TranformerEncoder**\n",
        "\n",
        "Apply self-attention layers onto the source tokens.\n",
        "It only needs the source key padding mask.\n",
        "\n",
        "\n",
        "**TranformerDecoder**\n",
        "\n",
        "Apply masked self-attention layers to the target tokens and cross-attention\n",
        "layers between the source and the target tokens.\n",
        "It needs the source and target key padding masks, and the target attention mask."
      ],
      "metadata": {
        "id": "nIpHjOtK47DH"
      }
    },
    {
      "cell_type": "code",
      "source": [
        "class TransformerDecoderLayer(nn.Module):\n",
        "    \"\"\"Single decoder layer.\n",
        "\n",
        "    Parameters\n",
        "    ----------\n",
        "        d_model: The dimension of decoders inputs/outputs.\n",
        "        dim_feedforward: Hidden dimension of the feedforward networks.\n",
        "        nheads: Number of heads for each multi-head attention.\n",
        "        dropout: Dropout rate.\n",
        "    \"\"\"\n",
        "\n",
        "    def __init__(\n",
        "            self,\n",
        "            d_model: int,\n",
        "            d_ff: int,\n",
        "            nhead: int,\n",
        "            dropout: float\n",
        "        ):\n",
        "        super().__init__()\n",
        "\n",
        "        # TODO\n",
        "        self.self_attn = MultiheadAttention(d_model, nhead, dropout)\n",
        "        self.cross_attn = MultiheadAttention(d_model, nhead, dropout)\n",
        "        self.linear1 = nn.Linear(d_model, d_ff)\n",
        "        self.linear2 = nn.Linear(d_ff, d_model)\n",
        "        self.norm1 = nn.LayerNorm(d_model)\n",
        "        self.norm2 = nn.LayerNorm(d_model)\n",
        "        self.norm3 = nn.LayerNorm(d_model)\n",
        "        self.dropout = nn.Dropout(dropout)\n",
        "        self.activation = nn.ReLU()\n",
        "\n",
        "    def forward(\n",
        "            self,\n",
        "            src: torch.FloatTensor,\n",
        "            tgt: torch.FloatTensor,\n",
        "            tgt_mask_attn: torch.BoolTensor,\n",
        "            src_key_padding_mask: torch.BoolTensor,\n",
        "            tgt_key_padding_mask: torch.BoolTensor,\n",
        "        ) -> torch.FloatTensor:\n",
        "        \"\"\"Decode the next target tokens based on the previous tokens.\n",
        "\n",
        "        Args\n",
        "        ----\n",
        "            src: Batch of source sentences.\n",
        "                Shape of [batch_size, src_seq_len, dim_model].\n",
        "            tgt: Batch of target sentences.\n",
        "                Shape of [batch_size, tgt_seq_len, dim_model].\n",
        "            tgt_mask_attn: Mask to prevent attention to subsequent tokens.\n",
        "                Shape of [tgt_seq_len, tgt_seq_len].\n",
        "            src_key_padding_mask: Mask to prevent attention to padding in src sequence.\n",
        "                Shape of [batch_size, src_seq_len].\n",
        "            tgt_key_padding_mask: Mask to prevent attention to padding in tgt sequence.\n",
        "                Shape of [batch_size, tgt_seq_len].\n",
        "\n",
        "        Output\n",
        "        ------\n",
        "            y:  Batch of sequence of embeddings representing the predicted target tokens\n",
        "                Shape of [batch_size, tgt_seq_len, dim_model].\n",
        "        \"\"\"\n",
        "        # TODO\n",
        "        # Self-attention over tgt (with causal mask)\n",
        "        tgt2 = self.self_attn(tgt, tgt, tgt, key_padding_mask=tgt_key_padding_mask, attn_mask=tgt_mask_attn)\n",
        "        tgt = tgt + self.dropout(tgt2)\n",
        "        tgt = self.norm1(tgt)\n",
        "        # Cross-attention: query=tgt, key/value=src (encoded source)\n",
        "        tgt2 = self.cross_attn(tgt, src, src, key_padding_mask=src_key_padding_mask)\n",
        "        tgt = tgt + self.dropout(tgt2)\n",
        "        tgt = self.norm2(tgt)\n",
        "        # Feed-forward network\n",
        "        tgt2 = self.linear2(self.dropout(self.activation(self.linear1(tgt))))\n",
        "        tgt = tgt + self.dropout(tgt2)\n",
        "        tgt = self.norm3(tgt)\n",
        "        return tgt\n",
        "\n",
        "\n",
        "class TransformerDecoder(nn.Module):\n",
        "    \"\"\"Implementation of the transformer decoder stack.\n",
        "\n",
        "    Parameters\n",
        "    ----------\n",
        "        d_model: The dimension of decoders inputs/outputs.\n",
        "        dim_feedforward: Hidden dimension of the feedforward networks.\n",
        "        num_decoder_layers: Number of stacked decoders.\n",
        "        nheads: Number of heads for each multi-head attention.\n",
        "        dropout: Dropout rate.\n",
        "    \"\"\"\n",
        "\n",
        "    def __init__(\n",
        "            self,\n",
        "            d_model: int,\n",
        "            d_ff: int,\n",
        "            num_decoder_layer:int ,\n",
        "            nhead: int,\n",
        "            dropout: float\n",
        "        ):\n",
        "        super().__init__()\n",
        "\n",
        "        # TODO\n",
        "        self.layers = nn.ModuleList([\n",
        "            TransformerDecoderLayer(d_model, d_ff, nhead, dropout)\n",
        "            for _ in range(num_decoder_layer)\n",
        "        ])\n",
        "\n",
        "    def forward(\n",
        "            self,\n",
        "            src: torch.FloatTensor,\n",
        "            tgt: torch.FloatTensor,\n",
        "            tgt_mask_attn: torch.BoolTensor,\n",
        "            src_key_padding_mask: torch.BoolTensor,\n",
        "            tgt_key_padding_mask: torch.BoolTensor,\n",
        "        ) -> torch.FloatTensor:\n",
        "        \"\"\"Decodes the source sequence by sequentially passing.\n",
        "        the encoded source sequence and the target sequence through the decoder stack.\n",
        "\n",
        "        Args\n",
        "        ----\n",
        "            src: Batch of encoded source sentences.\n",
        "                Shape of [batch_size, src_seq_len, dim_model].\n",
        "            tgt: Batch of taget sentences.\n",
        "                Shape of [batch_size, tgt_seq_len, dim_model].\n",
        "            tgt_mask_attn: Mask to prevent attention to subsequent tokens.\n",
        "                Shape of [tgt_seq_len, tgt_seq_len].\n",
        "            src_key_padding_mask: Mask to prevent attention to padding in src sequence.\n",
        "                Shape of [batch_size, src_seq_len].\n",
        "            tgt_key_padding_mask: Mask to prevent attention to padding in tgt sequence.\n",
        "                Shape of [batch_size, tgt_seq_len].\n",
        "\n",
        "        Output\n",
        "        ------\n",
        "            y:  Batch of sequence of embeddings representing the predicted target tokens\n",
        "                Shape of [batch_size, tgt_seq_len, dim_model].\n",
        "        \"\"\"\n",
        "        # TODO\n",
        "        output = tgt\n",
        "        for layer in self.layers:\n",
        "            output = layer(src, output, tgt_mask_attn, src_key_padding_mask, tgt_key_padding_mask)\n",
        "        return output\n",
        "\n",
        "\n",
        "class TransformerEncoderLayer(nn.Module):\n",
        "    \"\"\"Single encoder layer.\n",
        "\n",
        "    Parameters\n",
        "    ----------\n",
        "        d_model: The dimension of input tokens.\n",
        "        dim_feedforward: Hidden dimension of the feedforward networks.\n",
        "        nheads: Number of heads for each multi-head attention.\n",
        "        dropout: Dropout rate.\n",
        "    \"\"\"\n",
        "\n",
        "    def __init__(\n",
        "            self,\n",
        "            d_model: int,\n",
        "            d_ff: int,\n",
        "            nhead: int,\n",
        "            dropout: float,\n",
        "        ):\n",
        "        super().__init__()\n",
        "\n",
        "        # TODO\n",
        "        self.self_attn = MultiheadAttention(d_model, nhead, dropout)\n",
        "        self.linear1 = nn.Linear(d_model, d_ff)\n",
        "        self.linear2 = nn.Linear(d_ff, d_model)\n",
        "        self.norm1 = nn.LayerNorm(d_model)\n",
        "        self.norm2 = nn.LayerNorm(d_model)\n",
        "        self.dropout = nn.Dropout(dropout)\n",
        "        self.activation = nn.ReLU()\n",
        "\n",
        "    def forward(\n",
        "        self,\n",
        "        src: torch.FloatTensor,\n",
        "        key_padding_mask: torch.BoolTensor\n",
        "        ) -> torch.FloatTensor:\n",
        "        \"\"\"Encodes the input. Does not attend to masked inputs.\n",
        "\n",
        "        Args\n",
        "        ----\n",
        "            src: Batch of embedded source tokens.\n",
        "                Shape of [batch_size, src_seq_len, dim_model].\n",
        "            key_padding_mask: Mask preventing attention to padding tokens.\n",
        "                Shape of [batch_size, src_seq_len].\n",
        "\n",
        "        Output\n",
        "        ------\n",
        "            y: Batch of encoded source tokens.\n",
        "                Shape of [batch_size, src_seq_len, dim_model].\n",
        "        \"\"\"\n",
        "        # TODO\n",
        "        src2 = self.self_attn(src, src, src, key_padding_mask=key_padding_mask, attn_mask=None)\n",
        "        src = src + self.dropout(src2)\n",
        "        src = self.norm1(src)\n",
        "        # Feed-forward network\n",
        "        src2 = self.linear2(self.dropout(self.activation(self.linear1(src))))\n",
        "        src = src + self.dropout(src2)\n",
        "        src = self.norm2(src)\n",
        "        return src\n",
        "\n",
        "\n",
        "class TransformerEncoder(nn.Module):\n",
        "    \"\"\"Implementation of the transformer encoder stack.\n",
        "\n",
        "    Parameters\n",
        "    ----------\n",
        "        d_model: The dimension of encoders inputs.\n",
        "        dim_feedforward: Hidden dimension of the feedforward networks.\n",
        "        num_encoder_layers: Number of stacked encoders.\n",
        "        nheads: Number of heads for each multi-head attention.\n",
        "        dropout: Dropout rate.\n",
        "    \"\"\"\n",
        "\n",
        "    def __init__(\n",
        "            self,\n",
        "            d_model: int,\n",
        "            dim_feedforward: int,\n",
        "            num_encoder_layers: int,\n",
        "            nheads: int,\n",
        "            dropout: float\n",
        "        ):\n",
        "        super().__init__()\n",
        "\n",
        "        # TODO\n",
        "        self.layers = nn.ModuleList([\n",
        "            TransformerEncoderLayer(d_model, dim_feedforward, nheads, dropout)\n",
        "            for _ in range(num_encoder_layers)\n",
        "        ])\n",
        "\n",
        "    def forward(\n",
        "            self,\n",
        "            src: torch.FloatTensor,\n",
        "            key_padding_mask: torch.BoolTensor\n",
        "        ) -> torch.FloatTensor:\n",
        "        \"\"\"Encodes the source sequence by sequentially passing.\n",
        "        the source sequence through the encoder stack.\n",
        "\n",
        "        Args\n",
        "        ----\n",
        "            src: Batch of embedded source sentences.\n",
        "                Shape of [batch_size, src_seq_len, dim_model].\n",
        "            key_padding_mask: Mask preventing attention to padding tokens.\n",
        "                Shape of [batch_size, src_seq_len].\n",
        "\n",
        "        Output\n",
        "        ------\n",
        "            y: Batch of encoded source sequence.\n",
        "                Shape of [batch_size, src_seq_len, dim_model].\n",
        "        \"\"\"\n",
        "        # TODO\n",
        "        output = src\n",
        "        for layer in self.layers:\n",
        "            output = layer(output, key_padding_mask)\n",
        "        return output"
      ],
      "metadata": {
        "id": "2d-ukpIOu_RH"
      },
      "execution_count": null,
      "outputs": []
    },
    {
      "cell_type": "markdown",
      "source": [
        "### Transformer\n",
        "This section gathers the `Transformer` and the `TranslationTransformer` modules.\n",
        "\n",
        "**Transformer**\n",
        "\n",
        "\n",
        "The classical transformer architecture.\n",
        "It takes the source and target tokens embeddings and\n",
        "do the forward pass through the encoder and decoder.\n",
        "\n",
        "**Translation Transformer**\n",
        "\n",
        "Compute the source and target tokens embeddings, and apply a final head to produce next token logits.\n",
        "The output must not be the softmax but just the logits, because we use the `nn.CrossEntropyLoss`.\n",
        "\n",
        "It also creates the *src_key_padding_mask*, the *tgt_key_padding_mask* and the *tgt_mask_attn*."
      ],
      "metadata": {
        "id": "Gd3kGoRO4_TV"
      }
    },
    {
      "cell_type": "code",
      "source": [
        "class Transformer(nn.Module):\n",
        "    \"\"\"Implementation of a Transformer based on the paper: https://arxiv.org/pdf/1706.03762.pdf.\n",
        "\n",
        "    Parameters\n",
        "    ----------\n",
        "        d_model: The dimension of encoders/decoders inputs/ouputs.\n",
        "        nhead: Number of heads for each multi-head attention.\n",
        "        num_encoder_layers: Number of stacked encoders.\n",
        "        num_decoder_layers: Number of stacked encoders.\n",
        "        dim_feedforward: Hidden dimension of the feedforward networks.\n",
        "        dropout: Dropout rate.\n",
        "    \"\"\"\n",
        "\n",
        "    def __init__(\n",
        "            self,\n",
        "            d_model: int,\n",
        "            nhead: int,\n",
        "            num_encoder_layers: int,\n",
        "            num_decoder_layers: int,\n",
        "            dim_feedforward: int,\n",
        "            dropout: float,\n",
        "        ):\n",
        "        super().__init__()\n",
        "        # TODO\n",
        "        self.encoder = TransformerEncoder(d_model, dim_feedforward, num_encoder_layers, nhead, dropout)\n",
        "        self.decoder = TransformerDecoder(d_model, dim_feedforward, num_decoder_layers, nhead, dropout)\n",
        "\n",
        "    def forward(\n",
        "            self,\n",
        "            src: torch.FloatTensor,\n",
        "            tgt: torch.FloatTensor,\n",
        "            tgt_mask_attn: torch.BoolTensor,\n",
        "            src_key_padding_mask: torch.BoolTensor,\n",
        "            tgt_key_padding_mask: torch.BoolTensor\n",
        "        ) -> torch.FloatTensor:\n",
        "        \"\"\"Compute next token embeddings.\n",
        "\n",
        "        Args\n",
        "        ----\n",
        "            src: Batch of source sequences.\n",
        "                Shape of [batch_size, src_seq_len, dim_model].\n",
        "            tgt: Batch of target sequences.\n",
        "                Shape of [batch_size, tgt_seq_len, dim_model].\n",
        "            tgt_mask_attn: Mask to prevent attention to subsequent tokens.\n",
        "                Shape of [tgt_seq_len, tgt_seq_len].\n",
        "            src_key_padding_mask: Mask to prevent attention to padding in src sequence.\n",
        "                Shape of [batch_size, src_seq_len].\n",
        "            tgt_key_padding_mask: Mask to prevent attention to padding in tgt sequence.\n",
        "                Shape of [batch_size, tgt_seq_len].\n",
        "\n",
        "        Output\n",
        "        ------\n",
        "            y: Next token embeddings, given the previous target tokens and the source tokens.\n",
        "                Shape of [batch_size, tgt_seq_len, dim_model].\n",
        "        \"\"\"\n",
        "        # TODO\n",
        "        memory = self.encoder(src, key_padding_mask=src_key_padding_mask)\n",
        "        output = self.decoder(memory, tgt, tgt_mask_attn, src_key_padding_mask, tgt_key_padding_mask)\n",
        "        return output\n",
        "\n",
        "\n",
        "class TranslationTransformer(nn.Module):\n",
        "    \"\"\"Basic Transformer encoder and decoder for a translation task.\n",
        "    Manage the masks creation, and the token embeddings.\n",
        "    Position embeddings can be learnt with a standard `nn.Embedding` layer.\n",
        "\n",
        "    Parameters\n",
        "    ----------\n",
        "        n_tokens_src: Number of tokens in the source vocabulary.\n",
        "        n_tokens_tgt: Number of tokens in the target vocabulary.\n",
        "        n_heads: Number of heads for each multi-head attention.\n",
        "        dim_embedding: Dimension size of the word embeddings (for both language).\n",
        "        dim_hidden: Dimension size of the feedforward layers\n",
        "            (for both the encoder and the decoder).\n",
        "        n_layers: Number of layers in the encoder and decoder.\n",
        "        dropout: Dropout rate.\n",
        "        src_pad_idx: Source padding index value.\n",
        "        tgt_pad_idx: Target padding index value.\n",
        "    \"\"\"\n",
        "    def __init__(\n",
        "            self,\n",
        "            n_tokens_src: int,\n",
        "            n_tokens_tgt: int,\n",
        "            n_heads: int,\n",
        "            dim_embedding: int,\n",
        "            dim_hidden: int,\n",
        "            n_layers: int,\n",
        "            dropout: float,\n",
        "            src_pad_idx: int,\n",
        "            tgt_pad_idx: int,\n",
        "            max_seq_length: int = 512\n",
        "        ):\n",
        "        super().__init__()\n",
        "\n",
        "        # TODO\n",
        "        self.src_pad_idx = src_pad_idx\n",
        "        self.tgt_pad_idx = tgt_pad_idx\n",
        "        self.max_seq_length = max_seq_length\n",
        "\n",
        "        # Token embeddings\n",
        "        self.src_embedding = nn.Embedding(n_tokens_src, dim_embedding)\n",
        "        self.tgt_embedding = nn.Embedding(n_tokens_tgt, dim_embedding)\n",
        "        # Learnable positional embeddings\n",
        "        self.src_pos_embedding = nn.Embedding(max_seq_length, dim_embedding)\n",
        "        self.tgt_pos_embedding = nn.Embedding(max_seq_length, dim_embedding)\n",
        "\n",
        "        self.transformer = Transformer(\n",
        "            d_model=dim_embedding,\n",
        "            nhead=n_heads,\n",
        "            num_encoder_layers=n_layers,\n",
        "            num_decoder_layers=n_layers,\n",
        "            dim_feedforward=dim_hidden,\n",
        "            dropout=dropout\n",
        "        )\n",
        "        # Final linear projection to vocab size\n",
        "        self.fc_out = nn.Linear(dim_embedding, n_tokens_tgt)\n",
        "\n",
        "    def forward(\n",
        "            self,\n",
        "            source: torch.LongTensor,\n",
        "            target: torch.LongTensor\n",
        "        ) -> torch.FloatTensor:\n",
        "        \"\"\"Predict the target tokens logites based on the source tokens.\n",
        "\n",
        "        Args\n",
        "        ----\n",
        "            source: Batch of source sentences.\n",
        "                Shape of [batch_size, seq_len_src].\n",
        "            target: Batch of target sentences.\n",
        "                Shape of [batch_size, seq_len_tgt].\n",
        "\n",
        "        Output\n",
        "        ------\n",
        "            y: Distributions over the next token for all tokens in each sentences.\n",
        "                Those need to be the logits only, do not apply a softmax because\n",
        "                it will be done in the loss computation for numerical stability.\n",
        "                See https://pytorch.org/docs/stable/generated/torch.nn.CrossEntropyLoss.html for more informations.\n",
        "                Shape of [batch_size, seq_len_tgt, n_tokens_tgt].\n",
        "        \"\"\"\n",
        "        # TODO\n",
        "        # Create masks\n",
        "        tgt_mask_attn = self.generate_causal_mask(target)\n",
        "        src_key_padding_mask, tgt_key_padding_mask = self.generate_key_padding_mask(source, target)\n",
        "\n",
        "        batch_size, src_seq_len = source.shape\n",
        "        batch_size, tgt_seq_len = target.shape\n",
        "        # Create position indices\n",
        "        src_positions = torch.arange(0, src_seq_len, device=source.device).unsqueeze(0).expand(batch_size, src_seq_len)\n",
        "        tgt_positions = torch.arange(0, tgt_seq_len, device=target.device).unsqueeze(0).expand(batch_size, tgt_seq_len)\n",
        "\n",
        "        # Embed tokens and add position embeddings\n",
        "        src_emb = self.src_embedding(source) + self.src_pos_embedding(src_positions)\n",
        "        tgt_emb = self.tgt_embedding(target) + self.tgt_pos_embedding(tgt_positions)\n",
        "\n",
        "        # Pass through Transformer (encoder-decoder)\n",
        "        transformer_out = self.transformer(src_emb, tgt_emb, tgt_mask_attn, src_key_padding_mask, tgt_key_padding_mask)\n",
        "        # Project to vocabulary\n",
        "        logits = self.fc_out(transformer_out)\n",
        "        return logits\n",
        "\n",
        "    def generate_causal_mask(\n",
        "            self,\n",
        "            target: torch.LongTensor,\n",
        "        ) -> tuple:\n",
        "        \"\"\"Generate the masks to prevent attending subsequent tokens.\n",
        "\n",
        "        Args\n",
        "        ----\n",
        "            source: Batch of source sentences.\n",
        "                Shape of [batch_size, seq_len_src].\n",
        "            target: Batch of target sentences.\n",
        "                Shape of [batch_size, seq_len_tgt].\n",
        "\n",
        "        Output\n",
        "        ------\n",
        "            tgt_mask_attn: Mask to prevent attention to subsequent tokens.\n",
        "                Shape of [seq_len_tgt, seq_len_tgt].\n",
        "\n",
        "        \"\"\"\n",
        "\n",
        "        seq_len = target.shape[1]\n",
        "\n",
        "        tgt_mask = torch.ones((seq_len, seq_len), dtype=torch.bool)\n",
        "        tgt_mask = torch.triu(tgt_mask, diagonal=1).to(target.device)\n",
        "\n",
        "        return tgt_mask\n",
        "\n",
        "    def generate_key_padding_mask(\n",
        "            self,\n",
        "            source: torch.LongTensor,\n",
        "            target: torch.LongTensor,\n",
        "        ) -> tuple:\n",
        "        \"\"\"Generate the masks to prevent attending padding tokens.\n",
        "\n",
        "        Args\n",
        "        ----\n",
        "            source: Batch of source sentences.\n",
        "                Shape of [batch_size, seq_len_src].\n",
        "            target: Batch of target sentences.\n",
        "                Shape of [batch_size, seq_len_tgt].\n",
        "\n",
        "        Output\n",
        "        ------\n",
        "            src_key_padding_mask: Mask to prevent attention to padding in src sequence.\n",
        "                Shape of [batch_size, seq_len_src].\n",
        "            tgt_key_padding_mask: Mask to prevent attention to padding in tgt sequence.\n",
        "                Shape of [batch_size, seq_len_tgt].\n",
        "\n",
        "        \"\"\"\n",
        "\n",
        "        src_key_padding_mask = source == self.src_pad_idx\n",
        "        tgt_key_padding_mask = target == self.tgt_pad_idx\n",
        "\n",
        "        return src_key_padding_mask, tgt_key_padding_mask"
      ],
      "metadata": {
        "id": "AGYVF34mvRNk"
      },
      "execution_count": null,
      "outputs": []
    },
    {
      "cell_type": "markdown",
      "source": [
        "# Greedy search\n",
        "\n",
        "One idea to explore once you have your model working is to implement a geedy search to generate a target translation from a trained model and an input source string. The next token will simply be the most probable one. Compare this strategy of decoding with the beam search strategy below."
      ],
      "metadata": {
        "id": "ql6jv2lAK-nF"
      }
    },
    {
      "cell_type": "code",
      "source": [
        "def greedy_search(\n",
        "        model: nn.Module,\n",
        "        source: str,\n",
        "        src_vocab: Vocab,\n",
        "        tgt_vocab: Vocab,\n",
        "        src_tokenizer,\n",
        "        device: str,\n",
        "        max_sentence_length: int,\n",
        "    ) -> str:\n",
        "    \"\"\"Do a beam search to produce probable translations.\n",
        "\n",
        "    Args\n",
        "    ----\n",
        "        model: The translation model. Assumes it produces logits score (before softmax).\n",
        "        source: The sentence to translate.\n",
        "        src_vocab: The source vocabulary.\n",
        "        tgt_vocab: The target vocabulary.\n",
        "        device: Device to which we make the inference.\n",
        "        max_target: Maximum number of target sentences we keep at the end of each stage.\n",
        "        max_sentence_length: Maximum number of tokens for the translated sentence.\n",
        "\n",
        "    Output\n",
        "    ------\n",
        "        sentence: The translated source sentence.\n",
        "    \"\"\"\n",
        "    src_tokens = ['<bos>'] + src_tokenizer(source) + ['<eos>']\n",
        "    src_tokens = src_vocab(src_tokens)\n",
        "\n",
        "    tgt_tokens = ['<bos>']\n",
        "    tgt_tokens = tgt_vocab(tgt_tokens)\n",
        "\n",
        "    # To tensor and add unitary batch dimension\n",
        "    src_tokens = torch.LongTensor(src_tokens).to(device)\n",
        "    tgt_tokens = torch.LongTensor(tgt_tokens).unsqueeze(dim=0).to(device)\n",
        "\n",
        "    model.to(device)\n",
        "\n",
        "    EOS_IDX = tgt_vocab['<eos>']\n",
        "    with torch.no_grad():\n",
        "        for _ in range(max_sentence_length):\n",
        "            src = einops.repeat(src_tokens, 't -> b t', b=tgt_tokens.shape[0])\n",
        "            predicted = model.forward(src, tgt_tokens)\n",
        "            predicted = torch.softmax(predicted, dim=-1)\n",
        "            next_token = predicted[:, -1].argmax(dim=-1).unsqueeze(dim=1)\n",
        "\n",
        "            tgt_tokens = torch.cat((tgt_tokens, next_token), dim=1)\n",
        "\n",
        "            if next_token.item() == EOS_IDX:\n",
        "                break\n",
        "\n",
        "    tgt_sentence = list(tgt_tokens.squeeze().cpu().numpy())[1:]  # Remove <bos> token\n",
        "    tgt_sentence = list(takewhile(lambda t: t != EOS_IDX, tgt_sentence))\n",
        "    tgt_sentence = ' '.join(tgt_vocab.lookup_tokens(tgt_sentence))\n",
        "\n",
        "    tgt_sentence = beautify(tgt_sentence)\n",
        "    return tgt_sentence"
      ],
      "metadata": {
        "id": "-KMp7piKK905"
      },
      "execution_count": null,
      "outputs": []
    },
    {
      "cell_type": "markdown",
      "source": [
        "# Beam search\n",
        "Beam search is a smarter way of producing a sequence of tokens from\n",
        "an autoregressive model than just using a greedy search.\n",
        "\n",
        "The greedy search always chooses the most probable token as the unique\n",
        "and only next target token, and repeat this processus until the *\\<eos\\>* token is predicted.\n",
        "\n",
        "Instead, the beam search selects the k-most probable tokens at each step.\n",
        "From those k tokens, the current sequence is duplicated k times and the k tokens are appended to the k sequences to produce new k sequences.\n",
        "\n",
        "*You don't have to understand this code, but understanding this code once the TP is over could improve your torch tensors skills.*\n",
        "\n",
        "---\n",
        "\n",
        "**More explanations**\n",
        "\n",
        "Since it is done at each step, the number of sequences grows exponentially (k sequences after the first step, k² sequences after the second...).\n",
        "In order to keep the number of sequences low, we remove sequences except the top-s most likely sequences.\n",
        "To do that, we keep track of the likelihood of each sequence.\n",
        "\n",
        "Formally, we define $s = [s_1, ..., s_{N_s}]$ as the source sequence made of $N_s$ tokens.\n",
        "We also define $t^i = [t_1, ..., t_i]$ as the target sequence at the beginning of the step $i$.\n",
        "\n",
        "The output of the model parameterized by $\\theta$ is:\n",
        "\n",
        "$$\n",
        "T_{i+1} = p(t_{i+1} | s, t^i ; \\theta )\n",
        "$$\n",
        "\n",
        "Where $T_{i+1}$ is the distribution of the next token $t_{i+1}$.\n",
        "\n",
        "Then, we define the likelihood of a target sentence $t = [t_1, ..., t_{N_t}]$ as:\n",
        "\n",
        "$$\n",
        "L(t) = \\prod_{i=1}^{N_t - 1} p(t_{i+1} | s, t_{i}; \\theta )\n",
        "$$\n",
        "\n",
        "Pseudocode of the beam search:\n",
        "```\n",
        "source: [N_s source tokens]  # Shape of [total_source_tokens]\n",
        "target: [1, <bos> token]  # Shape of [n_sentences, current_target_tokens]\n",
        "target_prob: [1]  # Shape of [n_sentences]\n",
        "# We use `n_sentences` as the batch_size dimension\n",
        "\n",
        "while current_target_tokens <= max_target_length:\n",
        "    source = repeat(source, n_sentences)  # Shape of [n_sentences, total_source_tokens]\n",
        "    predicted = model(source, target)[:, -1]  # Predict the next token distributions of all the n_sentences\n",
        "    tokens_idx, tokens_prob = topk(predicted, k)\n",
        "\n",
        "    # Append the `n_sentences * k` tokens to the `n_sentences` sentences\n",
        "    target = repeat(target, k)  # Shape of [n_sentences * k, current_target_tokens]\n",
        "    target = append_tokens(target, tokens_idx)  # Shape of [n_sentences * k, current_target_tokens + 1]\n",
        "\n",
        "    # Update the sentences probabilities\n",
        "    target_prob = repeat(target_prob, k)  # Shape of [n_sentences * k]\n",
        "    target_prob *= tokens_prob\n",
        "\n",
        "    if n_sentences * k >= max_sentences:\n",
        "        target, target_prob = topk_prob(target, target_prob, k=max_sentences)\n",
        "    else:\n",
        "        n_sentences *= k\n",
        "\n",
        "    current_target_tokens += 1\n",
        "```"
      ],
      "metadata": {
        "id": "LgGFG-uXue6w"
      }
    },
    {
      "cell_type": "code",
      "source": [
        "def beautify(sentence: str) -> str:\n",
        "    \"\"\"Removes useless spaces.\n",
        "    \"\"\"\n",
        "    punc = {'.', ',', ';'}\n",
        "    for p in punc:\n",
        "        sentence = sentence.replace(f' {p}', p)\n",
        "\n",
        "    links = {'-', \"'\"}\n",
        "    for l in links:\n",
        "        sentence = sentence.replace(f'{l} ', l)\n",
        "        sentence = sentence.replace(f' {l}', l)\n",
        "\n",
        "    return sentence"
      ],
      "metadata": {
        "id": "V-GomgGTY2sV"
      },
      "execution_count": null,
      "outputs": []
    },
    {
      "cell_type": "code",
      "execution_count": null,
      "metadata": {
        "id": "V9Q7qcvH2Chp"
      },
      "outputs": [],
      "source": [
        "def indices_terminated(\n",
        "        target: torch.FloatTensor,\n",
        "        eos_token: int\n",
        "    ) -> tuple:\n",
        "    \"\"\"Split the target sentences between the terminated and the non-terminated\n",
        "    sentence. Return the indices of those two groups.\n",
        "\n",
        "    Args\n",
        "    ----\n",
        "        target: The sentences.\n",
        "            Shape of [batch_size, n_tokens].\n",
        "        eos_token: Value of the End-of-Sentence token.\n",
        "\n",
        "    Output\n",
        "    ------\n",
        "        terminated: Indices of the terminated sentences (who's got the eos_token).\n",
        "            Shape of [n_terminated, ].\n",
        "        non-terminated: Indices of the unfinished sentences.\n",
        "            Shape of [batch_size-n_terminated, ].\n",
        "    \"\"\"\n",
        "    terminated = [i for i, t in enumerate(target) if eos_token in t]\n",
        "    non_terminated = [i for i, t in enumerate(target) if eos_token not in t]\n",
        "    return torch.LongTensor(terminated), torch.LongTensor(non_terminated)\n",
        "\n",
        "\n",
        "def append_beams(\n",
        "        target: torch.FloatTensor,\n",
        "        beams: torch.FloatTensor\n",
        "    ) -> torch.FloatTensor:\n",
        "    \"\"\"Add the beam tokens to the current sentences.\n",
        "    Duplicate the sentences so one token is added per beam per batch.\n",
        "\n",
        "    Args\n",
        "    ----\n",
        "        target: Batch of unfinished sentences.\n",
        "            Shape of [batch_size, n_tokens].\n",
        "        beams: Batch of beams for each sentences.\n",
        "            Shape of [batch_size, n_beams].\n",
        "\n",
        "    Output\n",
        "    ------\n",
        "        target: Batch of sentences with one beam per sentence.\n",
        "            Shape of [batch_size * n_beams, n_tokens+1].\n",
        "    \"\"\"\n",
        "    batch_size, n_beams = beams.shape\n",
        "    n_tokens = target.shape[1]\n",
        "\n",
        "    target = einops.repeat(target, 'b t -> b c t', c=n_beams)  # [batch_size, n_beams, n_tokens]\n",
        "    beams = beams.unsqueeze(dim=2)  # [batch_size, n_beams, 1]\n",
        "\n",
        "    target = torch.cat((target, beams), dim=2)  # [batch_size, n_beams, n_tokens+1]\n",
        "    target = target.view(batch_size*n_beams, n_tokens+1)  # [batch_size * n_beams, n_tokens+1]\n",
        "    return target\n",
        "\n",
        "\n",
        "def beam_search(\n",
        "        model: nn.Module,\n",
        "        source: str,\n",
        "        src_vocab: Vocab,\n",
        "        tgt_vocab: Vocab,\n",
        "        src_tokenizer,\n",
        "        device: str,\n",
        "        beam_width: int,\n",
        "        max_target: int,\n",
        "        max_sentence_length: int,\n",
        "    ) -> list:\n",
        "    \"\"\"Do a beam search to produce probable translations.\n",
        "\n",
        "    Args\n",
        "    ----\n",
        "        model: The translation model. Assumes it produces linear score (before softmax).\n",
        "        source: The sentence to translate.\n",
        "        src_vocab: The source vocabulary.\n",
        "        tgt_vocab: The target vocabulary.\n",
        "        device: Device to which we make the inference.\n",
        "        beam_width: Number of top-k tokens we keep at each stage.\n",
        "        max_target: Maximum number of target sentences we keep at the end of each stage.\n",
        "        max_sentence_length: Maximum number of tokens for the translated sentence.\n",
        "\n",
        "    Output\n",
        "    ------\n",
        "        sentences: List of sentences orderer by their likelihood.\n",
        "    \"\"\"\n",
        "    src_tokens = ['<bos>'] + src_tokenizer(source) + ['<eos>']\n",
        "    src_tokens = src_vocab(src_tokens)\n",
        "\n",
        "    tgt_tokens = ['<bos>']\n",
        "    tgt_tokens = tgt_vocab(tgt_tokens)\n",
        "\n",
        "    # To tensor and add unitary batch dimension\n",
        "    src_tokens = torch.LongTensor(src_tokens).to(device)\n",
        "    tgt_tokens = torch.LongTensor(tgt_tokens).unsqueeze(dim=0).to(device)\n",
        "    target_probs = torch.FloatTensor([1]).to(device)\n",
        "    model.to(device)\n",
        "\n",
        "    EOS_IDX = tgt_vocab['<eos>']\n",
        "    with torch.no_grad():\n",
        "        while tgt_tokens.shape[1] < max_sentence_length:\n",
        "            batch_size, n_tokens = tgt_tokens.shape\n",
        "\n",
        "            # Get next beams\n",
        "            src = einops.repeat(src_tokens, 't -> b t', b=tgt_tokens.shape[0])\n",
        "            predicted = model.forward(src, tgt_tokens)\n",
        "            predicted = torch.softmax(predicted, dim=-1)\n",
        "            probs, predicted = predicted[:, -1].topk(k=beam_width, dim=-1)\n",
        "\n",
        "            # Separe between terminated sentences and the others\n",
        "            idx_terminated, idx_not_terminated = indices_terminated(tgt_tokens, EOS_IDX)\n",
        "            idx_terminated, idx_not_terminated = idx_terminated.to(device), idx_not_terminated.to(device)\n",
        "\n",
        "            tgt_terminated = torch.index_select(tgt_tokens, dim=0, index=idx_terminated)\n",
        "            tgt_probs_terminated = torch.index_select(target_probs, dim=0, index=idx_terminated)\n",
        "\n",
        "            filter_t = lambda t: torch.index_select(t, dim=0, index=idx_not_terminated)\n",
        "            tgt_others = filter_t(tgt_tokens)\n",
        "            tgt_probs_others = filter_t(target_probs)\n",
        "            predicted = filter_t(predicted)\n",
        "            probs = filter_t(probs)\n",
        "\n",
        "            # Add the top tokens to the previous target sentences\n",
        "            tgt_others = append_beams(tgt_others, predicted)\n",
        "\n",
        "            # Add padding to terminated target\n",
        "            padd = torch.zeros((len(tgt_terminated), 1), dtype=torch.long, device=device)\n",
        "            tgt_terminated = torch.cat(\n",
        "                (tgt_terminated, padd),\n",
        "                dim=1\n",
        "            )\n",
        "\n",
        "            # Update each target sentence probabilities\n",
        "            tgt_probs_others = torch.repeat_interleave(tgt_probs_others, beam_width)\n",
        "            tgt_probs_others *= probs.flatten()\n",
        "            tgt_probs_terminated *= 0.999  # Penalize short sequences overtime\n",
        "\n",
        "            # Group up the terminated and the others\n",
        "            target_probs = torch.cat(\n",
        "                (tgt_probs_others, tgt_probs_terminated),\n",
        "                dim=0\n",
        "            )\n",
        "            tgt_tokens = torch.cat(\n",
        "                (tgt_others, tgt_terminated),\n",
        "                dim=0\n",
        "            )\n",
        "\n",
        "            # Keep only the top `max_target` target sentences\n",
        "            if target_probs.shape[0] <= max_target:\n",
        "                continue\n",
        "\n",
        "            target_probs, indices = target_probs.topk(k=max_target, dim=0)\n",
        "            tgt_tokens = torch.index_select(tgt_tokens, dim=0, index=indices)\n",
        "\n",
        "    sentences = []\n",
        "    for tgt_sentence in tgt_tokens:\n",
        "        tgt_sentence = list(tgt_sentence)[1:]  # Remove <bos> token\n",
        "        tgt_sentence = list(takewhile(lambda t: t != EOS_IDX, tgt_sentence))\n",
        "        tgt_sentence = ' '.join(tgt_vocab.lookup_tokens(tgt_sentence))\n",
        "        sentences.append(tgt_sentence)\n",
        "\n",
        "    sentences = [beautify(s) for s in sentences]\n",
        "\n",
        "    # Join the sentences with their likelihood\n",
        "    sentences = [(s, p.item()) for s, p in zip(sentences, target_probs)]\n",
        "    # Sort the sentences by their likelihood\n",
        "    sentences = [(s, p) for s, p in sorted(sentences, key=lambda k: k[1], reverse=True)]\n",
        "\n",
        "    return sentences"
      ]
    },
    {
      "cell_type": "markdown",
      "source": [
        "# Wandb"
      ],
      "metadata": {
        "id": "77fE9LtfZayA"
      }
    },
    {
      "cell_type": "code",
      "source": [
        "# Checking GPU and logging to wandb\n",
        "\n",
        "!wandb login\n",
        "\n",
        "!nvidia-smi"
      ],
      "metadata": {
        "id": "WriScTUEsRHr",
        "colab": {
          "base_uri": "https://localhost:8080/"
        },
        "outputId": "18acba54-5d96-4db0-a69c-3a3c24ecdd87"
      },
      "execution_count": null,
      "outputs": [
        {
          "output_type": "stream",
          "name": "stdout",
          "text": [
            "\u001b[34m\u001b[1mwandb\u001b[0m: Logging into wandb.ai. (Learn how to deploy a W&B server locally: https://wandb.me/wandb-server)\n",
            "\u001b[34m\u001b[1mwandb\u001b[0m: You can find your API key in your browser here: https://wandb.ai/authorize\n",
            "\u001b[34m\u001b[1mwandb\u001b[0m: Paste an API key from your profile and hit enter, or press ctrl+c to quit: \n",
            "\u001b[34m\u001b[1mwandb\u001b[0m: No netrc file found, creating one.\n",
            "\u001b[34m\u001b[1mwandb\u001b[0m: Appending key for api.wandb.ai to your netrc file: /root/.netrc\n",
            "\u001b[34m\u001b[1mwandb\u001b[0m: Currently logged in as: \u001b[33mlukyoda-13\u001b[0m (\u001b[33mlukyoda-13-polytechnique-montr-al\u001b[0m) to \u001b[32mhttps://api.wandb.ai\u001b[0m. Use \u001b[1m`wandb login --relogin`\u001b[0m to force relogin\n",
            "Thu Mar 20 12:19:57 2025       \n",
            "+-----------------------------------------------------------------------------------------+\n",
            "| NVIDIA-SMI 550.54.15              Driver Version: 550.54.15      CUDA Version: 12.4     |\n",
            "|-----------------------------------------+------------------------+----------------------+\n",
            "| GPU  Name                 Persistence-M | Bus-Id          Disp.A | Volatile Uncorr. ECC |\n",
            "| Fan  Temp   Perf          Pwr:Usage/Cap |           Memory-Usage | GPU-Util  Compute M. |\n",
            "|                                         |                        |               MIG M. |\n",
            "|=========================================+========================+======================|\n",
            "|   0  Tesla T4                       Off |   00000000:00:04.0 Off |                    0 |\n",
            "| N/A   43C    P8             10W /   70W |       2MiB /  15360MiB |      0%      Default |\n",
            "|                                         |                        |                  N/A |\n",
            "+-----------------------------------------+------------------------+----------------------+\n",
            "                                                                                         \n",
            "+-----------------------------------------------------------------------------------------+\n",
            "| Processes:                                                                              |\n",
            "|  GPU   GI   CI        PID   Type   Process name                              GPU Memory |\n",
            "|        ID   ID                                                               Usage      |\n",
            "|=========================================================================================|\n",
            "|  No running processes found                                                             |\n",
            "+-----------------------------------------------------------------------------------------+\n"
          ]
        }
      ]
    },
    {
      "cell_type": "code",
      "source": [
        "!wandb login --relogin"
      ],
      "metadata": {
        "id": "JkXpm6Unb5g6",
        "outputId": "da46bdb8-e77b-4b88-f687-15f3f65770e9",
        "colab": {
          "base_uri": "https://localhost:8080/"
        }
      },
      "execution_count": null,
      "outputs": [
        {
          "output_type": "stream",
          "name": "stdout",
          "text": [
            "\u001b[34m\u001b[1mwandb\u001b[0m: Logging into wandb.ai. (Learn how to deploy a W&B server locally: https://wandb.me/wandb-server)\n",
            "\u001b[34m\u001b[1mwandb\u001b[0m: You can find your API key in your browser here: https://wandb.ai/authorize\n",
            "\u001b[34m\u001b[1mwandb\u001b[0m: Paste an API key from your profile and hit enter, or press ctrl+c to quit: \n",
            "\u001b[34m\u001b[1mwandb\u001b[0m: Appending key for api.wandb.ai to your netrc file: /root/.netrc\n",
            "\u001b[34m\u001b[1mwandb\u001b[0m: W&B API key is configured. Use \u001b[1m`wandb login --relogin`\u001b[0m to force relogin\n"
          ]
        }
      ]
    },
    {
      "cell_type": "code",
      "source": [],
      "metadata": {
        "id": "jdUA-rftb-br"
      },
      "execution_count": null,
      "outputs": []
    },
    {
      "cell_type": "markdown",
      "metadata": {
        "id": "WVr2FuDcZxC6"
      },
      "source": [
        "# Training loop\n",
        "This is a basic training loop code. It takes a big configuration dictionnary to avoid never ending arguments in the functions.\n",
        "We use [Weights and Biases](https://wandb.ai/) to log the trainings.\n",
        "It logs every training informations and model performances in the cloud.\n",
        "You have to create an account to use it. Every accounts are free for individuals or research teams."
      ]
    },
    {
      "cell_type": "code",
      "execution_count": null,
      "metadata": {
        "id": "h2I1C8pRXN8j"
      },
      "outputs": [],
      "source": [
        "def print_logs(dataset_type: str, logs: dict):\n",
        "    \"\"\"Print the logs.\n",
        "\n",
        "    Args\n",
        "    ----\n",
        "        dataset_type: Either \"Train\", \"Eval\", \"Test\" type.\n",
        "        logs: Containing the metric's name and value.\n",
        "    \"\"\"\n",
        "    desc = [\n",
        "        f'{name}: {value:.2f}'\n",
        "        for name, value in logs.items()\n",
        "    ]\n",
        "    desc = '\\t'.join(desc)\n",
        "    desc = f'{dataset_type} -\\t' + desc\n",
        "    desc = desc.expandtabs(5)\n",
        "    print(desc)\n",
        "\n",
        "\n",
        "def topk_accuracy(\n",
        "        real_tokens: torch.FloatTensor,\n",
        "        probs_tokens: torch.FloatTensor,\n",
        "        k: int,\n",
        "        tgt_pad_idx: int,\n",
        "    ) -> torch.FloatTensor:\n",
        "    \"\"\"Compute the top-k accuracy.\n",
        "    We ignore the PAD tokens.\n",
        "\n",
        "    Args\n",
        "    ----\n",
        "        real_tokens: Real tokens of the target sentence.\n",
        "            Shape of [batch_size * n_tokens].\n",
        "        probs_tokens: Tokens probability predicted by the model.\n",
        "            Shape of [batch_size * n_tokens, n_target_vocabulary].\n",
        "        k: Top-k accuracy threshold.\n",
        "        src_pad_idx: Source padding index value.\n",
        "\n",
        "    Output\n",
        "    ------\n",
        "        acc: Scalar top-k accuracy value.\n",
        "    \"\"\"\n",
        "    total = (real_tokens != tgt_pad_idx).sum()\n",
        "\n",
        "    _, pred_tokens = probs_tokens.topk(k=k, dim=-1)  # [batch_size * n_tokens, k]\n",
        "    real_tokens = einops.repeat(real_tokens, 'b -> b k', k=k)  # [batch_size * n_tokens, k]\n",
        "\n",
        "    good = (pred_tokens == real_tokens) & (real_tokens != tgt_pad_idx)\n",
        "    acc = good.sum() / total\n",
        "    return acc\n",
        "\n",
        "\n",
        "def loss_batch(\n",
        "        model: nn.Module,\n",
        "        source: torch.LongTensor,\n",
        "        target: torch.LongTensor,\n",
        "        config: dict,\n",
        "    )-> dict:\n",
        "    \"\"\"Compute the metrics associated with this batch.\n",
        "    The metrics are:\n",
        "        - loss\n",
        "        - top-1 accuracy\n",
        "        - top-5 accuracy\n",
        "        - top-10 accuracy\n",
        "\n",
        "    Args\n",
        "    ----\n",
        "        model: The model to train.\n",
        "        source: Batch of source tokens.\n",
        "            Shape of [batch_size, n_src_tokens].\n",
        "        target: Batch of target tokens.\n",
        "            Shape of [batch_size, n_tgt_tokens].\n",
        "        config: Additional parameters.\n",
        "\n",
        "    Output\n",
        "    ------\n",
        "        metrics: Dictionnary containing evaluated metrics on this batch.\n",
        "    \"\"\"\n",
        "    device = config['device']\n",
        "    loss_fn = config['loss'].to(device)\n",
        "    metrics = dict()\n",
        "\n",
        "    source, target = source.to(device), target.to(device)\n",
        "    target_in, target_out = target[:, :-1], target[:, 1:]\n",
        "\n",
        "    # Loss\n",
        "    pred = model(source, target_in)  # [batch_size, n_tgt_tokens-1, n_vocab]\n",
        "    pred = pred.view(-1, pred.shape[2])  # [batch_size * (n_tgt_tokens - 1), n_vocab]\n",
        "    target_out = target_out.flatten()  # [batch_size * (n_tgt_tokens - 1),]\n",
        "    metrics['loss'] = loss_fn(pred, target_out)\n",
        "\n",
        "    # Accuracy - we ignore the padding predictions\n",
        "    for k in [1, 5, 10]:\n",
        "        metrics[f'top-{k}'] = topk_accuracy(target_out, pred, k, config['tgt_pad_idx'])\n",
        "\n",
        "    return metrics\n",
        "\n",
        "\n",
        "def eval_model(model: nn.Module, dataloader: DataLoader, config: dict) -> dict:\n",
        "    \"\"\"Evaluate the model on the given dataloader.\n",
        "    \"\"\"\n",
        "    device = config['device']\n",
        "    logs = defaultdict(list)\n",
        "\n",
        "    model.to(device)\n",
        "    model.eval()\n",
        "\n",
        "    with torch.no_grad():\n",
        "        for source, target in dataloader:\n",
        "            metrics = loss_batch(model, source, target, config)\n",
        "            for name, value in metrics.items():\n",
        "                logs[name].append(value.cpu().item())\n",
        "\n",
        "    for name, values in logs.items():\n",
        "        logs[name] = np.mean(values)\n",
        "    return logs\n",
        "\n",
        "\n",
        "def train_model(model: nn.Module, config: dict, LRscheduler: bool=None):\n",
        "    \"\"\"Train the model in a teacher forcing manner.\n",
        "    \"\"\"\n",
        "    train_loader, val_loader = config['train_loader'], config['val_loader']\n",
        "    train_dataset, val_dataset = train_loader.dataset.dataset, val_loader.dataset.dataset\n",
        "    optimizer = config['optimizer']\n",
        "    clip = config['clip']\n",
        "    device = config['device']\n",
        "\n",
        "    columns = ['epoch']\n",
        "    for mode in ['train', 'validation']:\n",
        "        columns += [\n",
        "            f'{mode} - {colname}'\n",
        "            for colname in ['source', 'target', 'predicted', 'likelihood']\n",
        "        ]\n",
        "    log_table = wandb.Table(columns=columns)\n",
        "\n",
        "\n",
        "    print(f'Starting training for {config[\"epochs\"]} epochs, using {device}.')\n",
        "    for e in range(config['epochs']):\n",
        "        print(f'\\nEpoch {e+1}')\n",
        "\n",
        "        model.to(device)\n",
        "        model.train()\n",
        "        logs = defaultdict(list)\n",
        "\n",
        "        for batch_id, (source, target) in enumerate(train_loader):\n",
        "            optimizer.zero_grad()\n",
        "\n",
        "            metrics = loss_batch(model, source, target, config)\n",
        "            loss = metrics['loss']\n",
        "\n",
        "            loss.backward()\n",
        "            torch.nn.utils.clip_grad_norm_(model.parameters(), clip)\n",
        "            if LRscheduler:\n",
        "                LRscheduler.step()\n",
        "            optimizer.step()\n",
        "\n",
        "            for name, value in metrics.items():\n",
        "                logs[name].append(value.cpu().item())  # Don't forget the '.item' to free the cuda memory\n",
        "\n",
        "            if batch_id % config['log_every'] == 0:\n",
        "                for name, value in logs.items():\n",
        "                    logs[name] = np.mean(value)\n",
        "\n",
        "                train_logs = {\n",
        "                    f'Train - {m}': v\n",
        "                    for m, v in logs.items()\n",
        "                }\n",
        "                wandb.log(train_logs)\n",
        "                logs = defaultdict(list)\n",
        "\n",
        "        # Logs\n",
        "        if len(logs) != 0:\n",
        "            for name, value in logs.items():\n",
        "                logs[name] = np.mean(value)\n",
        "            train_logs = {\n",
        "                f'Train - {m}': v\n",
        "                for m, v in logs.items()\n",
        "            }\n",
        "        else:\n",
        "            logs = {\n",
        "                m.split(' - ')[1]: v\n",
        "                for m, v in train_logs.items()\n",
        "            }\n",
        "\n",
        "        print_logs('Train', logs)\n",
        "\n",
        "        logs = eval_model(model, val_loader, config)\n",
        "        print_logs('Eval', logs)\n",
        "        val_logs = {\n",
        "            f'Validation - {m}': v\n",
        "            for m, v in logs.items()\n",
        "        }\n",
        "\n",
        "        val_source, val_target = val_dataset[ torch.randint(len(val_dataset), (1,)) ]\n",
        "        val_pred, val_prob = beam_search(\n",
        "            model,\n",
        "            val_source,\n",
        "            config['src_vocab'],\n",
        "            config['tgt_vocab'],\n",
        "            config['src_tokenizer'],\n",
        "            device,  # It can take a lot of VRAM\n",
        "            beam_width=10,\n",
        "            max_target=100,\n",
        "            max_sentence_length=config['max_sequence_length'],\n",
        "        )[0]\n",
        "        print(val_source)\n",
        "        print(val_pred)\n",
        "\n",
        "        logs = {**train_logs, **val_logs}  # Merge dictionnaries\n",
        "        wandb.log(logs)  # Upload to the WandB cloud\n",
        "\n",
        "        # Table logs\n",
        "        train_source, train_target = train_dataset[ torch.randint(len(train_dataset), (1,)) ]\n",
        "        train_pred, train_prob = beam_search(\n",
        "            model,\n",
        "            train_source,\n",
        "            config['src_vocab'],\n",
        "            config['tgt_vocab'],\n",
        "            config['src_tokenizer'],\n",
        "            device,  # It can take a lot of VRAM\n",
        "            beam_width=10,\n",
        "            max_target=100,\n",
        "            max_sentence_length=config['max_sequence_length'],\n",
        "        )[0]\n",
        "\n",
        "        data = [\n",
        "            e + 1,\n",
        "            train_source, train_target, train_pred, train_prob,\n",
        "            val_source, val_target, val_pred, val_prob,\n",
        "        ]\n",
        "        log_table.add_data(*data)\n",
        "\n",
        "    # Log the table at the end of the training\n",
        "    wandb.log({'Model predictions': log_table})"
      ]
    },
    {
      "cell_type": "markdown",
      "source": [
        "# Training the models\n",
        "We can now finally train the models.\n",
        "Choose the right hyperparameters, play with them and try to find\n",
        "ones that lead to good models and good training curves.\n",
        "Try to reach a loss under 1.0.\n",
        "\n",
        "So you know, it is possible to get descent results with approximately 20 epochs.\n",
        "With CUDA enabled, one epoch, even on a big model with a big dataset, shouldn't last more than 10 minutes.\n",
        "A normal epoch is between 1 to 5 minutes.\n",
        "\n",
        "*This is considering Colab Pro, we should try using free Colab to get better estimations.*\n",
        "\n",
        "---\n",
        "\n",
        "To test your implementations, it is easier to try your models\n",
        "in a CPU instance. Indeed, Colab reduces your GPU instances priority\n",
        "with the time you recently past using GPU instances. It would be\n",
        "sad to consume all your GPU time on implementation testing.\n",
        "Moreover, you should try your models on small datasets and with a small number of parameters.\n",
        "For exemple, you could set:\n",
        "```\n",
        "MAX_SEQ_LEN = 10\n",
        "MIN_TOK_FREQ = 20\n",
        "dim_embedding = 40\n",
        "dim_hidden = 60\n",
        "n_layers = 1\n",
        "```\n",
        "\n",
        "You usually don't want to log anything onto WandB when testing your implementation.\n",
        "To deactivate WandB without having to change any line of code, you can type `!wandb offline` in a cell.\n",
        "\n",
        "Once you have rightly implemented the models, you can train bigger models on bigger datasets.\n",
        "When you do this, do not forget to change the runtime as GPU (and use `!wandb online`)!"
      ],
      "metadata": {
        "id": "YImgxCWjlWni"
      }
    },
    {
      "cell_type": "code",
      "source": [
        "# Instanciate the datasets\n",
        "\n",
        "MAX_SEQ_LEN = 60\n",
        "MIN_TOK_FREQ = 2\n",
        "train_dataset, val_dataset = build_datasets(\n",
        "    MAX_SEQ_LEN,\n",
        "    MIN_TOK_FREQ,\n",
        "    en_tokenizer,\n",
        "    fr_tokenizer,\n",
        "    train,\n",
        "    valid,\n",
        ")\n",
        "\n",
        "\n",
        "print(f'English vocabulary size: {len(train_dataset.en_vocab):,}')\n",
        "print(f'French vocabulary size: {len(train_dataset.fr_vocab):,}')\n",
        "\n",
        "print(f'\\nTraining examples: {len(train_dataset):,}')\n",
        "print(f'Validation examples: {len(val_dataset):,}')"
      ],
      "metadata": {
        "id": "iqmpxnO1lgDy",
        "colab": {
          "base_uri": "https://localhost:8080/"
        },
        "outputId": "fd5ca9c2-f08b-426c-d0b7-99a9603f9cc3"
      },
      "execution_count": null,
      "outputs": [
        {
          "output_type": "stream",
          "name": "stdout",
          "text": [
            "English vocabulary size: 12,154\n",
            "French vocabulary size: 18,340\n",
            "\n",
            "Training examples: 209,459\n",
            "Validation examples: 23,274\n"
          ]
        }
      ]
    },
    {
      "cell_type": "code",
      "execution_count": null,
      "metadata": {
        "id": "ywFEpplOU5dn",
        "colab": {
          "base_uri": "https://localhost:8080/"
        },
        "outputId": "60e0d961-f655-4aff-bf7c-bfbb45bd9592"
      },
      "outputs": [
        {
          "output_type": "execute_result",
          "data": {
            "text/plain": [
              "====================================================================================================\n",
              "Layer (type:depth-idx)                             Output Shape              Param #\n",
              "====================================================================================================\n",
              "TranslationTransformer                             [128, 60, 18340]          --\n",
              "├─Embedding: 1-1                                   [128, 60, 196]            2,382,184\n",
              "├─Embedding: 1-2                                   [128, 60, 196]            100,352\n",
              "├─Embedding: 1-3                                   [128, 60, 196]            3,594,640\n",
              "├─Embedding: 1-4                                   [128, 60, 196]            100,352\n",
              "├─Transformer: 1-5                                 [128, 60, 196]            --\n",
              "│    └─TransformerEncoder: 2-1                     [128, 60, 196]            --\n",
              "│    │    └─ModuleList: 3-1                        --                        768,108\n",
              "│    └─TransformerDecoder: 2-2                     [128, 60, 196]            --\n",
              "│    │    └─ModuleList: 3-2                        --                        1,232,628\n",
              "├─Linear: 1-6                                      [128, 60, 18340]          3,612,980\n",
              "====================================================================================================\n",
              "Total params: 11,791,244\n",
              "Trainable params: 11,791,244\n",
              "Non-trainable params: 0\n",
              "Total mult-adds (Units.GIGABYTES): 1.51\n",
              "====================================================================================================\n",
              "Input size (MB): 0.12\n",
              "Forward/backward pass size (MB): 1955.76\n",
              "Params size (MB): 47.16\n",
              "Estimated Total Size (MB): 2003.05\n",
              "===================================================================================================="
            ]
          },
          "metadata": {},
          "execution_count": 18
        }
      ],
      "source": [
        "# Build the model, the dataloaders, optimizer and the loss function\n",
        "# Log every hyperparameters and arguments into the config dictionnary\n",
        "\n",
        "config = {\n",
        "    # General parameters\n",
        "    'epochs': 10,\n",
        "    'batch_size': 128,\n",
        "    'lr': 1e-3,\n",
        "    'betas': (0.9, 0.99),\n",
        "    'clip': 5,\n",
        "    'device': 'cuda' if torch.cuda.is_available() else 'cpu',\n",
        "\n",
        "    # Model parameters\n",
        "    'n_tokens_src': len(train_dataset.en_vocab),\n",
        "    'n_tokens_tgt': len(train_dataset.fr_vocab),\n",
        "    'n_heads': 4,\n",
        "    'dim_embedding': 196,\n",
        "    'dim_hidden': 256,\n",
        "    'n_layers': 3,\n",
        "    'dropout': 0.1,\n",
        "    'model_type': 'RNN',\n",
        "\n",
        "    # Others\n",
        "    'max_sequence_length': MAX_SEQ_LEN,\n",
        "    'min_token_freq': MIN_TOK_FREQ,\n",
        "    'src_vocab': train_dataset.en_vocab,\n",
        "    'tgt_vocab': train_dataset.fr_vocab,\n",
        "    'src_tokenizer': en_tokenizer,\n",
        "    'tgt_tokenizer': fr_tokenizer,\n",
        "    'src_pad_idx': train_dataset.en_vocab['<pad>'],\n",
        "    'tgt_pad_idx': train_dataset.fr_vocab['<pad>'],\n",
        "    'seed': 0,\n",
        "    'log_every': 50,  # Number of batches between each wandb logs\n",
        "}\n",
        "\n",
        "torch.manual_seed(config['seed'])\n",
        "\n",
        "config['train_loader'] = DataLoader(\n",
        "    train_dataset,\n",
        "    batch_size=config['batch_size'],\n",
        "    shuffle=True,\n",
        "    collate_fn=lambda batch: generate_batch(batch, config['src_pad_idx'], config['tgt_pad_idx'])\n",
        ")\n",
        "\n",
        "config['val_loader'] = DataLoader(\n",
        "    val_dataset,\n",
        "    batch_size=config['batch_size'],\n",
        "    shuffle=True,\n",
        "    collate_fn=lambda batch: generate_batch(batch, config['src_pad_idx'], config['tgt_pad_idx'])\n",
        ")\n",
        "\n",
        "# Uncomment code block to select model to train here!\n",
        "\"\"\"model = TranslationRNN(\n",
        "    config['n_tokens_src'],\n",
        "    config['n_tokens_tgt'],\n",
        "    config['dim_embedding'],\n",
        "    config['dim_hidden'],\n",
        "    config['n_layers'],\n",
        "    config['dropout'],\n",
        "    config['src_pad_idx'],\n",
        "    config['tgt_pad_idx'],\n",
        "    config['model_type'],\n",
        ")\"\"\"\n",
        "\n",
        "model = TranslationTransformer(\n",
        "    config['n_tokens_src'],\n",
        "    config['n_tokens_tgt'],\n",
        "    config['n_heads'],\n",
        "    config['dim_embedding'],\n",
        "    config['dim_hidden'],\n",
        "    config['n_layers'],\n",
        "    config['dropout'],\n",
        "    config['src_pad_idx'],\n",
        "    config['tgt_pad_idx'],\n",
        ")\n",
        "\n",
        "\n",
        "config['optimizer'] = optim.Adam(\n",
        "    model.parameters(),\n",
        "    lr=config['lr'],\n",
        "    betas=config['betas'],\n",
        ")\n",
        "\n",
        "weight_classes = torch.ones(config['n_tokens_tgt'], dtype=torch.float)\n",
        "weight_classes[config['tgt_vocab']['<unk>']] = 0.1  # Lower the importance of that class\n",
        "config['loss'] = nn.CrossEntropyLoss(\n",
        "    weight=weight_classes,\n",
        "    ignore_index=config['tgt_pad_idx'],  # We do not have to learn those\n",
        ")\n",
        "\n",
        "summary(\n",
        "    model,\n",
        "    input_size=[\n",
        "        (config['batch_size'], config['max_sequence_length']),\n",
        "        (config['batch_size'], config['max_sequence_length'])\n",
        "    ],\n",
        "    dtypes=[torch.long, torch.long],\n",
        "    depth=3,\n",
        ")"
      ]
    },
    {
      "cell_type": "code",
      "execution_count": null,
      "metadata": {
        "id": "maOTVtk4acxD",
        "colab": {
          "base_uri": "https://localhost:8080/",
          "height": 1000
        },
        "outputId": "4cd228ab-0acb-4ec3-882a-7d5513b0740a"
      },
      "outputs": [
        {
          "output_type": "stream",
          "name": "stdout",
          "text": [
            "W&B online. Running your script from this directory will now sync to the cloud.\n"
          ]
        },
        {
          "output_type": "display_data",
          "data": {
            "text/plain": [
              "<IPython.core.display.HTML object>"
            ],
            "text/html": [
              "Tracking run with wandb version 0.19.8"
            ]
          },
          "metadata": {}
        },
        {
          "output_type": "display_data",
          "data": {
            "text/plain": [
              "<IPython.core.display.HTML object>"
            ],
            "text/html": [
              "Run data is saved locally in <code>/content/wandb/run-20250315_125105-wcs5ro9p</code>"
            ]
          },
          "metadata": {}
        },
        {
          "output_type": "display_data",
          "data": {
            "text/plain": [
              "<IPython.core.display.HTML object>"
            ],
            "text/html": [
              "Syncing run <strong><a href='https://wandb.ai/lukyoda-13-polytechnique-montr-al/INF8225/runs/wcs5ro9p' target=\"_blank\">basic architecture</a></strong> to <a href='https://wandb.ai/lukyoda-13-polytechnique-montr-al/INF8225' target=\"_blank\">Weights & Biases</a> (<a href='https://wandb.me/developer-guide' target=\"_blank\">docs</a>)<br>"
            ]
          },
          "metadata": {}
        },
        {
          "output_type": "display_data",
          "data": {
            "text/plain": [
              "<IPython.core.display.HTML object>"
            ],
            "text/html": [
              " View project at <a href='https://wandb.ai/lukyoda-13-polytechnique-montr-al/INF8225' target=\"_blank\">https://wandb.ai/lukyoda-13-polytechnique-montr-al/INF8225</a>"
            ]
          },
          "metadata": {}
        },
        {
          "output_type": "display_data",
          "data": {
            "text/plain": [
              "<IPython.core.display.HTML object>"
            ],
            "text/html": [
              " View run at <a href='https://wandb.ai/lukyoda-13-polytechnique-montr-al/INF8225/runs/wcs5ro9p' target=\"_blank\">https://wandb.ai/lukyoda-13-polytechnique-montr-al/INF8225/runs/wcs5ro9p</a>"
            ]
          },
          "metadata": {}
        },
        {
          "output_type": "stream",
          "name": "stdout",
          "text": [
            "Starting training for 10 epochs, using cuda.\n",
            "\n",
            "Epoch 1\n",
            "Train -   loss: 1.71     top-1: 0.66    top-5: 0.84    top-10: 0.88\n",
            "Eval -    loss: 1.54     top-1: 0.68    top-5: 0.86    top-10: 0.89\n",
            "It's in the fridge.\n",
            "C'est dans le frigo.\n",
            "\n",
            "Epoch 2\n",
            "Train -   loss: 1.43     top-1: 0.70    top-5: 0.88    top-10: 0.91\n",
            "Eval -    loss: 1.27     top-1: 0.72    top-5: 0.89    top-10: 0.92\n",
            "Are you sure you know what to do?\n",
            "Êtes-vous sûr de savoir quoi faire ?\n",
            "\n",
            "Epoch 3\n",
            "Train -   loss: 1.26     top-1: 0.72    top-5: 0.90    top-10: 0.92\n",
            "Eval -    loss: 1.16     top-1: 0.74    top-5: 0.90    top-10: 0.93\n",
            "Lend him as much money as he needs.\n",
            "Prête-lui autant d'argent qu'il a besoin.\n",
            "\n",
            "Epoch 4\n",
            "Train -   loss: 1.17     top-1: 0.74    top-5: 0.91    top-10: 0.93\n",
            "Eval -    loss: 1.09     top-1: 0.75    top-5: 0.91    top-10: 0.94\n",
            "I think it's impossible for him to solve the problem.\n",
            "Je pense qu'il est impossible de le résoudre.\n",
            "\n",
            "Epoch 5\n",
            "Train -   loss: 1.10     top-1: 0.75    top-5: 0.91    top-10: 0.94\n",
            "Eval -    loss: 1.04     top-1: 0.76    top-5: 0.92    top-10: 0.94\n",
            "Tom isn't the one who needs help.\n",
            "Tom n'est pas celui qui a besoin d'aide.\n",
            "\n",
            "Epoch 6\n",
            "Train -   loss: 1.04     top-1: 0.76    top-5: 0.92    top-10: 0.94\n",
            "Eval -    loss: 1.01     top-1: 0.77    top-5: 0.92    top-10: 0.94\n",
            "Are you productive?\n",
            "Êtes-vous productif ?\n",
            "\n",
            "Epoch 7\n",
            "Train -   loss: 1.00     top-1: 0.76    top-5: 0.92    top-10: 0.95\n",
            "Eval -    loss: 0.99     top-1: 0.77    top-5: 0.92    top-10: 0.95\n",
            "Because of the snow, I couldn't see anything.\n",
            "À cause de la neige, je ne pouvais rien voir.\n",
            "\n",
            "Epoch 8\n",
            "Train -   loss: 0.98     top-1: 0.77    top-5: 0.93    top-10: 0.95\n",
            "Eval -    loss: 0.96     top-1: 0.78    top-5: 0.93    top-10: 0.95\n",
            "Nobody recognized you.\n",
            "Personne ne vous a reconnu.\n",
            "\n",
            "Epoch 9\n",
            "Train -   loss: 0.92     top-1: 0.78    top-5: 0.93    top-10: 0.95\n",
            "Eval -    loss: 0.95     top-1: 0.78    top-5: 0.93    top-10: 0.95\n",
            "I know how old you are.\n",
            "Je sais comment vous êtes vieux.\n",
            "\n",
            "Epoch 10\n",
            "Train -   loss: 0.94     top-1: 0.78    top-5: 0.93    top-10: 0.95\n",
            "Eval -    loss: 0.94     top-1: 0.78    top-5: 0.93    top-10: 0.95\n",
            "Don't talk about my family.\n",
            "Ne parle pas de ma famille !\n"
          ]
        },
        {
          "output_type": "display_data",
          "data": {
            "text/plain": [
              "<IPython.core.display.HTML object>"
            ],
            "text/html": []
          },
          "metadata": {}
        },
        {
          "output_type": "display_data",
          "data": {
            "text/plain": [
              "<IPython.core.display.HTML object>"
            ],
            "text/html": [
              "<br>    <style><br>        .wandb-row {<br>            display: flex;<br>            flex-direction: row;<br>            flex-wrap: wrap;<br>            justify-content: flex-start;<br>            width: 100%;<br>        }<br>        .wandb-col {<br>            display: flex;<br>            flex-direction: column;<br>            flex-basis: 100%;<br>            flex: 1;<br>            padding: 10px;<br>        }<br>    </style><br><div class=\"wandb-row\"><div class=\"wandb-col\"><h3>Run history:</h3><br/><table class=\"wandb\"><tr><td>Train - loss</td><td>█▆▆▆▅▅▅▅▄▄▃▃▃▃▃▂▂▂▂▂▂▂▂▂▁▂▂▂▁▁▂▁▂▁▁▁▁▂▁▂</td></tr><tr><td>Train - top-1</td><td>▁▂▅▄▄▅▅▅▅▅▆▆▆▆▆▆▆▆▇▇▇▇▇▇▇▇▇█▇▇▇▇▇▇██████</td></tr><tr><td>Train - top-10</td><td>▁▃▃▄▅▅▆▆▆▇▇▇▇▇▇▇▇▇▇▇▇█▇▇▇█▇▇▇███▇▇▇█████</td></tr><tr><td>Train - top-5</td><td>▁▅▅▆▆▆▇▇▇▇▇▇▇▇▇▇▇▇▇▇▇▇▇▇▇███▇██▇████████</td></tr><tr><td>Validation - loss</td><td>█▅▃▃▂▂▂▁▁▁</td></tr><tr><td>Validation - top-1</td><td>▁▄▅▆▇▇▇███</td></tr><tr><td>Validation - top-10</td><td>▁▄▅▆▇▇▇███</td></tr><tr><td>Validation - top-5</td><td>▁▄▅▆▇▇▇███</td></tr></table><br/></div><div class=\"wandb-col\"><h3>Run summary:</h3><br/><table class=\"wandb\"><tr><td>Train - loss</td><td>0.94289</td></tr><tr><td>Train - top-1</td><td>0.77542</td></tr><tr><td>Train - top-10</td><td>0.95308</td></tr><tr><td>Train - top-5</td><td>0.93074</td></tr><tr><td>Validation - loss</td><td>0.94087</td></tr><tr><td>Validation - top-1</td><td>0.78161</td></tr><tr><td>Validation - top-10</td><td>0.95074</td></tr><tr><td>Validation - top-5</td><td>0.93064</td></tr></table><br/></div></div>"
            ]
          },
          "metadata": {}
        },
        {
          "output_type": "display_data",
          "data": {
            "text/plain": [
              "<IPython.core.display.HTML object>"
            ],
            "text/html": [
              " View run <strong style=\"color:#cdcd00\">basic architecture</strong> at: <a href='https://wandb.ai/lukyoda-13-polytechnique-montr-al/INF8225/runs/wcs5ro9p' target=\"_blank\">https://wandb.ai/lukyoda-13-polytechnique-montr-al/INF8225/runs/wcs5ro9p</a><br> View project at: <a href='https://wandb.ai/lukyoda-13-polytechnique-montr-al/INF8225' target=\"_blank\">https://wandb.ai/lukyoda-13-polytechnique-montr-al/INF8225</a><br>Synced 5 W&B file(s), 1 media file(s), 5 artifact file(s) and 0 other file(s)"
            ]
          },
          "metadata": {}
        },
        {
          "output_type": "display_data",
          "data": {
            "text/plain": [
              "<IPython.core.display.HTML object>"
            ],
            "text/html": [
              "Find logs at: <code>./wandb/run-20250315_125105-wcs5ro9p/logs</code>"
            ]
          },
          "metadata": {}
        }
      ],
      "source": [
        "!wandb online  # online / offline / disabled to activate, deactivate or turn off WandB logging\n",
        "\n",
        "with wandb.init(\n",
        "        config=config,\n",
        "        project='INF8225',  # Title of your project\n",
        "        group='Test',  # In what group of runs do you want this run to be in?\n",
        "        save_code=True,\n",
        "        name='basic architecture',\n",
        "    ):\n",
        "    train_model(model, config)\n",
        "\n",
        "wandb.finish()"
      ]
    },
    {
      "cell_type": "code",
      "execution_count": null,
      "metadata": {
        "id": "9PFIyvKUefdV",
        "colab": {
          "base_uri": "https://localhost:8080/"
        },
        "outputId": "37422df2-311d-422f-82c3-ac73c5f5c340"
      },
      "outputs": [
        {
          "output_type": "stream",
          "name": "stdout",
          "text": [
            "0. (29.39885%) \t Il est possible d'essayer votre travail ici.\n",
            "1. (22.23845%) \t Il est possible d'essayer ton travail ici.\n",
            "2. (4.08434%) \t Il est possible de tenter ton travail ici.\n",
            "3. (3.98461%) \t Il est possible d'essayer ta travail ici.\n",
            "4. (3.38965%) \t Il est possible de tenter votre travail ici.\n"
          ]
        }
      ],
      "source": [
        "sentence = \"It is possible to try your work here.\"\n",
        "\n",
        "preds = beam_search(\n",
        "    model,\n",
        "    sentence,\n",
        "    config['src_vocab'],\n",
        "    config['tgt_vocab'],\n",
        "    config['src_tokenizer'],\n",
        "    config['device'],\n",
        "    beam_width=10,\n",
        "    max_target=100,\n",
        "    max_sentence_length=config['max_sequence_length']\n",
        ")[:5]\n",
        "\n",
        "for i, (translation, likelihood) in enumerate(preds):\n",
        "    print(f'{i}. ({likelihood*100:.5f}%) \\t {translation}')"
      ]
    },
    {
      "cell_type": "markdown",
      "source": [
        "\n",
        "\n",
        "# Questions\n",
        "1. Explain the differences between Vanilla RNN, GRU-RNN, Encoder-Decoder Transformer and Decoder-Only Transformer.\n",
        "\n",
        " Vanilla RNN process each sequence step-by-step. Vanilla RNN have a hidden state that is updated after each time step. The main limitation is that they suffer from vanishing and exploding gradients. Therefore it's hard for Vanilla RNN to learn long-term dependencies. That's why GRU-RNN were invented.\n",
        "GRU-RNN are a variation of RNNs. They include gating mechanisms to control information flow. They have reset and update gates that help address the vanishing gradient problem by preserving important information across longer sequences.\n",
        "Encoder-Decoder Transformer is an architecture that has two main components. The first component is an encoder that processes the input sequence. The second component is a  decoder that generates the output sequence. Transformers use self-attention mechanisms. The latter are highly parallelizable, allowing them to process entire sequences simultaneously unlike RNNs.\n",
        "Decoder-Only Transformers use only the decoder part of the transformer. It generates sequences by autoregression. It means each token is predicted based on previously generated tokens.\n",
        "\n",
        "2. Why is positionnal encoding necessary in Transformers and not in RNNs?\n",
        "\n",
        "RNNs process sequences step-by-step. The order of inputs is implicitly handled by the sequential nature of the architecture. Transformers process entire sequences at once using attention mechanisms, which have no inherent sense of order. Positional encoding allows transformer to have information about the position of tokens in the sequence, allowing the transformer to understand the relative order of tokens.\n",
        "\n",
        "3. Describe the preprocessing process. Detail how the initial dataset is processed before being fed to the translation models.\n",
        "\n",
        "First of all, there's tokenizaition. The input sentences are first tokenized into subwords, words, or characters depending on the tokenization strategy.\n",
        "\n",
        "After tokenization, each token is mapped into a dense vector representation (called embedding). The embedding layer converts tokens into vectors that capture syntactic and semantic meanings. In transformers, this embedding layer is learned during training.\n",
        "\n",
        "Since transformers process sequences in parallel, positional encodings are added to the embeddings to provide information about the position of each token in the sequence. This is crucial because a self-attention mechanism doesn't inherently understand token order.\n",
        "\n",
        "Sentences may have different lengths, so shorter sentences are padded to match the longest sentence in the batch. Padding tokens are added to ensure a uniform length for sequences.\n",
        "\n",
        "then, the tokenized sentences (along with their embeddings and positional encodings) are transformed into tensors that our model can process.\n",
        "\n",
        "Masks are then generated to ensure that padded tokens are ignored during attention calculations, preventing the model from focusing on irrelevant padding positions.\n",
        "\n",
        "And finally.The processed sequences are grouped into batches to make training more efficient. Batching helps leverage parallel computation.\n",
        "\n",
        "4. What is teacher forcing, and how is it used in Transformer training? How does the decoder input differ?\n",
        "\n",
        "Teacher forcing is a technique where during training the model uses the actual target sequence as input for the decoder instead of model output from the previous step. Teacher forcing can help the model to converge faster by providing the correct context. The decoder input differs in that during training. The model sees the actual target, while during inference, it sees its own previous outputs.\n",
        "\n",
        "5. How are the two types of mask important to the attention mechanism (causal and padding) and how do they work? How do they differ between the encoder and decoder?\n",
        "\n",
        "Causal Mask is used in the decoder to prevent future tokens from being visible to the current token. This ensures the model generates tokens one step at a time and based only on the previous tokens. It doesn't give \"spoilers\" to the model.\n",
        "Padding Mask is used to mask padded positions in both the encoder and decoder, ensuring the model doesn’t attend to padded positions that are irrelevant.\n",
        "The encoder uses only padding masks, while the decoder uses both causal and padding masks. Causal masking is critical in the decoder to ensure autoregressive generation.\n",
        "\n",
        "6. What is a causal mask, and why is it only used in the decoder?\n",
        "\n",
        "The causal mask ensures that each token in the sequence only attends to past tokens and not future tokens during generation. This ensures the model predicts the next token based on the previous tokens and only the previous tokens. It is only used in the decoder because the decoder is responsible for autoregressive output generation, where tokens are generated one by one.\n",
        "\n",
        "7. Why does the decoder use both self-attention and encoder-decoder attention?\n",
        "\n",
        "The self-attention mechanism in the decoder helps the model to consider the relationships between previously generated tokens. The encoder-decoder attention helps the decoder focus on relevant parts of the input sequence when generating each output token.\n",
        "\n",
        "8. Why is the Transformer model parallelizable, and how does this improve efficiency compared to RNNs?\n",
        "\n",
        "Unlike RNNs, which process tokens sequentially, transformers can process entire sequences in parallel. This is because self-attention mechanism allows the model to process different parts of an input sequence simultaneously, rather than sequentially. And also a head of self attention does not need the other heads. It can work independently and in parallel.\n",
        "\n",
        "9. How does multi-head self-attention allow the model to capture different aspects of a sentence?\n",
        "\n",
        "Multi-head attention allows the model to apply multiple attention mechanisms in parallel. The interesting thing is that each head can focus on different parts of the sentence, capturing various relationships : syntax, semantics, or long-range dependencies. This helps the model gain a richer understanding of the input.\n",
        "\n",
        "10. What does the decoder's final output represent before the projection layer? What does the encoder's final output represent?\n",
        "\n",
        "the decoder’s output is a set of contextualized token embeddings that represent the understanding of the model of the sequence and the input from the encoder.\n",
        "The final output of the encoder is a set of embeddings representing the entire input sequence, which are used by the decoder to generate the output.\n",
        "\n",
        "11. What is the role of the final linear projection layer in the decoder?\n",
        "How does the decoder output differ between training (parallel processing) and inference (sequential generation)?\n",
        "\n",
        "The role of the final linear projection layer is to map the decoder's output embeddings to the size of the target vocabulary. It transforms the model’s contextualized representations into logits for each possible output token. In training, the decoder can process entire sequences in parallel, while during inference, tokens are generated sequentially, using the previously generated tokens as input.\n",
        "\n",
        "12. Why does the decoder recompute all outputs at each inference step instead of appending new outputs incrementally?\n",
        "\n",
        "Transformers recompute the entire sequence during each inference because it ensures consistency in the attention mechanism. And also each new token influences the attention distribution. Recomputing allows the model to incorporate the newly generated token in the context when predicting the next token."
      ],
      "metadata": {
        "id": "uHhixEEGzWRR"
      }
    },
    {
      "cell_type": "markdown",
      "source": [
        "# Small report - experiments"
      ],
      "metadata": {
        "id": "Y3tQdusIjPCy"
      }
    },
    {
      "cell_type": "markdown",
      "source": [
        "## Metrics\n",
        "\n",
        "This section presents the other metrics I used to evaluate a model."
      ],
      "metadata": {
        "id": "JZkYhzv8Rlgu"
      }
    },
    {
      "cell_type": "markdown",
      "source": [
        "Metrics used :\n",
        "\n",
        "\n",
        "*   [BLEU](https://en.wikipedia.org/wiki/BLEU) : evaluates how closely a machine-generated translation matches reference translations by comparing overlapping n-grams. BLEU compares the n-grams (sequences of words) in the machine-translated output to the n-grams in a reference translation. It focuses on precision : how many of the generated n-grams appear in the reference. BLEU also includes a brevity penalty to account for overly short translations.\n",
        "*   [ROUGE](https://en.wikipedia.org/wiki/ROUGE_(metric) : set of metrics that evaluates text based on recall by measuring the overlap between machine-generated content and reference text, often used in summarization tasks.\n",
        "* [METEOR](https://en.wikipedia.org/wiki/METEOR) : designed to address some of BLEU’s limitations by focusing on both precision and recall, and it also incorporates synonyms and stemming. METEOR aligns words in the generated translation and reference text based on exact matches, synonyms, and paraphrases. It then computes precision and recall scores, with recall weighted higher than precision. METEOR includes a penalty for fragmented alignments (when matches are far apart in the sentence).\n",
        "\n"
      ],
      "metadata": {
        "id": "beF_wQV5TWkV"
      }
    },
    {
      "cell_type": "code",
      "source": [
        "!pip install rouge_score"
      ],
      "metadata": {
        "id": "z-XQ3dxjFIR3",
        "colab": {
          "base_uri": "https://localhost:8080/"
        },
        "outputId": "65ff4ab2-b8a0-439e-908e-48d1d590bec9"
      },
      "execution_count": null,
      "outputs": [
        {
          "output_type": "stream",
          "name": "stdout",
          "text": [
            "Collecting rouge_score\n",
            "  Downloading rouge_score-0.1.2.tar.gz (17 kB)\n",
            "  Preparing metadata (setup.py) ... \u001b[?25l\u001b[?25hdone\n",
            "Requirement already satisfied: absl-py in /usr/local/lib/python3.11/dist-packages (from rouge_score) (1.4.0)\n",
            "Requirement already satisfied: nltk in /usr/local/lib/python3.11/dist-packages (from rouge_score) (3.9.1)\n",
            "Requirement already satisfied: numpy in /usr/local/lib/python3.11/dist-packages (from rouge_score) (1.23.5)\n",
            "Requirement already satisfied: six>=1.14.0 in /usr/local/lib/python3.11/dist-packages (from rouge_score) (1.17.0)\n",
            "Requirement already satisfied: click in /usr/local/lib/python3.11/dist-packages (from nltk->rouge_score) (8.1.8)\n",
            "Requirement already satisfied: joblib in /usr/local/lib/python3.11/dist-packages (from nltk->rouge_score) (1.4.2)\n",
            "Requirement already satisfied: regex>=2021.8.3 in /usr/local/lib/python3.11/dist-packages (from nltk->rouge_score) (2024.11.6)\n",
            "Requirement already satisfied: tqdm in /usr/local/lib/python3.11/dist-packages (from nltk->rouge_score) (4.67.1)\n",
            "Building wheels for collected packages: rouge_score\n",
            "  Building wheel for rouge_score (setup.py) ... \u001b[?25l\u001b[?25hdone\n",
            "  Created wheel for rouge_score: filename=rouge_score-0.1.2-py3-none-any.whl size=24935 sha256=042495c18222755ed58fdd4c958e1b30d9dcf9f9ef9de0c15d0d76b5ae9acd47\n",
            "  Stored in directory: /root/.cache/pip/wheels/1e/19/43/8a442dc83660ca25e163e1bd1f89919284ab0d0c1475475148\n",
            "Successfully built rouge_score\n",
            "Installing collected packages: rouge_score\n",
            "Successfully installed rouge_score-0.1.2\n"
          ]
        }
      ]
    },
    {
      "cell_type": "code",
      "source": [
        "import nltk\n",
        "nltk.download('wordnet')"
      ],
      "metadata": {
        "id": "eSe0pZAIRs-I",
        "colab": {
          "base_uri": "https://localhost:8080/"
        },
        "outputId": "49393fba-29a4-4a6a-d191-2e98edc0eff9"
      },
      "execution_count": null,
      "outputs": [
        {
          "output_type": "stream",
          "name": "stderr",
          "text": [
            "[nltk_data] Downloading package wordnet to /root/nltk_data...\n"
          ]
        },
        {
          "output_type": "execute_result",
          "data": {
            "text/plain": [
              "True"
            ]
          },
          "metadata": {},
          "execution_count": 27
        }
      ]
    },
    {
      "cell_type": "code",
      "source": [
        "\n",
        "from nltk.translate.bleu_score import sentence_bleu\n",
        "from rouge_score import rouge_scorer\n",
        "from nltk.translate.meteor_score import meteor_score\n",
        "\n",
        "def compute_bleu(reference, hypothesis):\n",
        "    \"\"\"\n",
        "    Computes BLEU score between the reference and hypothesis.\n",
        "\n",
        "    Args:\n",
        "        reference (List[str]): List of reference sentences.\n",
        "        hypothesis (List[str]): The predicted sentence.\n",
        "\n",
        "    Returns:\n",
        "        float: BLEU score.\n",
        "    \"\"\"\n",
        "    return sentence_bleu([reference], hypothesis)\n",
        "\n",
        "\n",
        "\n",
        "\n",
        "def compute_rouge(reference, hypothesis):\n",
        "    \"\"\"\n",
        "    Computes ROUGE scores between reference and hypothesis.\n",
        "\n",
        "    Args:\n",
        "        reference (str): Reference sentence.\n",
        "        hypothesis (str): Predicted sentence.\n",
        "\n",
        "    Returns:\n",
        "        dict: ROUGE scores (1, 2, L).\n",
        "    \"\"\"\n",
        "    scorer = rouge_scorer.RougeScorer(['rouge1', 'rouge2', 'rougeL'], use_stemmer=True)\n",
        "    return scorer.score(reference, hypothesis)\n",
        "\n",
        "\n",
        "\n",
        "\n",
        "def compute_meteor(reference, hypothesis):\n",
        "    \"\"\"\n",
        "    Computes METEOR score between the reference and hypothesis.\n",
        "\n",
        "    Args:\n",
        "        reference (List[str]): List of reference sentences.\n",
        "        hypothesis (str): Predicted sentence.\n",
        "\n",
        "    Returns:\n",
        "        float: METEOR score.\n",
        "    \"\"\"\n",
        "    return meteor_score([reference], hypothesis)\n",
        "\n",
        "def compute_metrics(reference, hypothesis):\n",
        "    bleu = compute_bleu(reference, hypothesis)\n",
        "    rouge = compute_rouge(' '.join(reference), ' '.join(hypothesis))\n",
        "    meteor = compute_meteor(reference, hypothesis)\n",
        "\n",
        "    metrics = {\n",
        "        'BLEU': bleu,\n",
        "        'ROUGE-1': rouge['rouge1'].fmeasure,\n",
        "        'ROUGE-2': rouge['rouge2'].fmeasure,\n",
        "        'ROUGE-L': rouge['rougeL'].fmeasure,\n",
        "        'METEOR': meteor\n",
        "    }\n",
        "\n",
        "    return metrics\n",
        "\n",
        "\n"
      ],
      "metadata": {
        "id": "DiOfqI8EOi65"
      },
      "execution_count": null,
      "outputs": []
    },
    {
      "cell_type": "code",
      "source": [
        "def get_metrics(model, sentence, reference, config, k=5, beam_width=10, max_target=100):\n",
        "  preds = beam_search(\n",
        "      model,\n",
        "      sentence,\n",
        "      config['src_vocab'],\n",
        "      config['tgt_vocab'],\n",
        "      config['src_tokenizer'],\n",
        "      config['device'],\n",
        "      beam_width=beam_width,\n",
        "      max_target=max_target,\n",
        "      max_sentence_length=config['max_sequence_length']\n",
        "  )[:k]\n",
        "  print(\"Beam Search : \")\n",
        "  for i, (translation, likelihood) in enumerate(preds):\n",
        "      print(f'{i}. ({likelihood*100:.5f}%) \\t {translation}')\n",
        "      metrics = compute_metrics(reference, translation.split())\n",
        "      for metric, value in metrics.items():\n",
        "          print(f\"{metric}: {value}\")\n",
        "      print()\n",
        "\n",
        "\n",
        "  pred_greedy_search = greedy_search(\n",
        "      model,\n",
        "      sentence,\n",
        "      config['src_vocab'],\n",
        "      config['tgt_vocab'],\n",
        "      config['src_tokenizer'],\n",
        "      config['device'],\n",
        "      max_sentence_length=config['max_sequence_length']\n",
        "  )\n",
        "\n",
        "  print(f'Greedy search: \\t {pred_greedy_search}')\n",
        "\n",
        "  metrics_greedy = compute_metrics(reference, pred_greedy_search.split())\n",
        "  for metric, value in metrics_greedy.items():\n",
        "      print(f\"{metric}: {value}\")"
      ],
      "metadata": {
        "id": "d5qvbt1Y6yg_"
      },
      "execution_count": null,
      "outputs": []
    },
    {
      "cell_type": "markdown",
      "source": [
        "## Learning rate scheduler"
      ],
      "metadata": {
        "id": "uZ5LPtB2E8Ql"
      }
    },
    {
      "cell_type": "markdown",
      "source": [
        " A learning rate scheduler is a tool used in training deep learning models to adjust the learning rate over time. This tool is used in the article Attention is all you need."
      ],
      "metadata": {
        "id": "mo6X5Kut_xMF"
      }
    },
    {
      "cell_type": "code",
      "source": [
        "class CustomLRScheduler:\n",
        "    def __init__(self, optimizer : optim, d_model : int, warmup_steps : int):\n",
        "        \"\"\" Initialize the scheduler\n",
        "        Args:\n",
        "            optimizer: The optimizer whose learning rate needs to be adjusted.\n",
        "            d_model: The model's dimensionality.\n",
        "            warmup_steps: The number of warmup steps.\n",
        "        \"\"\"\n",
        "        self.optimizer = optimizer\n",
        "        self.d_model = d_model\n",
        "        self.warmup_steps = warmup_steps\n",
        "        self.step_num = 0\n",
        "\n",
        "    def step(self):\n",
        "        \"\"\"Update the learning rate based on the current step number.\"\"\"\n",
        "        self.step_num += 1\n",
        "        lr = self._compute_lr()\n",
        "\n",
        "        for param_group in self.optimizer.param_groups:\n",
        "            param_group['lr'] = lr\n",
        "\n",
        "    def _compute_lr(self):\n",
        "        \"\"\"Compute the learning rate according to the formula.\"\"\"\n",
        "        lr = (self.d_model ** -0.5) * min(\n",
        "            self.step_num ** -0.5,\n",
        "            self.step_num * (self.warmup_steps ** -1.5)\n",
        "        )\n",
        "        return lr"
      ],
      "metadata": {
        "id": "2UJ8NmnxE-FA"
      },
      "execution_count": null,
      "outputs": []
    },
    {
      "cell_type": "markdown",
      "source": [
        "## RNN"
      ],
      "metadata": {
        "id": "bjQ17dWRjAMZ"
      }
    },
    {
      "cell_type": "code",
      "source": [
        "# Build the model, the dataloaders, optimizer and the loss function\n",
        "# Log every hyperparameters and arguments into the config dictionnary\n",
        "\n",
        "config = {\n",
        "    # General parameters\n",
        "    'epochs': 5,\n",
        "    'batch_size': 128,\n",
        "    'lr': 1e-3,\n",
        "    'betas': (0.9, 0.99),\n",
        "    'clip': 5,\n",
        "    'device': 'cuda' if torch.cuda.is_available() else 'cpu',\n",
        "\n",
        "    # Model parameters\n",
        "    'n_tokens_src': len(train_dataset.en_vocab),\n",
        "    'n_tokens_tgt': len(train_dataset.fr_vocab),\n",
        "    'n_heads': 4,\n",
        "    'dim_embedding': 196,\n",
        "    'dim_hidden': 256,\n",
        "    'n_layers': 3,\n",
        "    'dropout': 0.1,\n",
        "    'model_type': 'RNN',\n",
        "\n",
        "    # Others\n",
        "    'max_sequence_length': MAX_SEQ_LEN,\n",
        "    'min_token_freq': MIN_TOK_FREQ,\n",
        "    'src_vocab': train_dataset.en_vocab,\n",
        "    'tgt_vocab': train_dataset.fr_vocab,\n",
        "    'src_tokenizer': en_tokenizer,\n",
        "    'tgt_tokenizer': fr_tokenizer,\n",
        "    'src_pad_idx': train_dataset.en_vocab['<pad>'],\n",
        "    'tgt_pad_idx': train_dataset.fr_vocab['<pad>'],\n",
        "    'seed': 0,\n",
        "    'log_every': 50,  # Number of batches between each wandb logs\n",
        "}\n",
        "\n",
        "torch.manual_seed(config['seed'])\n",
        "\n",
        "config['train_loader'] = DataLoader(\n",
        "    train_dataset,\n",
        "    batch_size=config['batch_size'],\n",
        "    shuffle=True,\n",
        "    collate_fn=lambda batch: generate_batch(batch, config['src_pad_idx'], config['tgt_pad_idx'])\n",
        ")\n",
        "\n",
        "config['val_loader'] = DataLoader(\n",
        "    val_dataset,\n",
        "    batch_size=config['batch_size'],\n",
        "    shuffle=True,\n",
        "    collate_fn=lambda batch: generate_batch(batch, config['src_pad_idx'], config['tgt_pad_idx'])\n",
        ")\n",
        "\n",
        "# Uncomment code block to select model to train here!\n",
        "model = TranslationRNN(\n",
        "    config['n_tokens_src'],\n",
        "    config['n_tokens_tgt'],\n",
        "    config['dim_embedding'],\n",
        "    config['dim_hidden'],\n",
        "    config['n_layers'],\n",
        "    config['dropout'],\n",
        "    config['src_pad_idx'],\n",
        "    config['tgt_pad_idx'],\n",
        "    config['model_type'],\n",
        ")\n",
        "\n",
        "\n",
        "config['optimizer'] = optim.Adam(\n",
        "    model.parameters(),\n",
        "    lr=config['lr'],\n",
        "    betas=config['betas'],\n",
        ")\n",
        "\n",
        "weight_classes = torch.ones(config['n_tokens_tgt'], dtype=torch.float)\n",
        "weight_classes[config['tgt_vocab']['<unk>']] = 0.1  # Lower the importance of that class\n",
        "config['loss'] = nn.CrossEntropyLoss(\n",
        "    weight=weight_classes,\n",
        "    ignore_index=config['tgt_pad_idx'],  # We do not have to learn those\n",
        ")\n",
        "\n",
        "summary(\n",
        "    model,\n",
        "    input_size=[\n",
        "        (config['batch_size'], config['max_sequence_length']),\n",
        "        (config['batch_size'], config['max_sequence_length'])\n",
        "    ],\n",
        "    dtypes=[torch.long, torch.long],\n",
        "    depth=3,\n",
        ")"
      ],
      "metadata": {
        "id": "VRR07kL92B7G",
        "colab": {
          "base_uri": "https://localhost:8080/"
        },
        "outputId": "c0293f10-4811-473a-8550-738ea42e0706"
      },
      "execution_count": null,
      "outputs": [
        {
          "output_type": "execute_result",
          "data": {
            "text/plain": [
              "==========================================================================================\n",
              "Layer (type:depth-idx)                   Output Shape              Param #\n",
              "==========================================================================================\n",
              "TranslationRNN                           [128, 60, 18340]          --\n",
              "├─Embedding: 1-1                         [128, 60, 196]            2,382,184\n",
              "├─RNN: 1-2                               [128, 60, 256]            --\n",
              "│    └─ModuleList: 2-1                   --                        --\n",
              "│    │    └─RNNCell: 3-1                 [128, 60, 256]            116,224\n",
              "│    │    └─RNNCell: 3-2                 [128, 60, 256]            131,584\n",
              "│    │    └─RNNCell: 3-3                 [128, 60, 256]            131,584\n",
              "├─LayerNorm: 1-3                         [128, 3, 256]             512\n",
              "├─Embedding: 1-4                         [128, 60, 196]            3,594,640\n",
              "├─RNN: 1-5                               [128, 60, 256]            --\n",
              "│    └─ModuleList: 2-2                   --                        --\n",
              "│    │    └─RNNCell: 3-4                 [128, 60, 256]            116,224\n",
              "│    │    └─RNNCell: 3-5                 [128, 60, 256]            131,584\n",
              "│    │    └─RNNCell: 3-6                 [128, 60, 256]            131,584\n",
              "├─Linear: 1-6                            [128, 60, 18340]          4,713,380\n",
              "==========================================================================================\n",
              "Total params: 11,449,500\n",
              "Trainable params: 11,449,500\n",
              "Non-trainable params: 0\n",
              "Total mult-adds (Units.GIGABYTES): 7.20\n",
              "==========================================================================================\n",
              "Input size (MB): 0.12\n",
              "Forward/backward pass size (MB): 1340.42\n",
              "Params size (MB): 45.80\n",
              "Estimated Total Size (MB): 1386.35\n",
              "=========================================================================================="
            ]
          },
          "metadata": {},
          "execution_count": 26
        }
      ]
    },
    {
      "cell_type": "code",
      "source": [
        "!wandb online\n",
        "with wandb.init(\n",
        "        config=config,\n",
        "        project='INF8225',  # Title of your project\n",
        "        group='RNN',  # In what group of runs do you want this run to be in?\n",
        "        save_code=True,\n",
        "        name='RNN',\n",
        "    ):\n",
        "    train_model(model, config)\n",
        "wandb.finish()"
      ],
      "metadata": {
        "colab": {
          "base_uri": "https://localhost:8080/",
          "height": 1000
        },
        "id": "QvkYM1i52L9u",
        "outputId": "e630cc00-a202-4b17-ef01-c9ad87acbfa8"
      },
      "execution_count": null,
      "outputs": [
        {
          "output_type": "stream",
          "name": "stdout",
          "text": [
            "W&B online. Running your script from this directory will now sync to the cloud.\n"
          ]
        },
        {
          "output_type": "display_data",
          "data": {
            "text/plain": [
              "<IPython.core.display.HTML object>"
            ],
            "text/html": [
              "Tracking run with wandb version 0.19.8"
            ]
          },
          "metadata": {}
        },
        {
          "output_type": "display_data",
          "data": {
            "text/plain": [
              "<IPython.core.display.HTML object>"
            ],
            "text/html": [
              "Run data is saved locally in <code>/content/wandb/run-20250320_130114-ubskng3g</code>"
            ]
          },
          "metadata": {}
        },
        {
          "output_type": "display_data",
          "data": {
            "text/plain": [
              "<IPython.core.display.HTML object>"
            ],
            "text/html": [
              "Syncing run <strong><a href='https://wandb.ai/lukyoda-13-polytechnique-montr-al/INF8225/runs/ubskng3g' target=\"_blank\">RNN</a></strong> to <a href='https://wandb.ai/lukyoda-13-polytechnique-montr-al/INF8225' target=\"_blank\">Weights & Biases</a> (<a href='https://wandb.me/developer-guide' target=\"_blank\">docs</a>)<br>"
            ]
          },
          "metadata": {}
        },
        {
          "output_type": "display_data",
          "data": {
            "text/plain": [
              "<IPython.core.display.HTML object>"
            ],
            "text/html": [
              " View project at <a href='https://wandb.ai/lukyoda-13-polytechnique-montr-al/INF8225' target=\"_blank\">https://wandb.ai/lukyoda-13-polytechnique-montr-al/INF8225</a>"
            ]
          },
          "metadata": {}
        },
        {
          "output_type": "display_data",
          "data": {
            "text/plain": [
              "<IPython.core.display.HTML object>"
            ],
            "text/html": [
              " View run at <a href='https://wandb.ai/lukyoda-13-polytechnique-montr-al/INF8225/runs/ubskng3g' target=\"_blank\">https://wandb.ai/lukyoda-13-polytechnique-montr-al/INF8225/runs/ubskng3g</a>"
            ]
          },
          "metadata": {}
        },
        {
          "output_type": "stream",
          "name": "stdout",
          "text": [
            "Starting training for 5 epochs, using cuda.\n",
            "\n",
            "Epoch 1\n",
            "Train -   loss: 2.77     top-1: 0.49    top-5: 0.67    top-10: 0.74\n",
            "Eval -    loss: 2.68     top-1: 0.50    top-5: 0.68    top-10: 0.74\n",
            "Whose room is this?\n",
            "À quelle heure est-ce ?\n",
            "\n",
            "Epoch 2\n",
            "Train -   loss: 2.48     top-1: 0.53    top-5: 0.71    top-10: 0.77\n",
            "Eval -    loss: 2.41     top-1: 0.53    top-5: 0.72    top-10: 0.78\n",
            "The house was on fire.\n",
            "La maison était ouverte.\n",
            "\n",
            "Epoch 3\n",
            "Train -   loss: 2.35     top-1: 0.54    top-5: 0.73    top-10: 0.79\n",
            "Eval -    loss: 2.28     top-1: 0.54    top-5: 0.74    top-10: 0.79\n",
            "There isn't enough coffee for everyone.\n",
            "Il n'y a pas de travail à faire.\n",
            "\n",
            "Epoch 4\n",
            "Train -   loss: 2.29     top-1: 0.55    top-5: 0.74    top-10: 0.80\n",
            "Eval -    loss: 2.19     top-1: 0.56    top-5: 0.75    top-10: 0.81\n",
            "He lost his eyesight.\n",
            "Il perdit ses promesses.\n",
            "\n",
            "Epoch 5\n",
            "Train -   loss: 2.19     top-1: 0.56    top-5: 0.75    top-10: 0.81\n",
            "Eval -    loss: 2.14     top-1: 0.56    top-5: 0.76    top-10: 0.81\n",
            "She is used to staying up all night.\n",
            "Elle est allé à l'école aujourd'hui.\n"
          ]
        },
        {
          "output_type": "display_data",
          "data": {
            "text/plain": [
              "<IPython.core.display.HTML object>"
            ],
            "text/html": []
          },
          "metadata": {}
        },
        {
          "output_type": "display_data",
          "data": {
            "text/plain": [
              "<IPython.core.display.HTML object>"
            ],
            "text/html": [
              "<br>    <style><br>        .wandb-row {<br>            display: flex;<br>            flex-direction: row;<br>            flex-wrap: wrap;<br>            justify-content: flex-start;<br>            width: 100%;<br>        }<br>        .wandb-col {<br>            display: flex;<br>            flex-direction: column;<br>            flex-basis: 100%;<br>            flex: 1;<br>            padding: 10px;<br>        }<br>    </style><br><div class=\"wandb-row\"><div class=\"wandb-col\"><h3>Run history:</h3><br/><table class=\"wandb\"><tr><td>Train - loss</td><td>█▄▄▄▃▂▂▂▂▂▂▂▂▂▁▁▂▁▁▁▁▁▁▁▁▁▁▁▁▁▁▁▁▁▁▁▁▁▁▁</td></tr><tr><td>Train - top-1</td><td>▁▅▆▇▇▇▇▇▇▇▇▇▇▇▇█████████████████████████</td></tr><tr><td>Train - top-10</td><td>▁▂▄▆▆▆▆▆▇▇▇▇▇▇▇▇▇▇▇▇▇▇▇█████████████████</td></tr><tr><td>Train - top-5</td><td>▁▄▆▆▇▇▇▇▇▇▇▇▇▇▇▇▇▇▇█████████████████████</td></tr><tr><td>Validation - loss</td><td>█▄▃▂▁</td></tr><tr><td>Validation - top-1</td><td>▁▄▆▇█</td></tr><tr><td>Validation - top-10</td><td>▁▄▆▇█</td></tr><tr><td>Validation - top-5</td><td>▁▄▆▇█</td></tr></table><br/></div><div class=\"wandb-col\"><h3>Run summary:</h3><br/><table class=\"wandb\"><tr><td>Train - loss</td><td>2.19423</td></tr><tr><td>Train - top-1</td><td>0.55791</td></tr><tr><td>Train - top-10</td><td>0.80902</td></tr><tr><td>Train - top-5</td><td>0.75152</td></tr><tr><td>Validation - loss</td><td>2.14071</td></tr><tr><td>Validation - top-1</td><td>0.56359</td></tr><tr><td>Validation - top-10</td><td>0.81431</td></tr><tr><td>Validation - top-5</td><td>0.75849</td></tr></table><br/></div></div>"
            ]
          },
          "metadata": {}
        },
        {
          "output_type": "display_data",
          "data": {
            "text/plain": [
              "<IPython.core.display.HTML object>"
            ],
            "text/html": [
              " View run <strong style=\"color:#cdcd00\">RNN</strong> at: <a href='https://wandb.ai/lukyoda-13-polytechnique-montr-al/INF8225/runs/ubskng3g' target=\"_blank\">https://wandb.ai/lukyoda-13-polytechnique-montr-al/INF8225/runs/ubskng3g</a><br> View project at: <a href='https://wandb.ai/lukyoda-13-polytechnique-montr-al/INF8225' target=\"_blank\">https://wandb.ai/lukyoda-13-polytechnique-montr-al/INF8225</a><br>Synced 5 W&B file(s), 1 media file(s), 5 artifact file(s) and 0 other file(s)"
            ]
          },
          "metadata": {}
        },
        {
          "output_type": "display_data",
          "data": {
            "text/plain": [
              "<IPython.core.display.HTML object>"
            ],
            "text/html": [
              "Find logs at: <code>./wandb/run-20250320_130114-ubskng3g/logs</code>"
            ]
          },
          "metadata": {}
        }
      ]
    },
    {
      "cell_type": "code",
      "source": [
        "sentence = \"Iron Maiden is the best band in the world\"\n",
        "reference = [\"Iron\", \"Maiden\", \"est\", \"le\", \"meilleur\", \"groupe\", \"au\", \"monde\"]\n",
        "get_metrics(model, sentence, reference, config)"
      ],
      "metadata": {
        "id": "uz8nKzh32nHP",
        "colab": {
          "base_uri": "https://localhost:8080/"
        },
        "outputId": "51762329-f176-4ef0-d645-ec7381a60000"
      },
      "execution_count": null,
      "outputs": [
        {
          "output_type": "stream",
          "name": "stdout",
          "text": [
            "Beam Search : \n",
            "0. (0.00007%) \t Le Japon est la capitale de la gare.\n",
            "BLEU: 1.0832677820940877e-231\n",
            "ROUGE-1: 0.25\n",
            "ROUGE-2: 0.0\n",
            "ROUGE-L: 0.125\n",
            "METEOR: 0.125\n",
            "\n",
            "1. (0.00005%) \t Le Japon est la troisième source de classe.\n",
            "BLEU: 1.0832677820940877e-231\n",
            "ROUGE-1: 0.23529411764705882\n",
            "ROUGE-2: 0.0\n",
            "ROUGE-L: 0.11764705882352941\n",
            "METEOR: 0.125\n",
            "\n",
            "2. (0.00005%) \t Le monde est la capitale de la gare.\n",
            "BLEU: 1.2882297539194154e-231\n",
            "ROUGE-1: 0.375\n",
            "ROUGE-2: 0.0\n",
            "ROUGE-L: 0.25\n",
            "METEOR: 0.1875\n",
            "\n",
            "3. (0.00004%) \t Le monde est le plus grand fleuve du monde.\n",
            "BLEU: 6.7393716283177006e-155\n",
            "ROUGE-1: 0.35294117647058826\n",
            "ROUGE-2: 0.13333333333333333\n",
            "ROUGE-L: 0.35294117647058826\n",
            "METEOR: 0.3155006858710563\n",
            "\n",
            "4. (0.00003%) \t Les gens ont vu la différence entre les deux filles.\n",
            "BLEU: 0\n",
            "ROUGE-1: 0.0\n",
            "ROUGE-2: 0.0\n",
            "ROUGE-L: 0.0\n",
            "METEOR: 0.06097560975609756\n",
            "\n",
            "Greedy search: \t Les gens sont la même source de la nourriture de la vie.\n",
            "BLEU: 0\n",
            "ROUGE-1: 0.0\n",
            "ROUGE-2: 0.0\n",
            "ROUGE-L: 0.0\n",
            "METEOR: 0.05952380952380953\n"
          ]
        }
      ]
    },
    {
      "cell_type": "code",
      "source": [
        "sentence = \"the work is done\"\n",
        "reference = [\"le\", \"travail\", \"est\", \"fait\"]\n",
        "get_metrics(model, sentence, reference, config)"
      ],
      "metadata": {
        "id": "sYchP9WAtyQq",
        "outputId": "5b64c0f5-7cce-4c50-b915-77b1142e6698",
        "colab": {
          "base_uri": "https://localhost:8080/"
        }
      },
      "execution_count": null,
      "outputs": [
        {
          "output_type": "stream",
          "name": "stdout",
          "text": [
            "Beam Search : \n",
            "0. (1.14373%) \t Le téléphone sonne.\n",
            "BLEU: 0\n",
            "ROUGE-1: 0.22222222222222224\n",
            "ROUGE-2: 0.0\n",
            "ROUGE-L: 0.22222222222222224\n",
            "METEOR: 0.12820512820512822\n",
            "\n",
            "1. (0.18161%) \t Le chien sonne.\n",
            "BLEU: 0\n",
            "ROUGE-1: 0.28571428571428575\n",
            "ROUGE-2: 0.0\n",
            "ROUGE-L: 0.28571428571428575\n",
            "METEOR: 0.12820512820512822\n",
            "\n",
            "2. (0.14133%) \t La réponse.\n",
            "BLEU: 0\n",
            "ROUGE-1: 0.0\n",
            "ROUGE-2: 0.0\n",
            "ROUGE-L: 0.0\n",
            "METEOR: 0.0\n",
            "\n",
            "3. (0.13488%) \t Le chien s'est produit.\n",
            "BLEU: 0\n",
            "ROUGE-1: 0.4444444444444445\n",
            "ROUGE-2: 0.0\n",
            "ROUGE-L: 0.4444444444444445\n",
            "METEOR: 0.125\n",
            "\n",
            "4. (0.09769%) \t Je l'aime.\n",
            "BLEU: 0\n",
            "ROUGE-1: 0.0\n",
            "ROUGE-2: 0.0\n",
            "ROUGE-L: 0.0\n",
            "METEOR: 0.0\n",
            "\n",
            "Greedy search: \t Le chien est en train de rêver.\n",
            "BLEU: 1.1200407237786664e-231\n",
            "ROUGE-1: 0.3333333333333333\n",
            "ROUGE-2: 0.0\n",
            "ROUGE-L: 0.3333333333333333\n",
            "METEOR: 0.23255813953488375\n"
          ]
        }
      ]
    },
    {
      "cell_type": "markdown",
      "source": [
        "### GRU"
      ],
      "metadata": {
        "id": "JI7UXoByjBwu"
      }
    },
    {
      "cell_type": "code",
      "source": [
        "# Build the model, the dataloaders, optimizer and the loss function\n",
        "# Log every hyperparameters and arguments into the config dictionnary\n",
        "\n",
        "config = {\n",
        "    # General parameters\n",
        "    'epochs': 5,\n",
        "    'batch_size': 128,\n",
        "    'lr': 1e-3,\n",
        "    'betas': (0.9, 0.99),\n",
        "    'clip': 5,\n",
        "    'device': 'cuda' if torch.cuda.is_available() else 'cpu',\n",
        "\n",
        "    # Model parameters\n",
        "    'n_tokens_src': len(train_dataset.en_vocab),\n",
        "    'n_tokens_tgt': len(train_dataset.fr_vocab),\n",
        "    'n_heads': 4,\n",
        "    'dim_embedding': 196,\n",
        "    'dim_hidden': 256,\n",
        "    'n_layers': 3,\n",
        "    'dropout': 0.1,\n",
        "    'model_type': 'GRU',\n",
        "\n",
        "    # Others\n",
        "    'max_sequence_length': MAX_SEQ_LEN,\n",
        "    'min_token_freq': MIN_TOK_FREQ,\n",
        "    'src_vocab': train_dataset.en_vocab,\n",
        "    'tgt_vocab': train_dataset.fr_vocab,\n",
        "    'src_tokenizer': en_tokenizer,\n",
        "    'tgt_tokenizer': fr_tokenizer,\n",
        "    'src_pad_idx': train_dataset.en_vocab['<pad>'],\n",
        "    'tgt_pad_idx': train_dataset.fr_vocab['<pad>'],\n",
        "    'seed': 0,\n",
        "    'log_every': 50,  # Number of batches between each wandb logs\n",
        "}\n",
        "\n",
        "torch.manual_seed(config['seed'])\n",
        "\n",
        "config['train_loader'] = DataLoader(\n",
        "    train_dataset,\n",
        "    batch_size=config['batch_size'],\n",
        "    shuffle=True,\n",
        "    collate_fn=lambda batch: generate_batch(batch, config['src_pad_idx'], config['tgt_pad_idx'])\n",
        ")\n",
        "\n",
        "config['val_loader'] = DataLoader(\n",
        "    val_dataset,\n",
        "    batch_size=config['batch_size'],\n",
        "    shuffle=True,\n",
        "    collate_fn=lambda batch: generate_batch(batch, config['src_pad_idx'], config['tgt_pad_idx'])\n",
        ")\n",
        "\n",
        "# Uncomment code block to select model to train here!\n",
        "model = TranslationRNN(\n",
        "    config['n_tokens_src'],\n",
        "    config['n_tokens_tgt'],\n",
        "    config['dim_embedding'],\n",
        "    config['dim_hidden'],\n",
        "    config['n_layers'],\n",
        "    config['dropout'],\n",
        "    config['src_pad_idx'],\n",
        "    config['tgt_pad_idx'],\n",
        "    config['model_type'],\n",
        ")\n",
        "\n",
        "\n",
        "config['optimizer'] = optim.Adam(\n",
        "    model.parameters(),\n",
        "    lr=config['lr'],\n",
        "    betas=config['betas'],\n",
        ")\n",
        "\n",
        "weight_classes = torch.ones(config['n_tokens_tgt'], dtype=torch.float)\n",
        "weight_classes[config['tgt_vocab']['<unk>']] = 0.1  # Lower the importance of that class\n",
        "config['loss'] = nn.CrossEntropyLoss(\n",
        "    weight=weight_classes,\n",
        "    ignore_index=config['tgt_pad_idx'],  # We do not have to learn those\n",
        ")\n",
        "\n",
        "summary(\n",
        "    model,\n",
        "    input_size=[\n",
        "        (config['batch_size'], config['max_sequence_length']),\n",
        "        (config['batch_size'], config['max_sequence_length'])\n",
        "    ],\n",
        "    dtypes=[torch.long, torch.long],\n",
        "    depth=3,\n",
        ")"
      ],
      "metadata": {
        "id": "Z0xhfY01jCzU",
        "colab": {
          "base_uri": "https://localhost:8080/"
        },
        "outputId": "13f4fe8c-8a5e-4fcd-e7de-da00625e4cab"
      },
      "execution_count": null,
      "outputs": [
        {
          "output_type": "stream",
          "name": "stdout",
          "text": [
            "GRUCell\n",
            "GRUCell\n",
            "GRUCell\n",
            "GRUCell\n",
            "GRUCell\n",
            "GRUCell\n"
          ]
        },
        {
          "output_type": "execute_result",
          "data": {
            "text/plain": [
              "==========================================================================================\n",
              "Layer (type:depth-idx)                   Output Shape              Param #\n",
              "==========================================================================================\n",
              "TranslationRNN                           [128, 60, 18340]          --\n",
              "├─Embedding: 1-1                         [128, 60, 196]            2,382,184\n",
              "├─RNN: 1-2                               [128, 60, 256]            --\n",
              "│    └─ModuleList: 2-1                   --                        --\n",
              "│    │    └─GRUCell: 3-1                 [128, 60, 256]            348,672\n",
              "│    │    └─GRUCell: 3-2                 [128, 60, 256]            394,752\n",
              "│    │    └─GRUCell: 3-3                 [128, 60, 256]            394,752\n",
              "├─LayerNorm: 1-3                         [128, 3, 256]             512\n",
              "├─Embedding: 1-4                         [128, 60, 196]            3,594,640\n",
              "├─RNN: 1-5                               [128, 60, 256]            --\n",
              "│    └─ModuleList: 2-2                   --                        --\n",
              "│    │    └─GRUCell: 3-4                 [128, 60, 256]            348,672\n",
              "│    │    └─GRUCell: 3-5                 [128, 60, 256]            394,752\n",
              "│    │    └─GRUCell: 3-6                 [128, 60, 256]            394,752\n",
              "├─Linear: 1-6                            [128, 60, 18340]          4,713,380\n",
              "==========================================================================================\n",
              "Total params: 12,967,068\n",
              "Trainable params: 12,967,068\n",
              "Non-trainable params: 0\n",
              "Total mult-adds (Units.GIGABYTES): 18.85\n",
              "==========================================================================================\n",
              "Input size (MB): 0.12\n",
              "Forward/backward pass size (MB): 1717.91\n",
              "Params size (MB): 51.87\n",
              "Estimated Total Size (MB): 1769.90\n",
              "=========================================================================================="
            ]
          },
          "metadata": {},
          "execution_count": 21
        }
      ]
    },
    {
      "cell_type": "code",
      "source": [
        "!wandb online\n",
        "with wandb.init(\n",
        "        config=config,\n",
        "        project='INF8225',  # Title of your project\n",
        "        group='RNN',  # In what group of runs do you want this run to be in?\n",
        "        save_code=True,\n",
        "        name='GRU',\n",
        "    ):\n",
        "    train_model(model, config)\n",
        "wandb.finish()"
      ],
      "metadata": {
        "colab": {
          "base_uri": "https://localhost:8080/",
          "height": 1000
        },
        "id": "9MidOn3oqkAp",
        "outputId": "939b038e-5190-4776-ea06-0041e50800b6"
      },
      "execution_count": null,
      "outputs": [
        {
          "output_type": "stream",
          "name": "stdout",
          "text": [
            "W&B online. Running your script from this directory will now sync to the cloud.\n"
          ]
        },
        {
          "output_type": "stream",
          "name": "stderr",
          "text": [
            "\u001b[34m\u001b[1mwandb\u001b[0m: Using wandb-core as the SDK backend.  Please refer to https://wandb.me/wandb-core for more information.\n",
            "\u001b[34m\u001b[1mwandb\u001b[0m: Currently logged in as: \u001b[33mlukyoda-13\u001b[0m (\u001b[33mlukyoda-13-polytechnique-montr-al\u001b[0m) to \u001b[32mhttps://api.wandb.ai\u001b[0m. Use \u001b[1m`wandb login --relogin`\u001b[0m to force relogin\n"
          ]
        },
        {
          "output_type": "display_data",
          "data": {
            "text/plain": [
              "<IPython.core.display.HTML object>"
            ],
            "text/html": [
              "Tracking run with wandb version 0.19.8"
            ]
          },
          "metadata": {}
        },
        {
          "output_type": "display_data",
          "data": {
            "text/plain": [
              "<IPython.core.display.HTML object>"
            ],
            "text/html": [
              "Run data is saved locally in <code>/content/wandb/run-20250320_122208-ai3x7sks</code>"
            ]
          },
          "metadata": {}
        },
        {
          "output_type": "display_data",
          "data": {
            "text/plain": [
              "<IPython.core.display.HTML object>"
            ],
            "text/html": [
              "Syncing run <strong><a href='https://wandb.ai/lukyoda-13-polytechnique-montr-al/INF8225/runs/ai3x7sks' target=\"_blank\">GRU</a></strong> to <a href='https://wandb.ai/lukyoda-13-polytechnique-montr-al/INF8225' target=\"_blank\">Weights & Biases</a> (<a href='https://wandb.me/developer-guide' target=\"_blank\">docs</a>)<br>"
            ]
          },
          "metadata": {}
        },
        {
          "output_type": "display_data",
          "data": {
            "text/plain": [
              "<IPython.core.display.HTML object>"
            ],
            "text/html": [
              " View project at <a href='https://wandb.ai/lukyoda-13-polytechnique-montr-al/INF8225' target=\"_blank\">https://wandb.ai/lukyoda-13-polytechnique-montr-al/INF8225</a>"
            ]
          },
          "metadata": {}
        },
        {
          "output_type": "display_data",
          "data": {
            "text/plain": [
              "<IPython.core.display.HTML object>"
            ],
            "text/html": [
              " View run at <a href='https://wandb.ai/lukyoda-13-polytechnique-montr-al/INF8225/runs/ai3x7sks' target=\"_blank\">https://wandb.ai/lukyoda-13-polytechnique-montr-al/INF8225/runs/ai3x7sks</a>"
            ]
          },
          "metadata": {}
        },
        {
          "output_type": "stream",
          "name": "stdout",
          "text": [
            "Starting training for 5 epochs, using cuda.\n",
            "\n",
            "Epoch 1\n",
            "Train -   loss: 1.90     top-1: 0.63    top-5: 0.82    top-10: 0.86\n",
            "Eval -    loss: 1.79     top-1: 0.64    top-5: 0.83    top-10: 0.87\n",
            "Whose room is this?\n",
            "À qui est cette pièce ?\n",
            "\n",
            "Epoch 2\n",
            "Train -   loss: 1.49     top-1: 0.69    top-5: 0.87    top-10: 0.90\n",
            "Eval -    loss: 1.45     top-1: 0.69    top-5: 0.87    top-10: 0.90\n",
            "The house was on fire.\n",
            "La maison était feu.\n",
            "\n",
            "Epoch 3\n",
            "Train -   loss: 1.34     top-1: 0.70    top-5: 0.89    top-10: 0.92\n",
            "Eval -    loss: 1.32     top-1: 0.71    top-5: 0.88    top-10: 0.91\n",
            "There isn't enough coffee for everyone.\n",
            "Il n'y a pas assez de café pour tout le monde.\n",
            "\n",
            "Epoch 4\n",
            "Train -   loss: 1.27     top-1: 0.72    top-5: 0.89    top-10: 0.92\n",
            "Eval -    loss: 1.25     top-1: 0.72    top-5: 0.89    top-10: 0.92\n",
            "He lost his eyesight.\n",
            "Il perdit la vue.\n",
            "\n",
            "Epoch 5\n",
            "Train -   loss: 1.17     top-1: 0.73    top-5: 0.90    top-10: 0.93\n",
            "Eval -    loss: 1.21     top-1: 0.73    top-5: 0.90    top-10: 0.93\n",
            "She is used to staying up all night.\n",
            "Elle est habitué à rester debout toute la nuit.\n"
          ]
        },
        {
          "output_type": "display_data",
          "data": {
            "text/plain": [
              "<IPython.core.display.HTML object>"
            ],
            "text/html": []
          },
          "metadata": {}
        },
        {
          "output_type": "display_data",
          "data": {
            "text/plain": [
              "<IPython.core.display.HTML object>"
            ],
            "text/html": [
              "<br>    <style><br>        .wandb-row {<br>            display: flex;<br>            flex-direction: row;<br>            flex-wrap: wrap;<br>            justify-content: flex-start;<br>            width: 100%;<br>        }<br>        .wandb-col {<br>            display: flex;<br>            flex-direction: column;<br>            flex-basis: 100%;<br>            flex: 1;<br>            padding: 10px;<br>        }<br>    </style><br><div class=\"wandb-row\"><div class=\"wandb-col\"><h3>Run history:</h3><br/><table class=\"wandb\"><tr><td>Train - loss</td><td>█▃▃▂▂▂▂▂▂▁▁▁▁▁▁▁▁▁▁▁▁▁▁▁▁▁▁▁▁▁▁▁▁▁▁▁▁▁▁▁</td></tr><tr><td>Train - top-1</td><td>▁▄▅▆▆▇▇▇▇▇▇▇▇▇▇█████████████████████████</td></tr><tr><td>Train - top-10</td><td>▁▂▃▃▄▅▆▆▆▆▇▇▇▇▇▇▇▇▇▇▇███████████████████</td></tr><tr><td>Train - top-5</td><td>▁▃▄▆▆▆▆▆▆▇▇▇▇▇▇█████████████████████████</td></tr><tr><td>Validation - loss</td><td>█▄▂▁▁</td></tr><tr><td>Validation - top-1</td><td>▁▅▇▇█</td></tr><tr><td>Validation - top-10</td><td>▁▅▇██</td></tr><tr><td>Validation - top-5</td><td>▁▅▇██</td></tr></table><br/></div><div class=\"wandb-col\"><h3>Run summary:</h3><br/><table class=\"wandb\"><tr><td>Train - loss</td><td>1.17065</td></tr><tr><td>Train - top-1</td><td>0.7324</td></tr><tr><td>Train - top-10</td><td>0.93063</td></tr><tr><td>Train - top-5</td><td>0.90248</td></tr><tr><td>Validation - loss</td><td>1.21256</td></tr><tr><td>Validation - top-1</td><td>0.72795</td></tr><tr><td>Validation - top-10</td><td>0.92509</td></tr><tr><td>Validation - top-5</td><td>0.89587</td></tr></table><br/></div></div>"
            ]
          },
          "metadata": {}
        },
        {
          "output_type": "display_data",
          "data": {
            "text/plain": [
              "<IPython.core.display.HTML object>"
            ],
            "text/html": [
              " View run <strong style=\"color:#cdcd00\">GRU</strong> at: <a href='https://wandb.ai/lukyoda-13-polytechnique-montr-al/INF8225/runs/ai3x7sks' target=\"_blank\">https://wandb.ai/lukyoda-13-polytechnique-montr-al/INF8225/runs/ai3x7sks</a><br> View project at: <a href='https://wandb.ai/lukyoda-13-polytechnique-montr-al/INF8225' target=\"_blank\">https://wandb.ai/lukyoda-13-polytechnique-montr-al/INF8225</a><br>Synced 5 W&B file(s), 1 media file(s), 5 artifact file(s) and 0 other file(s)"
            ]
          },
          "metadata": {}
        },
        {
          "output_type": "display_data",
          "data": {
            "text/plain": [
              "<IPython.core.display.HTML object>"
            ],
            "text/html": [
              "Find logs at: <code>./wandb/run-20250320_122208-ai3x7sks/logs</code>"
            ]
          },
          "metadata": {}
        }
      ]
    },
    {
      "cell_type": "code",
      "source": [
        "sentence = \"Iron Maiden is the best band in the world\"\n",
        "reference = [\"Iron\", \"Maiden\", \"est\", \"le\", \"meilleur\", \"groupe\", \"au\", \"monde\"]\n",
        "get_metrics(model, sentence, reference, config)"
      ],
      "metadata": {
        "colab": {
          "base_uri": "https://localhost:8080/"
        },
        "id": "DkCZPRrjf6KJ",
        "outputId": "b2de753c-4957-4797-daef-d52fe797c92d"
      },
      "execution_count": null,
      "outputs": [
        {
          "output_type": "stream",
          "name": "stdout",
          "text": [
            "Beam Search : \n",
            "0. (0.04919%) \t Le beurre est le meilleur garçon du monde ?\n"
          ]
        },
        {
          "output_type": "stream",
          "name": "stderr",
          "text": [
            "/usr/local/lib/python3.11/dist-packages/nltk/translate/bleu_score.py:577: UserWarning: \n",
            "The hypothesis contains 0 counts of 4-gram overlaps.\n",
            "Therefore the BLEU score evaluates to 0, independently of\n",
            "how many N-gram overlaps of lower order it contains.\n",
            "Consider using lower n-gram order or use SmoothingFunction()\n",
            "  warnings.warn(_msg)\n"
          ]
        },
        {
          "output_type": "stream",
          "name": "stdout",
          "text": [
            "BLEU: 4.335118471269586e-78\n",
            "ROUGE-1: 0.47058823529411764\n",
            "ROUGE-2: 0.26666666666666666\n",
            "ROUGE-L: 0.47058823529411764\n",
            "METEOR: 0.46296296296296297\n",
            "\n",
            "1. (0.01414%) \t Le pain est le meilleur garçon du monde ?\n",
            "BLEU: 4.335118471269586e-78\n",
            "ROUGE-1: 0.47058823529411764\n",
            "ROUGE-2: 0.26666666666666666\n",
            "ROUGE-L: 0.47058823529411764\n",
            "METEOR: 0.46296296296296297\n",
            "\n",
            "2. (0.01374%) \t Le beurre est le meilleur garçon du monde du monde.\n",
            "BLEU: 3.965294799986402e-78\n",
            "ROUGE-1: 0.4210526315789474\n",
            "ROUGE-2: 0.23529411764705882\n",
            "ROUGE-L: 0.4210526315789474\n",
            "METEOR: 0.45731707317073167\n",
            "\n",
            "3. (0.01289%) \t Le blâmer est le meilleur garçon du monde ?\n",
            "BLEU: 4.335118471269586e-78\n",
            "ROUGE-1: 0.4444444444444445\n",
            "ROUGE-2: 0.25\n",
            "ROUGE-L: 0.4444444444444445\n",
            "METEOR: 0.46296296296296297\n",
            "\n",
            "4. (0.01022%) \t Le beurre est le meilleur garçon du monde.\n",
            "BLEU: 4.4646672960328985e-78\n",
            "ROUGE-1: 0.47058823529411764\n",
            "ROUGE-2: 0.26666666666666666\n",
            "ROUGE-L: 0.47058823529411764\n",
            "METEOR: 0.3680555555555556\n",
            "\n",
            "Greedy search: \t Le beurre est le plus grand de la meilleure source du monde.\n",
            "BLEU: 5.233427736988301e-155\n",
            "ROUGE-1: 0.4\n",
            "ROUGE-2: 0.1111111111111111\n",
            "ROUGE-L: 0.4\n",
            "METEOR: 0.30423280423280424\n"
          ]
        },
        {
          "output_type": "stream",
          "name": "stderr",
          "text": [
            "/usr/local/lib/python3.11/dist-packages/nltk/translate/bleu_score.py:577: UserWarning: \n",
            "The hypothesis contains 0 counts of 3-gram overlaps.\n",
            "Therefore the BLEU score evaluates to 0, independently of\n",
            "how many N-gram overlaps of lower order it contains.\n",
            "Consider using lower n-gram order or use SmoothingFunction()\n",
            "  warnings.warn(_msg)\n"
          ]
        }
      ]
    },
    {
      "cell_type": "code",
      "source": [
        "sentence = \"the work is done\"\n",
        "reference = [\"le\", \"travail\", \"est\", \"fait\"]\n",
        "get_metrics(model, sentence, reference, config)"
      ],
      "metadata": {
        "colab": {
          "base_uri": "https://localhost:8080/"
        },
        "id": "lMZ_ln-Hodo1",
        "outputId": "534bd4eb-5c71-47e3-d506-c6d2c099a111"
      },
      "execution_count": null,
      "outputs": [
        {
          "output_type": "stream",
          "name": "stdout",
          "text": [
            "Beam Search : \n",
            "0. (2.46919%) \t Tout est le travail ?\n",
            "BLEU: 9.283142785759642e-155\n",
            "ROUGE-1: 0.75\n",
            "ROUGE-2: 0.3333333333333333\n",
            "ROUGE-L: 0.5\n",
            "METEOR: 0.6233062330623306\n",
            "\n",
            "1. (2.34901%) \t Tout est le travail.\n",
            "BLEU: 1.5319719891192393e-231\n",
            "ROUGE-1: 0.75\n",
            "ROUGE-2: 0.3333333333333333\n",
            "ROUGE-L: 0.5\n",
            "METEOR: 0.25\n",
            "\n",
            "2. (1.99484%) \t Le travail est le travail.\n",
            "BLEU: 9.283142785759642e-155\n",
            "ROUGE-1: 0.6666666666666665\n",
            "ROUGE-2: 0.5714285714285715\n",
            "ROUGE-L: 0.6666666666666665\n",
            "METEOR: 0.6233062330623306\n",
            "\n",
            "3. (1.65739%) \t Le travail est fait.\n",
            "BLEU: 9.53091075863908e-155\n",
            "ROUGE-1: 1.0\n",
            "ROUGE-2: 1.0\n",
            "ROUGE-L: 1.0\n",
            "METEOR: 0.7361111111111112\n",
            "\n",
            "4. (1.23024%) \t Tout est le travail   ?\n",
            "BLEU: 9.283142785759642e-155\n",
            "ROUGE-1: 0.75\n",
            "ROUGE-2: 0.3333333333333333\n",
            "ROUGE-L: 0.5\n",
            "METEOR: 0.6233062330623306\n",
            "\n",
            "Greedy search: \t Le travail est fait du travail.\n",
            "BLEU: 5.775353993361614e-78\n",
            "ROUGE-1: 0.8\n",
            "ROUGE-2: 0.7499999999999999\n",
            "ROUGE-L: 0.8\n",
            "METEOR: 0.9449404761904763\n"
          ]
        },
        {
          "output_type": "stream",
          "name": "stderr",
          "text": [
            "/usr/local/lib/python3.11/dist-packages/nltk/translate/bleu_score.py:577: UserWarning: \n",
            "The hypothesis contains 0 counts of 2-gram overlaps.\n",
            "Therefore the BLEU score evaluates to 0, independently of\n",
            "how many N-gram overlaps of lower order it contains.\n",
            "Consider using lower n-gram order or use SmoothingFunction()\n",
            "  warnings.warn(_msg)\n"
          ]
        }
      ]
    },
    {
      "cell_type": "markdown",
      "source": [
        "### Summary"
      ],
      "metadata": {
        "id": "EvGynA5MCY5R"
      }
    },
    {
      "cell_type": "markdown",
      "source": [
        "<img src=\"https://drive.google.com/uc?id=1YwDbJVPmarJrGhXBDAffl8jF_BVgcWKJ\" alt=\"RNN\" width=\"700\"/>\n"
      ],
      "metadata": {
        "id": "ze0Ec_P-Clpk"
      }
    },
    {
      "cell_type": "markdown",
      "source": [
        "<img src=\"https://drive.google.com/uc?id=1tdgNIwexsdyd8aSAf_4fF9tBdRup19Eg\" alt=\"RNN\" width=\"700\"/>"
      ],
      "metadata": {
        "id": "rocP6A4rCzB_"
      }
    },
    {
      "cell_type": "markdown",
      "source": [
        "GRU seems to be a better model for translation. However the model struggles to generalize because the translations of the instances are not well translated."
      ],
      "metadata": {
        "id": "8A0bMTJiC_w9"
      }
    },
    {
      "cell_type": "markdown",
      "source": [
        "## Transformer Architectures\n",
        "This section presents a few of the best architectures I created."
      ],
      "metadata": {
        "id": "18bYK_8IRhM-"
      }
    },
    {
      "cell_type": "markdown",
      "source": [
        "### First architecture"
      ],
      "metadata": {
        "id": "TF8HYEqIUlab"
      }
    },
    {
      "cell_type": "code",
      "source": [
        "!wandb online\n",
        "\n",
        "# Build the model, the dataloaders, optimizer and the loss function\n",
        "# Log every hyperparameters and arguments into the config dictionnary\n",
        "\n",
        "config = {\n",
        "    # General parameters\n",
        "    'epochs': 10,\n",
        "    'batch_size': 128,\n",
        "    'lr': 1e-3,\n",
        "    'betas': (0.9, 0.99),\n",
        "    'clip': 5,\n",
        "    'device': 'cuda' if torch.cuda.is_available() else 'cpu',\n",
        "\n",
        "    # Model parameters\n",
        "    'n_tokens_src': len(train_dataset.en_vocab),\n",
        "    'n_tokens_tgt': len(train_dataset.fr_vocab),\n",
        "    'n_heads': 4,\n",
        "    'dim_embedding': 196,\n",
        "    'dim_hidden': 256,\n",
        "    'n_layers': 1,\n",
        "    'dropout': 0.1,\n",
        "    'model_type': 'RNN',\n",
        "\n",
        "    # Others\n",
        "    'max_sequence_length': MAX_SEQ_LEN,\n",
        "    'min_token_freq': MIN_TOK_FREQ,\n",
        "    'src_vocab': train_dataset.en_vocab,\n",
        "    'tgt_vocab': train_dataset.fr_vocab,\n",
        "    'src_tokenizer': en_tokenizer,\n",
        "    'tgt_tokenizer': fr_tokenizer,\n",
        "    'src_pad_idx': train_dataset.en_vocab['<pad>'],\n",
        "    'tgt_pad_idx': train_dataset.fr_vocab['<pad>'],\n",
        "    'seed': 0,\n",
        "    'log_every': 50,  # Number of batches between each wandb logs\n",
        "}\n",
        "\n",
        "torch.manual_seed(config['seed'])\n",
        "\n",
        "config['train_loader'] = DataLoader(\n",
        "    train_dataset,\n",
        "    batch_size=config['batch_size'],\n",
        "    shuffle=True,\n",
        "    collate_fn=lambda batch: generate_batch(batch, config['src_pad_idx'], config['tgt_pad_idx'])\n",
        ")\n",
        "\n",
        "config['val_loader'] = DataLoader(\n",
        "    val_dataset,\n",
        "    batch_size=config['batch_size'],\n",
        "    shuffle=True,\n",
        "    collate_fn=lambda batch: generate_batch(batch, config['src_pad_idx'], config['tgt_pad_idx'])\n",
        ")\n",
        "\n",
        "model = TranslationTransformer(\n",
        "    config['n_tokens_src'],\n",
        "    config['n_tokens_tgt'],\n",
        "    config['n_heads'],\n",
        "    config['dim_embedding'],\n",
        "    config['dim_hidden'],\n",
        "    config['n_layers'],\n",
        "    config['dropout'],\n",
        "    config['src_pad_idx'],\n",
        "    config['tgt_pad_idx'],\n",
        ")\n",
        "\n",
        "\n",
        "config['optimizer'] = optim.Adam(\n",
        "    model.parameters(),\n",
        "    lr=config['lr'],\n",
        "    betas=config['betas'],\n",
        ")\n",
        "\n",
        "weight_classes = torch.ones(config['n_tokens_tgt'], dtype=torch.float)\n",
        "weight_classes[config['tgt_vocab']['<unk>']] = 0.1  # Lower the importance of that class\n",
        "config['loss'] = nn.CrossEntropyLoss(\n",
        "    weight=weight_classes,\n",
        "    ignore_index=config['tgt_pad_idx'],  # We do not have to learn those\n",
        ")\n",
        "\n",
        "summary(\n",
        "    model,\n",
        "    input_size=[\n",
        "        (config['batch_size'], config['max_sequence_length']),\n",
        "        (config['batch_size'], config['max_sequence_length'])\n",
        "    ],\n",
        "    dtypes=[torch.long, torch.long],\n",
        "    depth=3,\n",
        ")\n",
        "\n"
      ],
      "metadata": {
        "id": "Xnr3idFeByP6",
        "colab": {
          "base_uri": "https://localhost:8080/"
        },
        "outputId": "13c741d0-d9ea-4108-a982-938bf932ce12"
      },
      "execution_count": null,
      "outputs": [
        {
          "output_type": "stream",
          "name": "stdout",
          "text": [
            "W&B online. Running your script from this directory will now sync to the cloud.\n"
          ]
        },
        {
          "output_type": "execute_result",
          "data": {
            "text/plain": [
              "====================================================================================================\n",
              "Layer (type:depth-idx)                             Output Shape              Param #\n",
              "====================================================================================================\n",
              "TranslationTransformer                             [128, 60, 18340]          --\n",
              "├─Embedding: 1-1                                   [128, 60, 196]            2,382,184\n",
              "├─Embedding: 1-2                                   [128, 60, 196]            100,352\n",
              "├─Embedding: 1-3                                   [128, 60, 196]            3,594,640\n",
              "├─Embedding: 1-4                                   [128, 60, 196]            100,352\n",
              "├─Transformer: 1-5                                 [128, 60, 196]            --\n",
              "│    └─TransformerEncoder: 2-1                     [128, 60, 196]            --\n",
              "│    │    └─ModuleList: 3-1                        --                        256,036\n",
              "│    └─TransformerDecoder: 2-2                     [128, 60, 196]            --\n",
              "│    │    └─ModuleList: 3-2                        --                        410,876\n",
              "├─Linear: 1-6                                      [128, 60, 18340]          3,612,980\n",
              "====================================================================================================\n",
              "Total params: 10,457,420\n",
              "Trainable params: 10,457,420\n",
              "Non-trainable params: 0\n",
              "Total mult-adds (Units.GIGABYTES): 1.34\n",
              "====================================================================================================\n",
              "Input size (MB): 0.12\n",
              "Forward/backward pass size (MB): 1435.24\n",
              "Params size (MB): 41.83\n",
              "Estimated Total Size (MB): 1477.19\n",
              "===================================================================================================="
            ]
          },
          "metadata": {},
          "execution_count": 56
        }
      ]
    },
    {
      "cell_type": "code",
      "source": [
        "with wandb.init(\n",
        "        config=config,\n",
        "        project='INF8225',  # Title of your project\n",
        "        group='Transformers',  # In what group of runs do you want this run to be in?\n",
        "        save_code=True,\n",
        "        name='first architecture',\n",
        "    ):\n",
        "    train_model(model, config)\n",
        "wandb.finish()"
      ],
      "metadata": {
        "colab": {
          "base_uri": "https://localhost:8080/",
          "height": 1000
        },
        "id": "sFdByui95wEM",
        "outputId": "a5d38db7-62f6-416e-fba6-f09c80c348c5"
      },
      "execution_count": null,
      "outputs": [
        {
          "output_type": "display_data",
          "data": {
            "text/plain": [
              "<IPython.core.display.HTML object>"
            ],
            "text/html": [
              "Tracking run with wandb version 0.19.8"
            ]
          },
          "metadata": {}
        },
        {
          "output_type": "display_data",
          "data": {
            "text/plain": [
              "<IPython.core.display.HTML object>"
            ],
            "text/html": [
              "Run data is saved locally in <code>/content/wandb/run-20250315_222559-eyc47829</code>"
            ]
          },
          "metadata": {}
        },
        {
          "output_type": "display_data",
          "data": {
            "text/plain": [
              "<IPython.core.display.HTML object>"
            ],
            "text/html": [
              "Syncing run <strong><a href='https://wandb.ai/lukyoda-13-polytechnique-montr-al/INF8225/runs/eyc47829' target=\"_blank\">first architecture</a></strong> to <a href='https://wandb.ai/lukyoda-13-polytechnique-montr-al/INF8225' target=\"_blank\">Weights & Biases</a> (<a href='https://wandb.me/developer-guide' target=\"_blank\">docs</a>)<br>"
            ]
          },
          "metadata": {}
        },
        {
          "output_type": "display_data",
          "data": {
            "text/plain": [
              "<IPython.core.display.HTML object>"
            ],
            "text/html": [
              " View project at <a href='https://wandb.ai/lukyoda-13-polytechnique-montr-al/INF8225' target=\"_blank\">https://wandb.ai/lukyoda-13-polytechnique-montr-al/INF8225</a>"
            ]
          },
          "metadata": {}
        },
        {
          "output_type": "display_data",
          "data": {
            "text/plain": [
              "<IPython.core.display.HTML object>"
            ],
            "text/html": [
              " View run at <a href='https://wandb.ai/lukyoda-13-polytechnique-montr-al/INF8225/runs/eyc47829' target=\"_blank\">https://wandb.ai/lukyoda-13-polytechnique-montr-al/INF8225/runs/eyc47829</a>"
            ]
          },
          "metadata": {}
        },
        {
          "output_type": "stream",
          "name": "stdout",
          "text": [
            "Starting training for 10 epochs, using cuda.\n",
            "\n",
            "Epoch 1\n",
            "Train -   loss: 1.96     top-1: 0.62    top-5: 0.81    top-10: 0.85\n",
            "Eval -    loss: 1.74     top-1: 0.65    top-5: 0.83    top-10: 0.87\n",
            "You never asked what I wanted.\n",
            "Tu n'as jamais demandé ce que je voulais.\n",
            "\n",
            "Epoch 2\n",
            "Train -   loss: 1.60     top-1: 0.67    top-5: 0.85    top-10: 0.89\n",
            "Eval -    loss: 1.44     top-1: 0.69    top-5: 0.87    top-10: 0.90\n",
            "Have you read this book already?\n",
            "Avez-vous déjà lu ce livre ?\n",
            "\n",
            "Epoch 3\n",
            "Train -   loss: 1.43     top-1: 0.69    top-5: 0.88    top-10: 0.91\n",
            "Eval -    loss: 1.31     top-1: 0.71    top-5: 0.89    top-10: 0.92\n",
            "He is playing in his room.\n",
            "Il joue dans sa chambre.\n",
            "\n",
            "Epoch 4\n",
            "Train -   loss: 1.35     top-1: 0.70    top-5: 0.88    top-10: 0.92\n",
            "Eval -    loss: 1.23     top-1: 0.73    top-5: 0.90    top-10: 0.92\n",
            "I wish my girlfriend would spend more time with me.\n",
            "J'aimerais que ma petite amie passe davantage de temps avec moi.\n",
            "\n",
            "Epoch 5\n",
            "Train -   loss: 1.24     top-1: 0.72    top-5: 0.90    top-10: 0.93\n",
            "Eval -    loss: 1.18     top-1: 0.74    top-5: 0.90    top-10: 0.93\n",
            "He was so sad that he almost went mad.\n",
            "Il était si triste qu'il est parti.\n",
            "\n",
            "Epoch 6\n",
            "Train -   loss: 1.21     top-1: 0.73    top-5: 0.90    top-10: 0.93\n",
            "Eval -    loss: 1.15     top-1: 0.74    top-5: 0.91    top-10: 0.93\n",
            "You can get a loan from a bank.\n",
            "Tu peux obtenir un prêt de banque.\n",
            "\n",
            "Epoch 7\n",
            "Train -   loss: 1.14     top-1: 0.74    top-5: 0.91    top-10: 0.94\n",
            "Eval -    loss: 1.12     top-1: 0.75    top-5: 0.91    top-10: 0.93\n",
            "I swear I didn't make this up.\n",
            "Je jure que je ne faisais pas ça.\n",
            "\n",
            "Epoch 8\n",
            "Train -   loss: 1.11     top-1: 0.74    top-5: 0.91    top-10: 0.94\n",
            "Eval -    loss: 1.10     top-1: 0.75    top-5: 0.91    top-10: 0.94\n",
            "I had to stop.\n",
            "J'ai dû arrêter.\n",
            "\n",
            "Epoch 9\n",
            "Train -   loss: 1.08     top-1: 0.75    top-5: 0.92    top-10: 0.94\n",
            "Eval -    loss: 1.08     top-1: 0.76    top-5: 0.91    top-10: 0.94\n",
            "CEO's of American corporations are paid several times their Japanese counterparts.\n",
            "Les habitants de l'immobilier a été payé plusieurs fois leurs japonaise.\n",
            "\n",
            "Epoch 10\n",
            "Train -   loss: 1.08     top-1: 0.75    top-5: 0.92    top-10: 0.94\n",
            "Eval -    loss: 1.06     top-1: 0.76    top-5: 0.92    top-10: 0.94\n",
            "Tom is trying to make sure that everything is ready.\n",
            "Tom essaie d'essayer de assurer que tout est prêt.\n"
          ]
        },
        {
          "output_type": "display_data",
          "data": {
            "text/plain": [
              "<IPython.core.display.HTML object>"
            ],
            "text/html": []
          },
          "metadata": {}
        },
        {
          "output_type": "display_data",
          "data": {
            "text/plain": [
              "<IPython.core.display.HTML object>"
            ],
            "text/html": [
              "<br>    <style><br>        .wandb-row {<br>            display: flex;<br>            flex-direction: row;<br>            flex-wrap: wrap;<br>            justify-content: flex-start;<br>            width: 100%;<br>        }<br>        .wandb-col {<br>            display: flex;<br>            flex-direction: column;<br>            flex-basis: 100%;<br>            flex: 1;<br>            padding: 10px;<br>        }<br>    </style><br><div class=\"wandb-row\"><div class=\"wandb-col\"><h3>Run history:</h3><br/><table class=\"wandb\"><tr><td>Train - loss</td><td>█▃▂▂▂▂▂▂▁▁▁▁▁▁▁▁▁▁▁▁▁▁▁▁▁▁▁▁▁▁▁▁▁▁▁▁▁▁▁▁</td></tr><tr><td>Train - top-1</td><td>▁▂▃▄▄▅▆▅▆▆▆▆▆▆▆▇▇▇▇▇▇▇▇▇▇█████▇█████████</td></tr><tr><td>Train - top-10</td><td>▁▆▇▇▇▇▇▇████████████████████████████████</td></tr><tr><td>Train - top-5</td><td>▁▃▄▅▅▇▇▇▇▇▇▇▇▇▇█▇███████████████████████</td></tr><tr><td>Validation - loss</td><td>█▅▄▃▂▂▂▁▁▁</td></tr><tr><td>Validation - top-1</td><td>▁▄▅▆▇▇▇███</td></tr><tr><td>Validation - top-10</td><td>▁▄▆▆▇▇▇███</td></tr><tr><td>Validation - top-5</td><td>▁▄▅▆▇▇▇███</td></tr></table><br/></div><div class=\"wandb-col\"><h3>Run summary:</h3><br/><table class=\"wandb\"><tr><td>Train - loss</td><td>1.08052</td></tr><tr><td>Train - top-1</td><td>0.74934</td></tr><tr><td>Train - top-10</td><td>0.94146</td></tr><tr><td>Train - top-5</td><td>0.91612</td></tr><tr><td>Validation - loss</td><td>1.06362</td></tr><tr><td>Validation - top-1</td><td>0.75878</td></tr><tr><td>Validation - top-10</td><td>0.94018</td></tr><tr><td>Validation - top-5</td><td>0.91688</td></tr></table><br/></div></div>"
            ]
          },
          "metadata": {}
        },
        {
          "output_type": "display_data",
          "data": {
            "text/plain": [
              "<IPython.core.display.HTML object>"
            ],
            "text/html": [
              " View run <strong style=\"color:#cdcd00\">first architecture</strong> at: <a href='https://wandb.ai/lukyoda-13-polytechnique-montr-al/INF8225/runs/eyc47829' target=\"_blank\">https://wandb.ai/lukyoda-13-polytechnique-montr-al/INF8225/runs/eyc47829</a><br> View project at: <a href='https://wandb.ai/lukyoda-13-polytechnique-montr-al/INF8225' target=\"_blank\">https://wandb.ai/lukyoda-13-polytechnique-montr-al/INF8225</a><br>Synced 5 W&B file(s), 1 media file(s), 5 artifact file(s) and 0 other file(s)"
            ]
          },
          "metadata": {}
        },
        {
          "output_type": "display_data",
          "data": {
            "text/plain": [
              "<IPython.core.display.HTML object>"
            ],
            "text/html": [
              "Find logs at: <code>./wandb/run-20250315_222559-eyc47829/logs</code>"
            ]
          },
          "metadata": {}
        }
      ]
    },
    {
      "cell_type": "code",
      "source": [
        "sentence = \"Iron Maiden is the best band in the world\"\n",
        "reference = [\"Iron\", \"Maiden\", \"est\", \"le\", \"meilleur\", \"groupe\", \"au\", \"monde\"]\n",
        "get_metrics(model, sentence, reference, config)"
      ],
      "metadata": {
        "id": "CUPXLcm5iezz",
        "colab": {
          "base_uri": "https://localhost:8080/"
        },
        "outputId": "598aadfc-a862-4863-a3c8-9d39d10bfd48"
      },
      "execution_count": null,
      "outputs": [
        {
          "output_type": "stream",
          "name": "stdout",
          "text": [
            "Beam Search : \n",
            "0. (2.13144%) \t Le fer est le meilleur groupe du monde.\n",
            "BLEU: 0.345720784641941\n",
            "ROUGE-1: 0.625\n",
            "ROUGE-2: 0.42857142857142855\n",
            "ROUGE-L: 0.625\n",
            "METEOR: 0.49609375\n",
            "\n",
            "1. (1.38691%) \t Le café est le meilleur groupe du monde.\n",
            "BLEU: 0.345720784641941\n",
            "ROUGE-1: 0.625\n",
            "ROUGE-2: 0.42857142857142855\n",
            "ROUGE-L: 0.625\n",
            "METEOR: 0.49609375\n",
            "\n",
            "2. (0.69926%) \t Le fer est le meilleur groupe dans le monde.\n",
            "BLEU: 0.2984745896009823\n",
            "ROUGE-1: 0.5882352941176471\n",
            "ROUGE-2: 0.39999999999999997\n",
            "ROUGE-L: 0.5882352941176471\n",
            "METEOR: 0.3896604938271605\n",
            "\n",
            "3. (0.54538%) \t Le fer est le meilleur groupe du monde dans le monde.\n",
            "BLEU: 0.24808415001701817\n",
            "ROUGE-1: 0.5263157894736842\n",
            "ROUGE-2: 0.3529411764705882\n",
            "ROUGE-L: 0.5263157894736842\n",
            "METEOR: 0.4481927710843373\n",
            "\n",
            "4. (0.50393%) \t Le fer est le meilleur groupe au monde.\n",
            "BLEU: 0.5169731539571706\n",
            "ROUGE-1: 0.75\n",
            "ROUGE-2: 0.7142857142857143\n",
            "ROUGE-L: 0.75\n",
            "METEOR: 0.6225\n",
            "\n",
            "Greedy search: \t Le fer est le meilleur groupe de la Terre.\n",
            "BLEU: 0.2984745896009823\n",
            "ROUGE-1: 0.47058823529411764\n",
            "ROUGE-2: 0.39999999999999997\n",
            "ROUGE-L: 0.47058823529411764\n",
            "METEOR: 0.48996913580246915\n"
          ]
        }
      ]
    },
    {
      "cell_type": "markdown",
      "source": [
        "### Second architecture"
      ],
      "metadata": {
        "id": "CC8bFeacvCvB"
      }
    },
    {
      "cell_type": "code",
      "source": [
        "!wandb online\n",
        "\n",
        "# Build the model, the dataloaders, optimizer and the loss function\n",
        "# Log every hyperparameters and arguments into the config dictionnary\n",
        "\n",
        "config = {\n",
        "    # General parameters\n",
        "    'epochs': 10,\n",
        "    'batch_size': 128,\n",
        "    'lr': 1e-3,\n",
        "    'betas': (0.9, 0.99),\n",
        "    'clip': 5,\n",
        "    'device': 'cuda' if torch.cuda.is_available() else 'cpu',\n",
        "\n",
        "    # Model parameters\n",
        "    'n_tokens_src': len(train_dataset.en_vocab),\n",
        "    'n_tokens_tgt': len(train_dataset.fr_vocab),\n",
        "    'n_heads': 14,\n",
        "    'dim_embedding': 196,\n",
        "    'dim_hidden': 256,\n",
        "    'n_layers': 6,\n",
        "    'dropout': 0.1,\n",
        "    'model_type': 'Transformer',\n",
        "\n",
        "    # Others\n",
        "    'max_sequence_length': MAX_SEQ_LEN,\n",
        "    'min_token_freq': MIN_TOK_FREQ,\n",
        "    'src_vocab': train_dataset.en_vocab,\n",
        "    'tgt_vocab': train_dataset.fr_vocab,\n",
        "    'src_tokenizer': en_tokenizer,\n",
        "    'tgt_tokenizer': fr_tokenizer,\n",
        "    'src_pad_idx': train_dataset.en_vocab['<pad>'],\n",
        "    'tgt_pad_idx': train_dataset.fr_vocab['<pad>'],\n",
        "    'seed': 0,\n",
        "    'log_every': 50,  # Number of batches between each wandb logs\n",
        "}\n",
        "\n",
        "torch.manual_seed(config['seed'])\n",
        "\n",
        "config['train_loader'] = DataLoader(\n",
        "    train_dataset,\n",
        "    batch_size=config['batch_size'],\n",
        "    shuffle=True,\n",
        "    collate_fn=lambda batch: generate_batch(batch, config['src_pad_idx'], config['tgt_pad_idx'])\n",
        ")\n",
        "\n",
        "config['val_loader'] = DataLoader(\n",
        "    val_dataset,\n",
        "    batch_size=config['batch_size'],\n",
        "    shuffle=True,\n",
        "    collate_fn=lambda batch: generate_batch(batch, config['src_pad_idx'], config['tgt_pad_idx'])\n",
        ")\n",
        "\n",
        "model = TranslationTransformer(\n",
        "    config['n_tokens_src'],\n",
        "    config['n_tokens_tgt'],\n",
        "    config['n_heads'],\n",
        "    config['dim_embedding'],\n",
        "    config['dim_hidden'],\n",
        "    config['n_layers'],\n",
        "    config['dropout'],\n",
        "    config['src_pad_idx'],\n",
        "    config['tgt_pad_idx'],\n",
        ")\n",
        "\n",
        "\n",
        "config['optimizer'] = optim.Adam(\n",
        "    model.parameters(),\n",
        "    lr=config['lr'],\n",
        "    betas=config['betas'],\n",
        ")\n",
        "\n",
        "weight_classes = torch.ones(config['n_tokens_tgt'], dtype=torch.float)\n",
        "weight_classes[config['tgt_vocab']['<unk>']] = 0.1  # Lower the importance of that class\n",
        "config['loss'] = nn.CrossEntropyLoss(\n",
        "    weight=weight_classes,\n",
        "    ignore_index=config['tgt_pad_idx'],  # We do not have to learn those\n",
        ")\n",
        "\n",
        "summary(\n",
        "    model,\n",
        "    input_size=[\n",
        "        (config['batch_size'], config['max_sequence_length']),\n",
        "        (config['batch_size'], config['max_sequence_length'])\n",
        "    ],\n",
        "    dtypes=[torch.long, torch.long],\n",
        "    depth=3,\n",
        ")\n",
        "\n"
      ],
      "metadata": {
        "id": "bejQMT75LY-9",
        "colab": {
          "base_uri": "https://localhost:8080/"
        },
        "outputId": "acce5911-b94e-472f-bbc3-95cfa02354b4"
      },
      "execution_count": null,
      "outputs": [
        {
          "output_type": "stream",
          "name": "stdout",
          "text": [
            "W&B online. Running your script from this directory will now sync to the cloud.\n"
          ]
        },
        {
          "output_type": "execute_result",
          "data": {
            "text/plain": [
              "=========================================================================================================\n",
              "Layer (type:depth-idx)                                  Output Shape              Param #\n",
              "=========================================================================================================\n",
              "TranslationTransformer                                  [128, 60, 18340]          --\n",
              "├─Embedding: 1-1                                        [128, 60, 196]            2,382,184\n",
              "├─Embedding: 1-2                                        [128, 60, 196]            100,352\n",
              "├─Embedding: 1-3                                        [128, 60, 196]            3,594,640\n",
              "├─Embedding: 1-4                                        [128, 60, 196]            100,352\n",
              "├─Transformer: 1-5                                      [128, 60, 196]            --\n",
              "│    └─TransformerEncoder: 2-1                          [128, 60, 196]            --\n",
              "│    │    └─ModuleList: 3-1                             --                        1,536,216\n",
              "│    └─TransformerDecoder: 2-2                          [128, 60, 196]            --\n",
              "│    │    └─ModuleList: 3-2                             --                        2,465,256\n",
              "├─Linear: 1-6                                           [128, 60, 18340]          3,612,980\n",
              "=========================================================================================================\n",
              "Total params: 13,791,980\n",
              "Trainable params: 13,791,980\n",
              "Non-trainable params: 0\n",
              "Total mult-adds (Units.GIGABYTES): 1.77\n",
              "=========================================================================================================\n",
              "Input size (MB): 0.12\n",
              "Forward/backward pass size (MB): 2736.54\n",
              "Params size (MB): 55.17\n",
              "Estimated Total Size (MB): 2791.83\n",
              "========================================================================================================="
            ]
          },
          "metadata": {},
          "execution_count": 61
        }
      ]
    },
    {
      "cell_type": "code",
      "source": [
        "with wandb.init(\n",
        "        config=config,\n",
        "        project='INF8225',  # Title of your project\n",
        "        group='Transformers',  # In what group of runs do you want this run to be in?\n",
        "        save_code=True,\n",
        "        name='second architecture',\n",
        "    ):\n",
        "    train_model(model, config)\n",
        "wandb.finish()"
      ],
      "metadata": {
        "colab": {
          "base_uri": "https://localhost:8080/",
          "height": 1000
        },
        "id": "wZejgZTb_rRO",
        "outputId": "ef9e4cf3-b4b1-472b-a769-b61ae107901d"
      },
      "execution_count": null,
      "outputs": [
        {
          "output_type": "display_data",
          "data": {
            "text/plain": [
              "<IPython.core.display.HTML object>"
            ],
            "text/html": [
              "Tracking run with wandb version 0.19.8"
            ]
          },
          "metadata": {}
        },
        {
          "output_type": "display_data",
          "data": {
            "text/plain": [
              "<IPython.core.display.HTML object>"
            ],
            "text/html": [
              "Run data is saved locally in <code>/content/wandb/run-20250315_224843-q0ioo85p</code>"
            ]
          },
          "metadata": {}
        },
        {
          "output_type": "display_data",
          "data": {
            "text/plain": [
              "<IPython.core.display.HTML object>"
            ],
            "text/html": [
              "Syncing run <strong><a href='https://wandb.ai/lukyoda-13-polytechnique-montr-al/INF8225/runs/q0ioo85p' target=\"_blank\">second architecture</a></strong> to <a href='https://wandb.ai/lukyoda-13-polytechnique-montr-al/INF8225' target=\"_blank\">Weights & Biases</a> (<a href='https://wandb.me/developer-guide' target=\"_blank\">docs</a>)<br>"
            ]
          },
          "metadata": {}
        },
        {
          "output_type": "display_data",
          "data": {
            "text/plain": [
              "<IPython.core.display.HTML object>"
            ],
            "text/html": [
              " View project at <a href='https://wandb.ai/lukyoda-13-polytechnique-montr-al/INF8225' target=\"_blank\">https://wandb.ai/lukyoda-13-polytechnique-montr-al/INF8225</a>"
            ]
          },
          "metadata": {}
        },
        {
          "output_type": "display_data",
          "data": {
            "text/plain": [
              "<IPython.core.display.HTML object>"
            ],
            "text/html": [
              " View run at <a href='https://wandb.ai/lukyoda-13-polytechnique-montr-al/INF8225/runs/q0ioo85p' target=\"_blank\">https://wandb.ai/lukyoda-13-polytechnique-montr-al/INF8225/runs/q0ioo85p</a>"
            ]
          },
          "metadata": {}
        },
        {
          "output_type": "stream",
          "name": "stdout",
          "text": [
            "Starting training for 10 epochs, using cuda.\n",
            "\n",
            "Epoch 1\n",
            "Train -   loss: 1.66     top-1: 0.67    top-5: 0.85    top-10: 0.88\n",
            "Eval -    loss: 1.50     top-1: 0.69    top-5: 0.86    top-10: 0.90\n",
            "Turn on the TV.\n",
            "Éteins la télévision.\n",
            "\n",
            "Epoch 2\n",
            "Train -   loss: 1.33     top-1: 0.72    top-5: 0.89    top-10: 0.92\n",
            "Eval -    loss: 1.22     top-1: 0.73    top-5: 0.90    top-10: 0.92\n",
            "I was overweight.\n",
            "J'ai été en surpoids.\n",
            "\n",
            "Epoch 3\n",
            "Train -   loss: 1.22     top-1: 0.73    top-5: 0.90    top-10: 0.93\n",
            "Eval -    loss: 1.10     top-1: 0.75    top-5: 0.91    top-10: 0.93\n",
            "Don't give him any ideas.\n",
            "Ne lui donne pas d'idées.\n",
            "\n",
            "Epoch 4\n",
            "Train -   loss: 1.09     top-1: 0.75    top-5: 0.92    top-10: 0.94\n",
            "Eval -    loss: 1.03     top-1: 0.76    top-5: 0.92    top-10: 0.94\n",
            "Are you leaving now?\n",
            "Allez-vous partir maintenant ?\n",
            "\n",
            "Epoch 5\n",
            "Train -   loss: 1.04     top-1: 0.76    top-5: 0.92    top-10: 0.94\n",
            "Eval -    loss: 0.98     top-1: 0.77    top-5: 0.92    top-10: 0.95\n",
            "A party of scientists were on board with them.\n",
            "Une fête de scientifiques étaient au bord d'eux.\n",
            "\n",
            "Epoch 6\n",
            "Train -   loss: 0.99     top-1: 0.77    top-5: 0.93    top-10: 0.95\n",
            "Eval -    loss: 0.96     top-1: 0.78    top-5: 0.93    top-10: 0.95\n",
            "I'm sick of your excuses.\n",
            "J'en ai marre de vos excuses.\n",
            "\n",
            "Epoch 7\n",
            "Train -   loss: 0.96     top-1: 0.77    top-5: 0.93    top-10: 0.95\n",
            "Eval -    loss: 0.93     top-1: 0.78    top-5: 0.93    top-10: 0.95\n",
            "I'm really glad to hear it.\n",
            "Je suis très heureux de l'entendre.\n",
            "\n",
            "Epoch 8\n",
            "Train -   loss: 0.90     top-1: 0.78    top-5: 0.94    top-10: 0.96\n",
            "Eval -    loss: 0.91     top-1: 0.79    top-5: 0.93    top-10: 0.95\n",
            "I have to do something else first.\n",
            "Je dois faire quelque chose d'autre.\n",
            "\n",
            "Epoch 9\n",
            "Train -   loss: 0.87     top-1: 0.79    top-5: 0.94    top-10: 0.96\n",
            "Eval -    loss: 0.89     top-1: 0.79    top-5: 0.93    top-10: 0.95\n",
            "I think it's impossible for him to solve the problem.\n",
            "Je pense qu'il est impossible de lui résoudre le problème.\n",
            "\n",
            "Epoch 10\n",
            "Train -   loss: 0.86     top-1: 0.79    top-5: 0.94    top-10: 0.96\n",
            "Eval -    loss: 0.88     top-1: 0.79    top-5: 0.94    top-10: 0.95\n",
            "What makes you laugh?\n",
            "Qu'est-ce qui te fait rire ?\n"
          ]
        },
        {
          "output_type": "display_data",
          "data": {
            "text/plain": [
              "<IPython.core.display.HTML object>"
            ],
            "text/html": []
          },
          "metadata": {}
        },
        {
          "output_type": "display_data",
          "data": {
            "text/plain": [
              "<IPython.core.display.HTML object>"
            ],
            "text/html": [
              "<br>    <style><br>        .wandb-row {<br>            display: flex;<br>            flex-direction: row;<br>            flex-wrap: wrap;<br>            justify-content: flex-start;<br>            width: 100%;<br>        }<br>        .wandb-col {<br>            display: flex;<br>            flex-direction: column;<br>            flex-basis: 100%;<br>            flex: 1;<br>            padding: 10px;<br>        }<br>    </style><br><div class=\"wandb-row\"><div class=\"wandb-col\"><h3>Run history:</h3><br/><table class=\"wandb\"><tr><td>Train - loss</td><td>█▅▄▄▄▃▃▃▃▃▂▂▂▂▂▂▂▂▂▂▁▂▂▂▂▁▁▂▁▁▁▁▁▁▁▁▁▁▁▁</td></tr><tr><td>Train - top-1</td><td>▁▂▃▄▅▅▅▅▅▆▆▆▆▆▇▇▇▇▇▇▇▇▇▇▇▇▇▇▇▇██▇▇▇█████</td></tr><tr><td>Train - top-10</td><td>▁▂▃▃▄▄▅▆▆▆▇▇▇▇▇▇▇▇█▇▇███████████████████</td></tr><tr><td>Train - top-5</td><td>▁▅▅▆▆▇▇▇▇▇▇▇████████████████████████████</td></tr><tr><td>Validation - loss</td><td>█▅▃▃▂▂▂▁▁▁</td></tr><tr><td>Validation - top-1</td><td>▁▄▅▆▇▇▇███</td></tr><tr><td>Validation - top-10</td><td>▁▄▆▆▇▇████</td></tr><tr><td>Validation - top-5</td><td>▁▄▆▆▇▇████</td></tr></table><br/></div><div class=\"wandb-col\"><h3>Run summary:</h3><br/><table class=\"wandb\"><tr><td>Train - loss</td><td>0.85579</td></tr><tr><td>Train - top-1</td><td>0.7909</td></tr><tr><td>Train - top-10</td><td>0.95955</td></tr><tr><td>Train - top-5</td><td>0.94017</td></tr><tr><td>Validation - loss</td><td>0.88038</td></tr><tr><td>Validation - top-1</td><td>0.79193</td></tr><tr><td>Validation - top-10</td><td>0.95467</td></tr><tr><td>Validation - top-5</td><td>0.93557</td></tr></table><br/></div></div>"
            ]
          },
          "metadata": {}
        },
        {
          "output_type": "display_data",
          "data": {
            "text/plain": [
              "<IPython.core.display.HTML object>"
            ],
            "text/html": [
              " View run <strong style=\"color:#cdcd00\">second architecture</strong> at: <a href='https://wandb.ai/lukyoda-13-polytechnique-montr-al/INF8225/runs/q0ioo85p' target=\"_blank\">https://wandb.ai/lukyoda-13-polytechnique-montr-al/INF8225/runs/q0ioo85p</a><br> View project at: <a href='https://wandb.ai/lukyoda-13-polytechnique-montr-al/INF8225' target=\"_blank\">https://wandb.ai/lukyoda-13-polytechnique-montr-al/INF8225</a><br>Synced 5 W&B file(s), 1 media file(s), 5 artifact file(s) and 0 other file(s)"
            ]
          },
          "metadata": {}
        },
        {
          "output_type": "display_data",
          "data": {
            "text/plain": [
              "<IPython.core.display.HTML object>"
            ],
            "text/html": [
              "Find logs at: <code>./wandb/run-20250315_224843-q0ioo85p/logs</code>"
            ]
          },
          "metadata": {}
        }
      ]
    },
    {
      "cell_type": "code",
      "source": [
        "sentence = \"Iron Maiden is the best band in the world\"\n",
        "reference = [\"Iron\", \"Maiden\", \"est\", \"le\", \"meilleur\", \"groupe\", \"au\", \"monde\"]\n",
        "get_metrics(model, sentence, reference, config)"
      ],
      "metadata": {
        "colab": {
          "base_uri": "https://localhost:8080/"
        },
        "id": "0GiW8ipY7Jl_",
        "outputId": "ca7c7237-d27f-4bb7-bdf3-0844c390975e"
      },
      "execution_count": null,
      "outputs": [
        {
          "output_type": "stream",
          "name": "stdout",
          "text": [
            "Beam Search : \n",
            "0. (0.60861%) \t Le meilleur groupe est le meilleur groupe au monde.\n",
            "BLEU: 0.44632361378533286\n",
            "ROUGE-1: 0.7058823529411765\n",
            "ROUGE-2: 0.6666666666666666\n",
            "ROUGE-L: 0.7058823529411765\n",
            "METEOR: 0.6148148148148148\n",
            "\n",
            "1. (0.55541%) \t Le meilleur groupe est le meilleur groupe du monde.\n",
            "BLEU: 0.2984745896009823\n",
            "ROUGE-1: 0.5882352941176471\n",
            "ROUGE-2: 0.39999999999999997\n",
            "ROUGE-L: 0.5882352941176471\n",
            "METEOR: 0.48996913580246915\n",
            "\n",
            "2. (0.46842%) \t Le meilleur groupe est le meilleur groupe dans le monde.\n",
            "BLEU: 0.2626909894424158\n",
            "ROUGE-1: 0.5555555555555556\n",
            "ROUGE-2: 0.375\n",
            "ROUGE-L: 0.5555555555555556\n",
            "METEOR: 0.38490853658536583\n",
            "\n",
            "3. (0.20985%) \t Le meilleur pays est le meilleur groupe du monde.\n",
            "BLEU: 0.2984745896009823\n",
            "ROUGE-1: 0.5882352941176471\n",
            "ROUGE-2: 0.39999999999999997\n",
            "ROUGE-L: 0.5882352941176471\n",
            "METEOR: 0.48996913580246915\n",
            "\n",
            "4. (0.18202%) \t Le meilleur groupe est le meilleur groupe dans le monde du monde.\n",
            "BLEU: 0.22416933501922293\n",
            "ROUGE-1: 0.5\n",
            "ROUGE-2: 0.33333333333333326\n",
            "ROUGE-L: 0.5\n",
            "METEOR: 0.44285714285714284\n",
            "\n",
            "Greedy search: \t Le meilleur groupe est le meilleur groupe dans le monde.\n",
            "BLEU: 0.2626909894424158\n",
            "ROUGE-1: 0.5555555555555556\n",
            "ROUGE-2: 0.375\n",
            "ROUGE-L: 0.5555555555555556\n",
            "METEOR: 0.38490853658536583\n"
          ]
        }
      ]
    },
    {
      "cell_type": "markdown",
      "source": [
        "### Third architecture"
      ],
      "metadata": {
        "id": "-8So852v6qel"
      }
    },
    {
      "cell_type": "code",
      "source": [
        "config = {\n",
        "    # General parameters\n",
        "    'epochs': 10,\n",
        "    'batch_size': 128,\n",
        "    'lr': 1e-3,\n",
        "    'betas': (0.9, 0.99),\n",
        "    'clip': 5,\n",
        "    'device': 'cuda' if torch.cuda.is_available() else 'cpu',\n",
        "\n",
        "    # Model parameters\n",
        "    'n_tokens_src': len(train_dataset.en_vocab),\n",
        "    'n_tokens_tgt': len(train_dataset.fr_vocab),\n",
        "    'n_heads': 4,\n",
        "    'dim_embedding': 256,\n",
        "    'dim_hidden': 256,\n",
        "    'n_layers': 6,\n",
        "    'dropout': 0.1,\n",
        "    'model_type': 'Transformer',\n",
        "\n",
        "    # Others\n",
        "    'max_sequence_length': MAX_SEQ_LEN,\n",
        "    'min_token_freq': MIN_TOK_FREQ,\n",
        "    'src_vocab': train_dataset.en_vocab,\n",
        "    'tgt_vocab': train_dataset.fr_vocab,\n",
        "    'src_tokenizer': en_tokenizer,\n",
        "    'tgt_tokenizer': fr_tokenizer,\n",
        "    'src_pad_idx': train_dataset.en_vocab['<pad>'],\n",
        "    'tgt_pad_idx': train_dataset.fr_vocab['<pad>'],\n",
        "    'seed': 0,\n",
        "    'log_every': 50,  # Number of batches between each wandb logs\n",
        "}\n",
        "\n",
        "torch.manual_seed(config['seed'])\n",
        "\n",
        "config['train_loader'] = DataLoader(\n",
        "    train_dataset,\n",
        "    batch_size=config['batch_size'],\n",
        "    shuffle=True,\n",
        "    collate_fn=lambda batch: generate_batch(batch, config['src_pad_idx'], config['tgt_pad_idx'])\n",
        ")\n",
        "\n",
        "config['val_loader'] = DataLoader(\n",
        "    val_dataset,\n",
        "    batch_size=config['batch_size'],\n",
        "    shuffle=True,\n",
        "    collate_fn=lambda batch: generate_batch(batch, config['src_pad_idx'], config['tgt_pad_idx'])\n",
        ")\n",
        "\n",
        "model = TranslationTransformer(\n",
        "    config['n_tokens_src'],\n",
        "    config['n_tokens_tgt'],\n",
        "    config['n_heads'],\n",
        "    config['dim_embedding'],\n",
        "    config['dim_hidden'],\n",
        "    config['n_layers'],\n",
        "    config['dropout'],\n",
        "    config['src_pad_idx'],\n",
        "    config['tgt_pad_idx'],\n",
        ")\n",
        "\n",
        "\n",
        "config['optimizer'] = optim.Adam(\n",
        "    model.parameters(),\n",
        "    lr=config['lr'],\n",
        "    betas=config['betas'],\n",
        ")\n",
        "\n",
        "weight_classes = torch.ones(config['n_tokens_tgt'], dtype=torch.float)\n",
        "weight_classes[config['tgt_vocab']['<unk>']] = 0.1  # Lower the importance of that class\n",
        "config['loss'] = nn.CrossEntropyLoss(\n",
        "    weight=weight_classes,\n",
        "    ignore_index=config['tgt_pad_idx'],  # We do not have to learn those\n",
        ")\n",
        "\n",
        "warmup_steps = 200\n",
        "scheduler = CustomLRScheduler(config['optimizer'], config['dim_embedding'], warmup_steps)\n",
        "\n",
        "\n",
        "model = TranslationTransformer(\n",
        "    config['n_tokens_src'],\n",
        "    config['n_tokens_tgt'],\n",
        "    config['n_heads'],\n",
        "    config['dim_embedding'],\n",
        "    config['dim_hidden'],\n",
        "    config['n_layers'],\n",
        "    config['dropout'],\n",
        "    config['src_pad_idx'],\n",
        "    config['tgt_pad_idx'],\n",
        ")\n",
        "\n",
        "summary(\n",
        "    model,\n",
        "    input_size=[\n",
        "        (config['batch_size'], config['max_sequence_length']),\n",
        "        (config['batch_size'], config['max_sequence_length'])\n",
        "    ],\n",
        "    dtypes=[torch.long, torch.long],\n",
        "    depth=3,\n",
        ")"
      ],
      "metadata": {
        "colab": {
          "base_uri": "https://localhost:8080/"
        },
        "id": "mOJ-wcio6qGq",
        "outputId": "22267e20-94f8-405e-c4d0-9870bef7caae"
      },
      "execution_count": null,
      "outputs": [
        {
          "output_type": "execute_result",
          "data": {
            "text/plain": [
              "=========================================================================================================\n",
              "Layer (type:depth-idx)                                  Output Shape              Param #\n",
              "=========================================================================================================\n",
              "TranslationTransformer                                  [128, 60, 18340]          --\n",
              "├─Embedding: 1-1                                        [128, 60, 256]            3,111,424\n",
              "├─Embedding: 1-2                                        [128, 60, 256]            131,072\n",
              "├─Embedding: 1-3                                        [128, 60, 256]            4,695,040\n",
              "├─Embedding: 1-4                                        [128, 60, 256]            131,072\n",
              "├─Transformer: 1-5                                      [128, 60, 256]            --\n",
              "│    └─TransformerEncoder: 2-1                          [128, 60, 256]            --\n",
              "│    │    └─ModuleList: 3-1                             --                        2,374,656\n",
              "│    └─TransformerDecoder: 2-2                          [128, 60, 256]            --\n",
              "│    │    └─ModuleList: 3-2                             --                        3,956,736\n",
              "├─Linear: 1-6                                           [128, 60, 18340]          4,713,380\n",
              "=========================================================================================================\n",
              "Total params: 19,113,380\n",
              "Trainable params: 19,113,380\n",
              "Non-trainable params: 0\n",
              "Total mult-adds (Units.GIGABYTES): 2.45\n",
              "=========================================================================================================\n",
              "Input size (MB): 0.12\n",
              "Forward/backward pass size (MB): 3171.53\n",
              "Params size (MB): 76.45\n",
              "Estimated Total Size (MB): 3248.11\n",
              "========================================================================================================="
            ]
          },
          "metadata": {},
          "execution_count": 23
        }
      ]
    },
    {
      "cell_type": "code",
      "source": [
        "with wandb.init(\n",
        "        config=config,\n",
        "        project='INF8225',  # Title of your project\n",
        "        group='Transformers',\n",
        "        save_code=True,\n",
        "        name='third architecture',\n",
        "    ):\n",
        "    train_model(model, config, scheduler)"
      ],
      "metadata": {
        "colab": {
          "base_uri": "https://localhost:8080/",
          "height": 1000
        },
        "id": "GKPYlUqhJglS",
        "outputId": "971be404-f300-4b4c-c60f-6bb377cb577f"
      },
      "execution_count": null,
      "outputs": [
        {
          "output_type": "stream",
          "name": "stderr",
          "text": [
            "\u001b[34m\u001b[1mwandb\u001b[0m: Using wandb-core as the SDK backend.  Please refer to https://wandb.me/wandb-core for more information.\n",
            "\u001b[34m\u001b[1mwandb\u001b[0m: Currently logged in as: \u001b[33mlukyoda-13\u001b[0m (\u001b[33mlukyoda-13-polytechnique-montr-al\u001b[0m) to \u001b[32mhttps://api.wandb.ai\u001b[0m. Use \u001b[1m`wandb login --relogin`\u001b[0m to force relogin\n"
          ]
        },
        {
          "output_type": "display_data",
          "data": {
            "text/plain": [
              "<IPython.core.display.HTML object>"
            ],
            "text/html": [
              "Tracking run with wandb version 0.19.8"
            ]
          },
          "metadata": {}
        },
        {
          "output_type": "display_data",
          "data": {
            "text/plain": [
              "<IPython.core.display.HTML object>"
            ],
            "text/html": [
              "Run data is saved locally in <code>/content/wandb/run-20250316_223858-egy0a07w</code>"
            ]
          },
          "metadata": {}
        },
        {
          "output_type": "display_data",
          "data": {
            "text/plain": [
              "<IPython.core.display.HTML object>"
            ],
            "text/html": [
              "Syncing run <strong><a href='https://wandb.ai/lukyoda-13-polytechnique-montr-al/INF8225/runs/egy0a07w' target=\"_blank\">third architecture</a></strong> to <a href='https://wandb.ai/lukyoda-13-polytechnique-montr-al/INF8225' target=\"_blank\">Weights & Biases</a> (<a href='https://wandb.me/developer-guide' target=\"_blank\">docs</a>)<br>"
            ]
          },
          "metadata": {}
        },
        {
          "output_type": "display_data",
          "data": {
            "text/plain": [
              "<IPython.core.display.HTML object>"
            ],
            "text/html": [
              " View project at <a href='https://wandb.ai/lukyoda-13-polytechnique-montr-al/INF8225' target=\"_blank\">https://wandb.ai/lukyoda-13-polytechnique-montr-al/INF8225</a>"
            ]
          },
          "metadata": {}
        },
        {
          "output_type": "display_data",
          "data": {
            "text/plain": [
              "<IPython.core.display.HTML object>"
            ],
            "text/html": [
              " View run at <a href='https://wandb.ai/lukyoda-13-polytechnique-montr-al/INF8225/runs/egy0a07w' target=\"_blank\">https://wandb.ai/lukyoda-13-polytechnique-montr-al/INF8225/runs/egy0a07w</a>"
            ]
          },
          "metadata": {}
        },
        {
          "output_type": "stream",
          "name": "stdout",
          "text": [
            "Starting training for 10 epochs, using cuda.\n",
            "\n",
            "Epoch 1\n",
            "Train -   loss: 9.88     top-1: 0.00    top-5: 0.00    top-10: 0.00\n",
            "Eval -    loss: 9.88     top-1: 0.00    top-5: 0.00    top-10: 0.00\n",
            "May I ask another question?\n",
            "idée arpenteuse médicaments Vérifiez langue fainéant accordez Devinez fainéant fainéant accordez Devinez fainéant accordez attrapée chienne canettes éteigne Vérifiez misérable hospitalisées fainéant accordez bâtie détritus reposons fainéant fainéant comportent voulions figuré astucieux payerons décodé détritus reviendrons figure allégation découvertes croyait accordez Vérifiez excitée F Devinez prisonnière prisonnière remporter embarras traversâmes croyait couvercle traîné collation sucre serais épais principale shérif\n",
            "\n",
            "Epoch 2\n",
            "Train -   loss: 9.88     top-1: 0.00    top-5: 0.00    top-10: 0.00\n",
            "Eval -    loss: 9.88     top-1: 0.00    top-5: 0.00    top-10: 0.00\n",
            "He hesitated for a while.\n",
            "séries suspendit quant préfèrerais Présentez accordez accordez Devinez prisonnière épais bâclé accordez cygnes pseudo-science programmes recontacterai concept éclaira posant accordez cygnes cygnes accordez climatiseur accordez Vide éclaira tombai moulins fainéant égaré sous-sol supplémentaire continuera accordez cygnes conducteur occupés boursier suspendit Devinez fainéant accordez portèrent accordez circonstance dangereuse travailleur continua accordez joyeuses pension recontacterai décideront accordez savais tondue Vérifiez score\n",
            "\n",
            "Epoch 3\n",
            "Train -   loss: 9.88     top-1: 0.00    top-5: 0.00    top-10: 0.00\n",
            "Eval -    loss: 9.88     top-1: 0.00    top-5: 0.00    top-10: 0.00\n",
            "I know I made a mistake.\n",
            "séries suspendit sous-sol incompétents emménager allusion chiqué troupeau prisonnière épais bâclé Cendrillon croyait accordez indienne éclaira envoyer exemples marches insinuer su correcte karaté incorrecte détritus embauchées décliné débarrasserai complètement accrochait Vérifiez agréablement dormi effraction puisqu'levais conducteur puisqu'Vérifiez Coupe accordez Vérifiez Cambodge portèrent astucieux Saisissez sous-sol cordes injuste empilables décodé décidai recontacterai décideront accordez Vérifiez brésilienne oubliez obéira\n",
            "\n",
            "Epoch 4\n",
            "Train -   loss: 9.88     top-1: 0.00    top-5: 0.00    top-10: 0.00\n",
            "Eval -    loss: 9.88     top-1: 0.00    top-5: 0.00    top-10: 0.00\n",
            "I think you ought to pay more attention in class.\n",
            "syllabe résidentiel chiqué éruption Hong fainéant accordez Devinez fainéant fainéant accordez Devinez fainéant accordez indienne reproduisent modestes refaire quatre-vingt-dix-sept accordez cygnes yoga négociations tennis signatures puisqu'pique-niques résonné devrais rompu résidentiel Nombre musicien croyait accordez cygnes empilables accordez canettes accordez Devinez fainéant accordez saisit déballer chronomètre Quelques cordes crédule programmes enleva fassions négociations inspecteur considérer Cookie prévisions forcés goûte\n",
            "\n",
            "Epoch 5\n",
            "Train -   loss: 9.88     top-1: 0.00    top-5: 0.00    top-10: 0.00\n",
            "Eval -    loss: 9.88     top-1: 0.00    top-5: 0.00    top-10: 0.00\n",
            "Did I hurt you?\n",
            "séries suspendit sous-sol incompétents emménager allusion chiqué troupeau prisonnière épais bâclé Cendrillon croyait accordez cygnes pseudo-science extraordinaire accordez cygnes vénère cygnes yoga empilables rompu exemples Jetons moment souhaiterions croyait incorrect shérif volent souffrez réglée leurs décodé conducteur prisonnière remarquablement furent hommes cinémas commençait cuisinez décodé thon leurs originales plais changements également tasses leurs idéogrammes insinué cahiers éclaira enregistrée devenez\n",
            "\n",
            "Epoch 6\n",
            "Train -   loss: 9.88     top-1: 0.00    top-5: 0.00    top-10: 0.00\n",
            "Eval -    loss: 9.88     top-1: 0.00    top-5: 0.00    top-10: 0.00\n",
            "I'd be disappointed if I saw you doing that.\n",
            "séries changements Donne-le-moi résidentiel emménager registre Hong Signez casser Davantage bâclé accordez servez sponsors épais fromage Parlez réfugiés joyeuses chapeau entendis Mieux traça adressée joyeuses traités Change écoutâmes ordres enseigna résidentiel Nombre musicien croyait accordez variété coupez Vérifiez payai croyait accordez saisit inconsidéré traversent fatigant considérer menacez Question injuste empilables mangue passionnante possession formellement croyait bouchés tragédie sursaut retrouve\n",
            "\n",
            "Epoch 7\n",
            "Train -   loss: 9.88     top-1: 0.00    top-5: 0.00    top-10: 0.00\n",
            "Eval -    loss: 9.88     top-1: 0.00    top-5: 0.00    top-10: 0.00\n",
            "Why did you guys break up?\n",
            "séries suspendit armées épais bras parvint accordez rougi prépara épais bâclé Cendrillon croyait accordez attrapée fers organise partagèrent compromette découvrira impressionnées joui bachoté marches mention cow persistant tempêtes spray traversâmes précision écoles traditionnel croyait ferme décodé criait-t apprécieriez adoptèrent déplacer chenille excitée remplis décodé thon mini-jupe détritus embauchées confiants funérailles entêtant shérif expulsé accordez étouffait prévisions forcés prîmes\n",
            "\n",
            "Epoch 8\n",
            "Train -   loss: 9.88     top-1: 0.00    top-5: 0.00    top-10: 0.00\n",
            "Eval -    loss: 9.88     top-1: 0.00    top-5: 0.00    top-10: 0.00\n",
            "The room was very untidy.\n",
            "étatsunien lessive européens souffrez langue fainéant accordez rougi prépara épais bâclé accordez Reconnais accordez cygnes pseudo-science extraordinaire accordez cygnes chapeau figuré mesure concerne honoré détritus embauchées résidentiel torturez Entrez fainéant programmeur shérif arpenteuse essayez compliment sous-sol supplémentaire insoutenable sous-estimée traduit accordez saisit conservateur remplis décodé thon leurs cerisiers injuste empilables honoré oubliez emprunté interrompue allusion musées accordez oubliez obéira\n",
            "\n",
            "Epoch 9\n",
            "Train -   loss: 9.88     top-1: 0.00    top-5: 0.00    top-10: 0.00\n",
            "Eval -    loss: 9.88     top-1: 0.00    top-5: 0.00    top-10: 0.00\n",
            "He didn't say anything.\n",
            "séries suspendit occupés type contentez frôlé accordez tenterai industrielle accordez joyeuses chapeau Constitution cinquantaine attrapée pleurniches joyeuses chapeau contentez enseigna égaux concevoir accordez climatiseur accordez conducteur résidentiel craignez moulins Apollo goûte Reconnaissez musicien douleurs accordez savais leva suspendit gorge Bravo Devinez fainéant accordez portèrent difficile débrouille allonge roula shérif vieillissait croyait couvercle recontacterai décideront accordez savais tondue rusé fêtes\n",
            "\n",
            "Epoch 10\n",
            "Train -   loss: 9.88     top-1: 0.00    top-5: 0.00    top-10: 0.00\n",
            "Eval -    loss: 9.88     top-1: 0.00    top-5: 0.00    top-10: 0.00\n",
            "After work, I go right home.\n",
            "séries changements Donne-le-moi sac pleurait dissuader accordez Devinez prisonnière gâchis nocturne Retenez conducteur journées fâche chienne fleuves croyait émeute accordez cygnes yoga négociations tennis détritus embauchées décliné débarrasserai complètement accrochait Vérifiez humilité embauchées boursier puisqu'levais conducteur puisqu'baguette pleura puisqu'refuse puisqu'Service jean emménager calice mémoriser canettes empilables funérailles comptais échec bambin marcherons jalouses astucieux étouffa idioties\n"
          ]
        },
        {
          "output_type": "display_data",
          "data": {
            "text/plain": [
              "<IPython.core.display.HTML object>"
            ],
            "text/html": []
          },
          "metadata": {}
        },
        {
          "output_type": "display_data",
          "data": {
            "text/plain": [
              "<IPython.core.display.HTML object>"
            ],
            "text/html": [
              "<br>    <style><br>        .wandb-row {<br>            display: flex;<br>            flex-direction: row;<br>            flex-wrap: wrap;<br>            justify-content: flex-start;<br>            width: 100%;<br>        }<br>        .wandb-col {<br>            display: flex;<br>            flex-direction: column;<br>            flex-basis: 100%;<br>            flex: 1;<br>            padding: 10px;<br>        }<br>    </style><br><div class=\"wandb-row\"><div class=\"wandb-col\"><h3>Run history:</h3><br/><table class=\"wandb\"><tr><td>Train - loss</td><td>▅▄▄▄▇▅▅▄▆▄▄█▁▇▆▄▅▆▃▅▄▂▅▇▃▄▄▆▃▅▄▆▂▆▅▄▆▆▆▅</td></tr><tr><td>Train - top-1</td><td>▂▂▂▂▇▃▂▅▂▁▅▇▁▅▄▄▁▂▂▄▂▅▅▅▁▅▄█▁▃▆▂▂▂▅▁▂▂▂▃</td></tr><tr><td>Train - top-10</td><td>▃▅▂▄▄▅▃▄▃█▃▄▃▅█▃▄▁▅▂▄▂▃▃▂▄▁▅▃▄▃▅▄▂▃▂▅▃▂▃</td></tr><tr><td>Train - top-5</td><td>▅▄▁▅▅▃█▁▃▅▆▃▅▅▅▆▃▄▅▆█▇▅▄▆▄▇▄▄▅▅▅▄▄▄▄▆▅▆▅</td></tr><tr><td>Validation - loss</td><td>▅▁▇▄▆▄▃▃██</td></tr><tr><td>Validation - top-1</td><td>▁▅▇▄▄▄▆█▁▄</td></tr><tr><td>Validation - top-10</td><td>▂▁█▃▁▁▇▆▂▅</td></tr><tr><td>Validation - top-5</td><td>▁▆▄▆▆▅█▇▃█</td></tr></table><br/></div><div class=\"wandb-col\"><h3>Run summary:</h3><br/><table class=\"wandb\"><tr><td>Train - loss</td><td>9.87689</td></tr><tr><td>Train - top-1</td><td>2e-05</td></tr><tr><td>Train - top-10</td><td>0.00056</td></tr><tr><td>Train - top-5</td><td>0.00019</td></tr><tr><td>Validation - loss</td><td>9.87546</td></tr><tr><td>Validation - top-1</td><td>0.0</td></tr><tr><td>Validation - top-10</td><td>0.00018</td></tr><tr><td>Validation - top-5</td><td>5e-05</td></tr></table><br/></div></div>"
            ]
          },
          "metadata": {}
        },
        {
          "output_type": "display_data",
          "data": {
            "text/plain": [
              "<IPython.core.display.HTML object>"
            ],
            "text/html": [
              " View run <strong style=\"color:#cdcd00\">third architecture</strong> at: <a href='https://wandb.ai/lukyoda-13-polytechnique-montr-al/INF8225/runs/egy0a07w' target=\"_blank\">https://wandb.ai/lukyoda-13-polytechnique-montr-al/INF8225/runs/egy0a07w</a><br> View project at: <a href='https://wandb.ai/lukyoda-13-polytechnique-montr-al/INF8225' target=\"_blank\">https://wandb.ai/lukyoda-13-polytechnique-montr-al/INF8225</a><br>Synced 5 W&B file(s), 1 media file(s), 5 artifact file(s) and 0 other file(s)"
            ]
          },
          "metadata": {}
        },
        {
          "output_type": "display_data",
          "data": {
            "text/plain": [
              "<IPython.core.display.HTML object>"
            ],
            "text/html": [
              "Find logs at: <code>./wandb/run-20250316_223858-egy0a07w/logs</code>"
            ]
          },
          "metadata": {}
        }
      ]
    },
    {
      "cell_type": "code",
      "source": [
        "sentence = \"Iron Maiden is the best band in the world\"\n",
        "reference = [\"Iron\", \"Maiden\", \"est\", \"le\", \"meilleur\", \"groupe\", \"au\", \"monde\"]\n",
        "get_metrics(model, sentence, reference, config)"
      ],
      "metadata": {
        "colab": {
          "base_uri": "https://localhost:8080/"
        },
        "id": "hL3AfEPI0lOM",
        "outputId": "f6e2d77c-3f38-4cb5-8c36-561abb80dc06"
      },
      "execution_count": null,
      "outputs": [
        {
          "output_type": "stream",
          "name": "stdout",
          "text": [
            "Beam Search : \n",
            "0. (0.00000%) \t séries changements Donne-le-moi résidentiel gencives épais accordez Devinez fainéant documentée enseigna accordez dernièrement accordez attrapée conter fleuves exemples marches-t allusion Mieux devenez sous-sol exemples Jetons moment absurde décliné perdez plais shérif arpenteuse infinies programmes perdez bambin portail exercice attrapés luxueux Libérez concept éclaira joyeuses chapeau exercice cordes injuste empilables funérailles comptais échec bambin précipiter bourrer enquise prêteriez virent\n",
            "BLEU: 0\n",
            "ROUGE-1: 0.024096385542168676\n",
            "ROUGE-2: 0.0\n",
            "ROUGE-L: 0.024096385542168676\n",
            "METEOR: 0.0\n",
            "\n",
            "1. (0.00000%) \t séries changements Donne-le-moi résidentiel gencives épais accordez Devinez fainéant documentée enseigna accordez dernièrement accordez attrapée conter fleuves exemples marches-t allusion Mieux devenez sous-sol exemples Jetons moment absurde décliné perdez plais shérif arpenteuse infinies programmes perdez bambin portail exercice attrapés luxueux Libérez concept éclaira joyeuses chapeau exercice cordes injuste empilables funérailles comptais échec bambin précipiter bourrer enquise prêteriez bicyclette\n",
            "BLEU: 0\n",
            "ROUGE-1: 0.024096385542168676\n",
            "ROUGE-2: 0.0\n",
            "ROUGE-L: 0.024096385542168676\n",
            "METEOR: 0.0\n",
            "\n",
            "2. (0.00000%) \t séries changements Donne-le-moi résidentiel gencives épais accordez Devinez fainéant documentée enseigna accordez dernièrement accordez attrapée conter fleuves exemples marches-t allusion Mieux devenez sous-sol exemples Jetons moment absurde décliné perdez plais shérif arpenteuse infinies programmes perdez bambin portail exercice attrapés luxueux Libérez concept éclaira joyeuses chapeau exercice cordes injuste empilables funérailles comptais échec bambin précipiter bourrer enquise prêteriez détritus\n",
            "BLEU: 0\n",
            "ROUGE-1: 0.02380952380952381\n",
            "ROUGE-2: 0.0\n",
            "ROUGE-L: 0.02380952380952381\n",
            "METEOR: 0.0\n",
            "\n",
            "3. (0.00000%) \t séries changements Donne-le-moi résidentiel gencives épais accordez Devinez fainéant documentée enseigna accordez dernièrement accordez attrapée conter fleuves exemples marches-t allusion Mieux devenez sous-sol exemples Jetons moment absurde décliné perdez plais shérif arpenteuse infinies programmes perdez bambin portail exercice attrapés luxueux Libérez concept éclaira joyeuses chapeau exercice cordes injuste empilables funérailles comptais échec bambin précipiter bourrer enquise prêteriez bloquée\n",
            "BLEU: 0\n",
            "ROUGE-1: 0.02380952380952381\n",
            "ROUGE-2: 0.0\n",
            "ROUGE-L: 0.02380952380952381\n",
            "METEOR: 0.0\n",
            "\n",
            "4. (0.00000%) \t séries changements Donne-le-moi résidentiel gencives épais accordez Devinez fainéant documentée enseigna accordez dernièrement accordez attrapée conter fleuves exemples marches-t allusion Mieux devenez sous-sol exemples Jetons moment absurde décliné perdez plais shérif arpenteuse infinies programmes perdez bambin portail exercice attrapés luxueux Libérez concept éclaira joyeuses chapeau exercice cordes injuste empilables funérailles comptais échec bambin précipiter bourrer enquise prêteriez score\n",
            "BLEU: 0\n",
            "ROUGE-1: 0.024096385542168676\n",
            "ROUGE-2: 0.0\n",
            "ROUGE-L: 0.024096385542168676\n",
            "METEOR: 0.0\n",
            "\n",
            "Greedy search: \t séries suspendit chienne outil professionnels prévenus crédule rougi prépara épais bâclé accordez dernièrement sermonna râteau mourons joyeuses chapeau contentez Hong nuage luxueux dettes payerons tripe hibernent trahis fainéant dénégations enseigna résidentiel raconterez arpenteuse infinies embauchées résidentiel empilables accordez canettes veniez emprunté cinémas commençait cuisinez absurde tasses leurs girafe accordez empilables universel fantastiques recontacterai décideront cimetière immobile Sale offre jouons Rencontrez\n",
            "BLEU: 0\n",
            "ROUGE-1: 0.0\n",
            "ROUGE-2: 0.0\n",
            "ROUGE-L: 0.0\n",
            "METEOR: 0.0\n"
          ]
        }
      ]
    },
    {
      "cell_type": "code",
      "source": [
        "sentence = \"What is the result of this work ?\"\n",
        "reference = [\"Quel\", \"est\", \"le\", \"résultat\", \"de\", \"ce\", \"travail\", \"?\"]\n",
        "get_metrics(model, sentence, reference, config)"
      ],
      "metadata": {
        "id": "YcTJiPnk8ziK",
        "outputId": "1d53522a-892f-4138-f4cd-af3fb374aa1b",
        "colab": {
          "base_uri": "https://localhost:8080/"
        }
      },
      "execution_count": null,
      "outputs": [
        {
          "output_type": "stream",
          "name": "stdout",
          "text": [
            "Beam Search : \n",
            "0. (0.00000%) \t séries changements Donne-le-moi résidentiel nié épais accordez Devinez fainéant documentée enseigna accordez croyait accordez indienne espion excitée remplis empilables Autrefois allusion Mieux devenez sous-sol exemples puisqu'rythme pension tasses empilables épargnée Baissez score virgule programmes décodé immergée rattraperai Reprenons refuse Devinez fainéant documentée indienne espion tasses leurs cerisiers melons fainéant chanceuse commençait traversent retraité croyait talons enquise Attache obéira\n",
            "BLEU: 0\n",
            "ROUGE-1: 0.04819277108433735\n",
            "ROUGE-2: 0.0\n",
            "ROUGE-L: 0.04819277108433735\n",
            "METEOR: 0.0\n",
            "\n",
            "1. (0.00000%) \t séries changements Donne-le-moi résidentiel nié épais accordez Devinez fainéant documentée enseigna accordez croyait accordez indienne espion excitée remplis empilables Autrefois allusion Mieux devenez sous-sol exemples puisqu'rythme pension tasses empilables épargnée Baissez score virgule programmes décodé immergée rattraperai Reprenons refuse Devinez fainéant documentée indienne espion tasses leurs cerisiers melons fainéant chanceuse commençait traversent retraité croyait talons enquise Attache saigneras\n",
            "BLEU: 0\n",
            "ROUGE-1: 0.04878048780487805\n",
            "ROUGE-2: 0.0\n",
            "ROUGE-L: 0.04878048780487805\n",
            "METEOR: 0.0\n",
            "\n",
            "2. (0.00000%) \t séries changements Donne-le-moi résidentiel nié épais accordez Devinez fainéant documentée enseigna accordez croyait accordez indienne espion excitée remplis empilables Autrefois allusion Mieux devenez sous-sol exemples puisqu'rythme pension tasses empilables épargnée Baissez score virgule programmes décodé immergée rattraperai Reprenons refuse Devinez fainéant documentée indienne espion tasses leurs cerisiers melons fainéant chanceuse commençait traversent retraité croyait talons enquise Attache estime\n",
            "BLEU: 0\n",
            "ROUGE-1: 0.04878048780487805\n",
            "ROUGE-2: 0.0\n",
            "ROUGE-L: 0.04878048780487805\n",
            "METEOR: 0.0\n",
            "\n",
            "3. (0.00000%) \t séries changements Donne-le-moi résidentiel nié épais accordez Devinez fainéant documentée enseigna accordez croyait accordez indienne espion excitée remplis empilables Autrefois allusion Mieux devenez sous-sol exemples puisqu'rythme pension tasses empilables épargnée Baissez score virgule programmes décodé immergée rattraperai Reprenons refuse Devinez fainéant documentée indienne espion tasses leurs cerisiers melons fainéant chanceuse commençait traversent retraité croyait talons enquise Attache organisons\n",
            "BLEU: 0\n",
            "ROUGE-1: 0.04878048780487805\n",
            "ROUGE-2: 0.0\n",
            "ROUGE-L: 0.04878048780487805\n",
            "METEOR: 0.0\n",
            "\n",
            "4. (0.00000%) \t séries changements Donne-le-moi résidentiel nié épais accordez Devinez fainéant documentée enseigna accordez croyait accordez indienne espion excitée remplis empilables Autrefois allusion Mieux devenez sous-sol exemples puisqu'rythme pension tasses empilables épargnée Baissez score virgule programmes décodé immergée rattraperai Reprenons refuse Devinez fainéant documentée indienne espion tasses leurs cerisiers melons fainéant chanceuse commençait traversent retraité croyait talons enquise Attache applaudissait\n",
            "BLEU: 0\n",
            "ROUGE-1: 0.04878048780487805\n",
            "ROUGE-2: 0.0\n",
            "ROUGE-L: 0.04878048780487805\n",
            "METEOR: 0.0\n",
            "\n",
            "Greedy search: \t séries changements Donne-le-moi résidentiel torturez aimeras chiqué nia croyait mémoriser dauphins accordez croyait accordez indienne espion excitée remplis empilables Autrefois épais bras accordez devenez détritus embauchées décliné débarrasserai industrielle accordez Vérifiez vengé embauchées croyait puisqu'refuse prospectus ravaler roses veniez emprunté poupon Devinez fous joyeuses tasses leurs score éducateur empilables universel Tes croyait dix-neuf-cent-cinquante-sept manteaux cimetière enquise imprimer choisis cordes\n",
            "BLEU: 0\n",
            "ROUGE-1: 0.047058823529411764\n",
            "ROUGE-2: 0.0\n",
            "ROUGE-L: 0.047058823529411764\n",
            "METEOR: 0.0\n"
          ]
        }
      ]
    },
    {
      "cell_type": "markdown",
      "source": [
        "### Fourth architecture\n",
        "Big architecture. Values of the hyperparameters taken from the article Attention is all you need (name in the article : big)."
      ],
      "metadata": {
        "id": "od4A6GETEamU"
      }
    },
    {
      "cell_type": "code",
      "source": [
        "\n",
        "\n",
        "warmup_steps = 200\n",
        "config = {\n",
        "    # General parameters\n",
        "    'epochs': 10,\n",
        "    'batch_size': 256,\n",
        "    'lr': 1e-3,\n",
        "    'betas': (0.9, 0.99),\n",
        "    'clip': 5,\n",
        "    'device': 'cuda' if torch.cuda.is_available() else 'cpu',\n",
        "\n",
        "    # Model parameters\n",
        "    'n_tokens_src': len(train_dataset.en_vocab),\n",
        "    'n_tokens_tgt': len(train_dataset.fr_vocab),\n",
        "    'n_heads': 8,\n",
        "    'dim_embedding': 512,\n",
        "    'dim_hidden': 256,\n",
        "    'n_layers': 3,\n",
        "    'dropout': 0.2,\n",
        "    'model_type': 'RNN',\n",
        "\n",
        "    # Others\n",
        "    'max_sequence_length': MAX_SEQ_LEN,\n",
        "    'min_token_freq': MIN_TOK_FREQ,\n",
        "    'src_vocab': train_dataset.en_vocab,\n",
        "    'tgt_vocab': train_dataset.fr_vocab,\n",
        "    'src_tokenizer': en_tokenizer,\n",
        "    'tgt_tokenizer': fr_tokenizer,\n",
        "    'src_pad_idx': train_dataset.en_vocab['<pad>'],\n",
        "    'tgt_pad_idx': train_dataset.fr_vocab['<pad>'],\n",
        "    'seed': 0,\n",
        "    'log_every': 50,  # Number of batches between each wandb logs\n",
        "}\n",
        "\n",
        "torch.manual_seed(config['seed'])\n",
        "\n",
        "config['train_loader'] = DataLoader(\n",
        "    train_dataset,\n",
        "    batch_size=config['batch_size'],\n",
        "    shuffle=True,\n",
        "    collate_fn=lambda batch: generate_batch(batch, config['src_pad_idx'], config['tgt_pad_idx'])\n",
        ")\n",
        "\n",
        "config['val_loader'] = DataLoader(\n",
        "    val_dataset,\n",
        "    batch_size=config['batch_size'],\n",
        "    shuffle=True,\n",
        "    collate_fn=lambda batch: generate_batch(batch, config['src_pad_idx'], config['tgt_pad_idx'])\n",
        ")\n",
        "\n",
        "\n",
        "\n",
        "config['optimizer'] = optim.Adam(\n",
        "    model.parameters(),\n",
        "    lr=config['lr'],\n",
        "    betas=config['betas'],\n",
        ")\n",
        "\n",
        "weight_classes = torch.ones(config['n_tokens_tgt'], dtype=torch.float)\n",
        "weight_classes[config['tgt_vocab']['<unk>']] = 0.1  # Lower the importance of that class\n",
        "config['loss'] = nn.CrossEntropyLoss(\n",
        "    weight=weight_classes,\n",
        "    ignore_index=config['tgt_pad_idx'],  # We do not have to learn those\n",
        ")\n",
        "\n",
        "scheduler = CustomLRScheduler(config['optimizer'], config['dim_embedding'], warmup_steps)\n",
        "\n",
        "\n",
        "model = TranslationTransformer(\n",
        "    config['n_tokens_src'],\n",
        "    config['n_tokens_tgt'],\n",
        "    config['n_heads'],\n",
        "    config['dim_embedding'],\n",
        "    config['dim_hidden'],\n",
        "    config['n_layers'],\n",
        "    config['dropout'],\n",
        "    config['src_pad_idx'],\n",
        "    config['tgt_pad_idx'],\n",
        ")\n",
        "\n",
        "summary(\n",
        "    model,\n",
        "    input_size=[\n",
        "        (config['batch_size'], config['max_sequence_length']),\n",
        "        (config['batch_size'], config['max_sequence_length'])\n",
        "    ],\n",
        "    dtypes=[torch.long, torch.long],\n",
        "    depth=3,\n",
        ")\n",
        "\n"
      ],
      "metadata": {
        "id": "dL8AVTo18zVS",
        "outputId": "df02c01a-65db-41fe-e67b-995580ca8e1f",
        "colab": {
          "base_uri": "https://localhost:8080/"
        }
      },
      "execution_count": null,
      "outputs": [
        {
          "output_type": "execute_result",
          "data": {
            "text/plain": [
              "====================================================================================================\n",
              "Layer (type:depth-idx)                             Output Shape              Param #\n",
              "====================================================================================================\n",
              "TranslationTransformer                             [256, 60, 18340]          --\n",
              "├─Embedding: 1-1                                   [256, 60, 512]            6,222,848\n",
              "├─Embedding: 1-2                                   [256, 60, 512]            262,144\n",
              "├─Embedding: 1-3                                   [256, 60, 512]            9,390,080\n",
              "├─Embedding: 1-4                                   [256, 60, 512]            262,144\n",
              "├─Transformer: 1-5                                 [256, 60, 512]            --\n",
              "│    └─TransformerEncoder: 2-1                     [256, 60, 512]            --\n",
              "│    │    └─ModuleList: 3-1                        --                        3,946,752\n",
              "│    └─TransformerDecoder: 2-2                     [256, 60, 512]            --\n",
              "│    │    └─ModuleList: 3-2                        --                        7,101,696\n",
              "├─Linear: 1-6                                      [256, 60, 18340]          9,408,420\n",
              "====================================================================================================\n",
              "Total params: 36,594,084\n",
              "Trainable params: 36,594,084\n",
              "Non-trainable params: 0\n",
              "Total mult-adds (Units.GIGABYTES): 9.37\n",
              "====================================================================================================\n",
              "Input size (MB): 0.25\n",
              "Forward/backward pass size (MB): 6280.15\n",
              "Params size (MB): 146.38\n",
              "Estimated Total Size (MB): 6426.77\n",
              "===================================================================================================="
            ]
          },
          "metadata": {},
          "execution_count": 30
        }
      ]
    },
    {
      "cell_type": "code",
      "source": [
        "with wandb.init(\n",
        "        config=config,\n",
        "        project='INF8225',  # Title of your project\n",
        "        group='Transformers',\n",
        "        save_code=True,\n",
        "        name='fourth architecture',\n",
        "    ):\n",
        "    train_model(model, config,scheduler)"
      ],
      "metadata": {
        "colab": {
          "base_uri": "https://localhost:8080/",
          "height": 1000
        },
        "id": "xkIY6luZPZKs",
        "outputId": "9a196ff0-445b-42fa-c0ef-bc6f4d346f50"
      },
      "execution_count": null,
      "outputs": [
        {
          "output_type": "display_data",
          "data": {
            "text/plain": [
              "<IPython.core.display.HTML object>"
            ],
            "text/html": [
              "Tracking run with wandb version 0.19.8"
            ]
          },
          "metadata": {}
        },
        {
          "output_type": "display_data",
          "data": {
            "text/plain": [
              "<IPython.core.display.HTML object>"
            ],
            "text/html": [
              "Run data is saved locally in <code>/content/wandb/run-20250316_231610-zaztjkmh</code>"
            ]
          },
          "metadata": {}
        },
        {
          "output_type": "display_data",
          "data": {
            "text/plain": [
              "<IPython.core.display.HTML object>"
            ],
            "text/html": [
              "Syncing run <strong><a href='https://wandb.ai/lukyoda-13-polytechnique-montr-al/INF8225/runs/zaztjkmh' target=\"_blank\">fourth architecture</a></strong> to <a href='https://wandb.ai/lukyoda-13-polytechnique-montr-al/INF8225' target=\"_blank\">Weights & Biases</a> (<a href='https://wandb.me/developer-guide' target=\"_blank\">docs</a>)<br>"
            ]
          },
          "metadata": {}
        },
        {
          "output_type": "display_data",
          "data": {
            "text/plain": [
              "<IPython.core.display.HTML object>"
            ],
            "text/html": [
              " View project at <a href='https://wandb.ai/lukyoda-13-polytechnique-montr-al/INF8225' target=\"_blank\">https://wandb.ai/lukyoda-13-polytechnique-montr-al/INF8225</a>"
            ]
          },
          "metadata": {}
        },
        {
          "output_type": "display_data",
          "data": {
            "text/plain": [
              "<IPython.core.display.HTML object>"
            ],
            "text/html": [
              " View run at <a href='https://wandb.ai/lukyoda-13-polytechnique-montr-al/INF8225/runs/zaztjkmh' target=\"_blank\">https://wandb.ai/lukyoda-13-polytechnique-montr-al/INF8225/runs/zaztjkmh</a>"
            ]
          },
          "metadata": {}
        },
        {
          "output_type": "stream",
          "name": "stdout",
          "text": [
            "Starting training for 10 epochs, using cuda.\n",
            "\n",
            "Epoch 1\n",
            "Train -   loss: 9.99     top-1: 0.00    top-5: 0.00    top-10: 0.00\n",
            "Eval -    loss: 10.00    top-1: 0.00    top-5: 0.00    top-10: 0.00\n",
            "Show me where it happened.\n",
            "toqué abattre accusez jurés remise aigre amenés paris souffre repassait rébellion allonger douche marque triomphe amusais assurance radio ravalé Profite venait Renvoie publicitaire intérieure sortirais satisfaisants test déclencher arrêtèrent achats enjeux handicapé du profond diapo biologiste Achetez auto-stoppeurs Informez ferons serrurier moment détritus essayai lycéenne hypocondriaque subir embrassais amie abuse affamée Arménie tenez techniques féminine ratons équitable aimons soulignés\n",
            "\n",
            "Epoch 2\n",
            "Train -   loss: 9.99     top-1: 0.00    top-5: 0.00    top-10: 0.00\n",
            "Eval -    loss: 10.00    top-1: 0.00    top-5: 0.00    top-10: 0.00\n",
            "I've been waiting all day for you.\n",
            "affilié J’ allonger détourna envolé courant tristes pistolets Hey opposants radios allonger douche marque triomphe Seize essaya repassait anodin Bas humiliation visions débarrasser découragez crocodiles témoignerai graves prier musicien pigeon sabots Comporte gomme château commode crédit Suisses trimestre choisi prouva intimidez louée attaquent thermomètre débutent colons lois améliorés chrétiens douche Mêle morts concentrés douche aise fers équitable aimons soulignés\n",
            "\n",
            "Epoch 3\n",
            "Train -   loss: 9.99     top-1: 0.00    top-5: 0.00    top-10: 0.00\n",
            "Eval -    loss: 10.00    top-1: 0.00    top-5: 0.00    top-10: 0.00\n",
            "Where do you usually go fishing?\n",
            "amusèrent fis adoraient attirer athlètes aigre amenés elle atome fichez dangereux allonger douche marque triomphe venait répondeur attaque végétariennes robe toqué van Servez vacances fortement serrées divin brut musicien clôture précisément Ton négociations leçons habitons biologiste Achetez auto-stoppeurs Informez maline capitaine désolées attaquent thermomètre débutent colons lapins mourant foutu fierté Seconde surestimez apprécierais modifié emmène Chicago attendirent excuse nettoies\n",
            "\n",
            "Epoch 4\n",
            "Train -   loss: 9.99     top-1: 0.00    top-5: 0.00    top-10: 0.00\n",
            "Eval -    loss: 10.00    top-1: 0.00    top-5: 0.00    top-10: 0.00\n",
            "The doctor says that I'll never be able to swim again.\n",
            "parlera épris amenés Indiens toqué Effectuez expliquerais buissons manipulateur entrant dangereux allonger douche marque triomphe venait répondeur attaque végétariennes robe toqué exposés Épluche compléter repart Qu'sources négatifs Mêle morts La obsession coréen connaissance commère biologiste Achetez auto-stoppeurs Informez ferons nettoyés originale approcha anéantie sida reçue dira embrassais amie connaissances plaisantent gagnions descendue ma emmène souviens équitable van Marseille\n",
            "\n",
            "Epoch 5\n",
            "Train -   loss: 9.99     top-1: 0.00    top-5: 0.00    top-10: 0.00\n",
            "Eval -    loss: 10.00    top-1: 0.00    top-5: 0.00    top-10: 0.00\n",
            "I'll let you know when it's done.\n",
            "parlera épris accusez jurés remise aigre amenés elle atome fichez dangereux allonger douche marque triomphe amusais assurance bougie influent sauter additionnelle écouler rénové vacances fortement patiemment veiller satisfait gorge clôture puzzle Bois retirée Partez faufilé partit doctorat contusionné préparerai perdrai chatte chamade Autre mourrez sauter acupuncture repos récupéré Prendre brûlé Serre débris préparerait modifié emmène souviens soucies van Marseille\n",
            "\n",
            "Epoch 6\n",
            "Train -   loss: 10.00    top-1: 0.00    top-5: 0.00    top-10: 0.00\n",
            "Eval -    loss: 10.00    top-1: 0.00    top-5: 0.00    top-10: 0.00\n",
            "She taught him the tricks of the trade.\n",
            "amusèrent fis pardonné entouré date toqué amenés elle atome fichez dangereux allonger douche marque triomphe venait répondeur attaque végétariennes robe toqué exposés distribution significations invasion rendras reparler portier chanceuses musicien Barrière amie majeur canons coincé anthropologie acheté abandonne colombe prisonnières changerons nourrissent cuisine toucher cirer sous-estimée quelques admira préoccuperais écouté potentielles handball CD chassé délicate enlèvera équitable aimons soulignés\n",
            "\n",
            "Epoch 7\n",
            "Train -   loss: 10.00    top-1: 0.00    top-5: 0.00    top-10: 0.00\n",
            "Eval -    loss: 10.00    top-1: 0.00    top-5: 0.00    top-10: 0.00\n",
            "We eat to live, not live to eat.\n",
            "affilié inquiétudes accusez survenait toqué nerveuse améliorer déçu Hey opposants radios allonger douche marque triomphe amusais assurance bougie trahirai consommez pilules dangereux aventures rentre décède plombs avalé munitions bruiner vint répéta apprécieras insiste serra présidentielle biologiste Achetez auto-stoppeurs Informez ferons nettoyés épreuves gaspiller spectateurs changée antécédents désorganisée Jetons Pelez évacué Personnellement remarquable prouve distribuer dissuada Bell équitable aimons soulignés\n",
            "\n",
            "Epoch 8\n",
            "Train -   loss: 9.99     top-1: 0.00    top-5: 0.00    top-10: 0.00\n",
            "Eval -    loss: 10.00    top-1: 0.00    top-5: 0.00    top-10: 0.00\n",
            "You are taller than me.\n",
            "toqué monopoles prenait critiqué entraînons aigre amenés perdante hydrogène occuperai radios allonger douche marque triomphe Seize hypoxie repassait anodin libèrerai chanter J’ Payez vacances fortement contrôle su donation musicien agonie Ils étudies majeur dussiez désintoxication avocat employé mélangé 60 perçante dormit soleil diffère souciait biologiste pointait chauffard batte égayé avariée tenez matchs existent spaghetti délicate enlèvera équitable van Marseille\n",
            "\n",
            "Epoch 9\n",
            "Train -   loss: 10.00    top-1: 0.00    top-5: 0.00    top-10: 0.00\n",
            "Eval -    loss: 10.00    top-1: 0.00    top-5: 0.00    top-10: 0.00\n",
            "Tom got fired.\n",
            "amusèrent fis adoraient attirer athlètes aigre amenés elle atome fichez dangereux allonger douche marque effronterie choisi hypoxie journée montiez mec tondrai reposé siffler réglée prier abandonnera veiller production anglaise Pardonne explosion fantasque terrifiée douche aise fromage bienvenu tante agonie cowboy avisés désolées attaquent thermomètre débutent colons tourné descendants amie connaissances divertissante teinturier maigrichon Ferme symphonies laverie persuada Retourne mentir\n",
            "\n",
            "Epoch 10\n",
            "Train -   loss: 9.99     top-1: 0.00    top-5: 0.00    top-10: 0.00\n",
            "Eval -    loss: 10.00    top-1: 0.00    top-5: 0.00    top-10: 0.00\n",
            "He died a few days before his hundredth birthday.\n",
            "parlera épris suspendis deviendras flic Apportez-le-moi Sécession bloquait verglacé propriété dangereux allonger douche marque disons troisième épais tienne J’ fantasque traîné athlètes fermes vacances fortement informer résonna avoua morceau Interdit moment Ton négociations leçons corneilles ironique instrument assise intérieure mah lèche rédaction hérita vieillissons locuteurs dormais grenouille attaquent Voyager pardonné éprouve fanfare examiner traîtresse cirer sous-estimée arrêtions posent bordent\n"
          ]
        },
        {
          "output_type": "display_data",
          "data": {
            "text/plain": [
              "<IPython.core.display.HTML object>"
            ],
            "text/html": []
          },
          "metadata": {}
        },
        {
          "output_type": "display_data",
          "data": {
            "text/plain": [
              "<IPython.core.display.HTML object>"
            ],
            "text/html": [
              "<br>    <style><br>        .wandb-row {<br>            display: flex;<br>            flex-direction: row;<br>            flex-wrap: wrap;<br>            justify-content: flex-start;<br>            width: 100%;<br>        }<br>        .wandb-col {<br>            display: flex;<br>            flex-direction: column;<br>            flex-basis: 100%;<br>            flex: 1;<br>            padding: 10px;<br>        }<br>    </style><br><div class=\"wandb-row\"><div class=\"wandb-col\"><h3>Run history:</h3><br/><table class=\"wandb\"><tr><td>Train - loss</td><td>▃▂▃▃▂▁█▂▂▃▃▂▂▂▂▂▂▂▂▂▂▂▂▂▂▃▂▂▂▂▂▂▂▂▂▂▄▃▂▁</td></tr><tr><td>Train - top-1</td><td>▁▂▂▂▂▃▂▂▁▃▃▂▂▃▃▂▂▂▂▁▄▃▃▂▃█▁▂▃▃▁▂▃▂▂▂▂▂▂▃</td></tr><tr><td>Train - top-10</td><td>▂▂▁▃▂▃▃▂▂▃▃▁▁▂▄▂▁▂▃▂▃▂▂▂▂▂▃▂▁▁▂▂▂▃▃▂█▂▂▂</td></tr><tr><td>Train - top-5</td><td>▄▄▄▅▆▄▅▅▄▅▆▅▆▅▅▄▄▄▅▅█▄▄▄▄▅▁▄▅▆▄▅▅▄▄▄▃▆▄▅</td></tr><tr><td>Validation - loss</td><td>▁▁▂▃█▆▇▂▁▃</td></tr><tr><td>Validation - top-1</td><td>█▇▂▇▁▃▅▇▁▂</td></tr><tr><td>Validation - top-10</td><td>▇█▂▅▁▅▆▇▂█</td></tr><tr><td>Validation - top-5</td><td>▄▆▁▄▁█▄█▃▄</td></tr></table><br/></div><div class=\"wandb-col\"><h3>Run summary:</h3><br/><table class=\"wandb\"><tr><td>Train - loss</td><td>9.99004</td></tr><tr><td>Train - top-1</td><td>7e-05</td></tr><tr><td>Train - top-10</td><td>0.00048</td></tr><tr><td>Train - top-5</td><td>0.00025</td></tr><tr><td>Validation - loss</td><td>10.00034</td></tr><tr><td>Validation - top-1</td><td>2e-05</td></tr><tr><td>Validation - top-10</td><td>0.00042</td></tr><tr><td>Validation - top-5</td><td>0.00018</td></tr></table><br/></div></div>"
            ]
          },
          "metadata": {}
        },
        {
          "output_type": "display_data",
          "data": {
            "text/plain": [
              "<IPython.core.display.HTML object>"
            ],
            "text/html": [
              " View run <strong style=\"color:#cdcd00\">fourth architecture</strong> at: <a href='https://wandb.ai/lukyoda-13-polytechnique-montr-al/INF8225/runs/zaztjkmh' target=\"_blank\">https://wandb.ai/lukyoda-13-polytechnique-montr-al/INF8225/runs/zaztjkmh</a><br> View project at: <a href='https://wandb.ai/lukyoda-13-polytechnique-montr-al/INF8225' target=\"_blank\">https://wandb.ai/lukyoda-13-polytechnique-montr-al/INF8225</a><br>Synced 5 W&B file(s), 1 media file(s), 5 artifact file(s) and 0 other file(s)"
            ]
          },
          "metadata": {}
        },
        {
          "output_type": "display_data",
          "data": {
            "text/plain": [
              "<IPython.core.display.HTML object>"
            ],
            "text/html": [
              "Find logs at: <code>./wandb/run-20250316_231610-zaztjkmh/logs</code>"
            ]
          },
          "metadata": {}
        }
      ]
    },
    {
      "cell_type": "code",
      "source": [
        "sentence = \"Iron Maiden is the best band in the world\"\n",
        "reference = [\"Iron\", \"Maiden\", \"est\", \"le\", \"meilleur\", \"groupe\", \"au\", \"monde\"]\n",
        "get_metrics(model, sentence, reference, config)"
      ],
      "metadata": {
        "id": "7GU_eHJXilmN",
        "colab": {
          "base_uri": "https://localhost:8080/"
        },
        "outputId": "b2bf5a47-23de-46c7-eb66-a8e25f4b42d0"
      },
      "execution_count": null,
      "outputs": [
        {
          "output_type": "stream",
          "name": "stdout",
          "text": [
            "Beam Search : \n",
            "0. (0.00000%) \t toqué procéder réimprimer demi permettra rapide tristes pistolets Hey opposants radios allonger douche marque triomphe troisième épais tienne J’ fantasque terrifiée exposés Épluche compléter Serait bowling J’ envoient musicien indiens coincés dureront remarquable écharde retournez biologiste Achetez auto-stoppeurs Informez maline capitaine parts Supposons méprise paisible déclare dira formellement exagéré sortirais irréparable adhésif appuyer piqûre délicate enlèvera équitable aimons soulignés\n",
            "BLEU: 0\n",
            "ROUGE-1: 0.0\n",
            "ROUGE-2: 0.0\n",
            "ROUGE-L: 0.0\n",
            "METEOR: 0.0\n",
            "\n",
            "1. (0.00000%) \t toqué procéder réimprimer demi permettra rapide tristes pistolets Hey opposants radios allonger douche marque triomphe troisième épais tienne J’ fantasque terrifiée exposés Épluche compléter Serait bowling J’ envoient musicien indiens coincés dureront remarquable écharde retournez biologiste Achetez auto-stoppeurs Informez maline capitaine parts Supposons méprise paisible déclare dira formellement exagéré sortirais irréparable adhésif appuyer piqûre délicate enlèvera équitable aimons soupé\n",
            "BLEU: 0\n",
            "ROUGE-1: 0.0\n",
            "ROUGE-2: 0.0\n",
            "ROUGE-L: 0.0\n",
            "METEOR: 0.0\n",
            "\n",
            "2. (0.00000%) \t toqué procéder réimprimer demi permettra rapide tristes pistolets Hey opposants radios allonger douche marque triomphe troisième épais tienne J’ fantasque terrifiée exposés Épluche compléter Serait bowling J’ envoient musicien indiens coincés dureront remarquable écharde retournez biologiste Achetez auto-stoppeurs Informez maline capitaine parts Supposons méprise paisible déclare dira formellement exagéré sortirais irréparable adhésif appuyer piqûre délicate enlèvera équitable aimons dose\n",
            "BLEU: 0\n",
            "ROUGE-1: 0.0\n",
            "ROUGE-2: 0.0\n",
            "ROUGE-L: 0.0\n",
            "METEOR: 0.0\n",
            "\n",
            "3. (0.00000%) \t toqué procéder réimprimer demi permettra rapide tristes pistolets Hey opposants radios allonger douche marque triomphe troisième épais tienne J’ fantasque terrifiée exposés Épluche compléter Serait bowling J’ envoient musicien indiens coincés dureront remarquable écharde retournez biologiste Achetez auto-stoppeurs Informez maline capitaine parts Supposons méprise paisible déclare dira formellement exagéré sortirais irréparable adhésif appuyer piqûre délicate enlèvera équitable aimons viendront\n",
            "BLEU: 0\n",
            "ROUGE-1: 0.0\n",
            "ROUGE-2: 0.0\n",
            "ROUGE-L: 0.0\n",
            "METEOR: 0.0\n",
            "\n",
            "4. (0.00000%) \t toqué procéder réimprimer demi permettra rapide tristes pistolets Hey opposants radios allonger douche marque triomphe troisième épais tienne J’ fantasque terrifiée exposés Épluche compléter Serait bowling J’ envoient musicien indiens coincés dureront remarquable écharde retournez biologiste Achetez auto-stoppeurs Informez maline capitaine parts Supposons méprise paisible déclare dira formellement exagéré sortirais irréparable adhésif appuyer piqûre délicate enlèvera équitable aimons deviens\n",
            "BLEU: 0\n",
            "ROUGE-1: 0.0\n",
            "ROUGE-2: 0.0\n",
            "ROUGE-L: 0.0\n",
            "METEOR: 0.0\n",
            "\n",
            "Greedy search: \t toqué procéder pointez souvient concrets perdus soleil agence corrélation échouée essayai sécurité chaleureusement accepterais survivrons noix anorexique survivantes bancale flottant chanter dangereux aventures elle aptitude vint opposent envoient musicien indiens coincés dureront remarquable écharde couper ironique instrument assise intérieure nettoya magazine grossiers réélu refroidit comédie essayiez oignons intéressais prévention obscur Rome explique spécialisée jardinage angles échangèrent confectionné tue Égypte poussaient\n",
            "BLEU: 0\n",
            "ROUGE-1: 0.0\n",
            "ROUGE-2: 0.0\n",
            "ROUGE-L: 0.0\n",
            "METEOR: 0.0\n"
          ]
        }
      ]
    },
    {
      "cell_type": "markdown",
      "source": [
        "As we can see the third and fourth architecture have a loss that is too high. The main possible reason is the number of parameters. Also the learning rate scheduler doesn't help either. Let's stick to smaller architectures."
      ],
      "metadata": {
        "id": "i2JLYsUvZw4_"
      }
    },
    {
      "cell_type": "markdown",
      "source": [
        "### Fifth architecture"
      ],
      "metadata": {
        "id": "reg8cpu0aJbf"
      }
    },
    {
      "cell_type": "code",
      "source": [
        "!wandb online\n",
        "\n",
        "# Build the model, the dataloaders, optimizer and the loss function\n",
        "# Log every hyperparameters and arguments into the config dictionnary\n",
        "\n",
        "config = {\n",
        "    # General parameters\n",
        "    'epochs': 10,\n",
        "    'batch_size': 128,\n",
        "    'lr': 1e-3,\n",
        "    'betas': (0.9, 0.99),\n",
        "    'clip': 5,\n",
        "    'device': 'cuda' if torch.cuda.is_available() else 'cpu',\n",
        "\n",
        "    # Model parameters\n",
        "    'n_tokens_src': len(train_dataset.en_vocab),\n",
        "    'n_tokens_tgt': len(train_dataset.fr_vocab),\n",
        "    'n_heads': 14,\n",
        "    'dim_embedding': 196,\n",
        "    'dim_hidden': 256,\n",
        "    'n_layers': 4,\n",
        "    'dropout': 0.1,\n",
        "    'model_type': 'Transformer',\n",
        "\n",
        "    # Others\n",
        "    'max_sequence_length': MAX_SEQ_LEN,\n",
        "    'min_token_freq': MIN_TOK_FREQ,\n",
        "    'src_vocab': train_dataset.en_vocab,\n",
        "    'tgt_vocab': train_dataset.fr_vocab,\n",
        "    'src_tokenizer': en_tokenizer,\n",
        "    'tgt_tokenizer': fr_tokenizer,\n",
        "    'src_pad_idx': train_dataset.en_vocab['<pad>'],\n",
        "    'tgt_pad_idx': train_dataset.fr_vocab['<pad>'],\n",
        "    'seed': 0,\n",
        "    'log_every': 50,  # Number of batches between each wandb logs\n",
        "}\n",
        "\n",
        "torch.manual_seed(config['seed'])\n",
        "\n",
        "config['train_loader'] = DataLoader(\n",
        "    train_dataset,\n",
        "    batch_size=config['batch_size'],\n",
        "    shuffle=True,\n",
        "    collate_fn=lambda batch: generate_batch(batch, config['src_pad_idx'], config['tgt_pad_idx'])\n",
        ")\n",
        "\n",
        "config['val_loader'] = DataLoader(\n",
        "    val_dataset,\n",
        "    batch_size=config['batch_size'],\n",
        "    shuffle=True,\n",
        "    collate_fn=lambda batch: generate_batch(batch, config['src_pad_idx'], config['tgt_pad_idx'])\n",
        ")\n",
        "\n",
        "model = TranslationTransformer(\n",
        "    config['n_tokens_src'],\n",
        "    config['n_tokens_tgt'],\n",
        "    config['n_heads'],\n",
        "    config['dim_embedding'],\n",
        "    config['dim_hidden'],\n",
        "    config['n_layers'],\n",
        "    config['dropout'],\n",
        "    config['src_pad_idx'],\n",
        "    config['tgt_pad_idx'],\n",
        ")\n",
        "\n",
        "\n",
        "config['optimizer'] = optim.Adam(\n",
        "    model.parameters(),\n",
        "    lr=config['lr'],\n",
        "    betas=config['betas'],\n",
        ")\n",
        "\n",
        "weight_classes = torch.ones(config['n_tokens_tgt'], dtype=torch.float)\n",
        "weight_classes[config['tgt_vocab']['<unk>']] = 0.1  # Lower the importance of that class\n",
        "config['loss'] = nn.CrossEntropyLoss(\n",
        "    weight=weight_classes,\n",
        "    ignore_index=config['tgt_pad_idx'],  # We do not have to learn those\n",
        ")\n",
        "\n",
        "summary(\n",
        "    model,\n",
        "    input_size=[\n",
        "        (config['batch_size'], config['max_sequence_length']),\n",
        "        (config['batch_size'], config['max_sequence_length'])\n",
        "    ],\n",
        "    dtypes=[torch.long, torch.long],\n",
        "    depth=3,\n",
        ")\n",
        "\n"
      ],
      "metadata": {
        "colab": {
          "base_uri": "https://localhost:8080/"
        },
        "id": "FZP1Sqx9aAcN",
        "outputId": "300b9315-ad91-4f25-d73f-b153cf1745fc"
      },
      "execution_count": null,
      "outputs": [
        {
          "output_type": "stream",
          "name": "stdout",
          "text": [
            "W&B online. Running your script from this directory will now sync to the cloud.\n"
          ]
        },
        {
          "output_type": "execute_result",
          "data": {
            "text/plain": [
              "====================================================================================================\n",
              "Layer (type:depth-idx)                             Output Shape              Param #\n",
              "====================================================================================================\n",
              "TranslationTransformer                             [128, 60, 18340]          --\n",
              "├─Embedding: 1-1                                   [128, 60, 196]            2,382,184\n",
              "├─Embedding: 1-2                                   [128, 60, 196]            100,352\n",
              "├─Embedding: 1-3                                   [128, 60, 196]            3,594,640\n",
              "├─Embedding: 1-4                                   [128, 60, 196]            100,352\n",
              "├─Transformer: 1-5                                 [128, 60, 196]            --\n",
              "│    └─TransformerEncoder: 2-1                     [128, 60, 196]            --\n",
              "│    │    └─ModuleList: 3-1                        --                        1,024,144\n",
              "│    └─TransformerDecoder: 2-2                     [128, 60, 196]            --\n",
              "│    │    └─ModuleList: 3-2                        --                        1,643,504\n",
              "├─Linear: 1-6                                      [128, 60, 18340]          3,612,980\n",
              "====================================================================================================\n",
              "Total params: 12,458,156\n",
              "Trainable params: 12,458,156\n",
              "Non-trainable params: 0\n",
              "Total mult-adds (Units.GIGABYTES): 1.59\n",
              "====================================================================================================\n",
              "Input size (MB): 0.12\n",
              "Forward/backward pass size (MB): 2216.02\n",
              "Params size (MB): 49.83\n",
              "Estimated Total Size (MB): 2265.97\n",
              "===================================================================================================="
            ]
          },
          "metadata": {},
          "execution_count": 32
        }
      ]
    },
    {
      "cell_type": "code",
      "source": [
        "with wandb.init(\n",
        "        config=config,\n",
        "        project='INF8225',  # Title of your project\n",
        "        group='Transformers',\n",
        "        save_code=True,\n",
        "        name='fifth architecture',\n",
        "    ):\n",
        "    train_model(model, config)"
      ],
      "metadata": {
        "colab": {
          "base_uri": "https://localhost:8080/",
          "height": 1000
        },
        "id": "3IjYl67saVwc",
        "outputId": "aa441d14-6827-4d2c-95ba-2a3b262edf01"
      },
      "execution_count": null,
      "outputs": [
        {
          "output_type": "display_data",
          "data": {
            "text/plain": [
              "<IPython.core.display.HTML object>"
            ],
            "text/html": [
              "Tracking run with wandb version 0.19.8"
            ]
          },
          "metadata": {}
        },
        {
          "output_type": "display_data",
          "data": {
            "text/plain": [
              "<IPython.core.display.HTML object>"
            ],
            "text/html": [
              "Run data is saved locally in <code>/content/wandb/run-20250318_133659-merbp2h8</code>"
            ]
          },
          "metadata": {}
        },
        {
          "output_type": "display_data",
          "data": {
            "text/plain": [
              "<IPython.core.display.HTML object>"
            ],
            "text/html": [
              "Syncing run <strong><a href='https://wandb.ai/lukyoda-13-polytechnique-montr-al/INF8225/runs/merbp2h8' target=\"_blank\">fifth architecture</a></strong> to <a href='https://wandb.ai/lukyoda-13-polytechnique-montr-al/INF8225' target=\"_blank\">Weights & Biases</a> (<a href='https://wandb.me/developer-guide' target=\"_blank\">docs</a>)<br>"
            ]
          },
          "metadata": {}
        },
        {
          "output_type": "display_data",
          "data": {
            "text/plain": [
              "<IPython.core.display.HTML object>"
            ],
            "text/html": [
              " View project at <a href='https://wandb.ai/lukyoda-13-polytechnique-montr-al/INF8225' target=\"_blank\">https://wandb.ai/lukyoda-13-polytechnique-montr-al/INF8225</a>"
            ]
          },
          "metadata": {}
        },
        {
          "output_type": "display_data",
          "data": {
            "text/plain": [
              "<IPython.core.display.HTML object>"
            ],
            "text/html": [
              " View run at <a href='https://wandb.ai/lukyoda-13-polytechnique-montr-al/INF8225/runs/merbp2h8' target=\"_blank\">https://wandb.ai/lukyoda-13-polytechnique-montr-al/INF8225/runs/merbp2h8</a>"
            ]
          },
          "metadata": {}
        },
        {
          "output_type": "stream",
          "name": "stdout",
          "text": [
            "Starting training for 10 epochs, using cuda.\n",
            "\n",
            "Epoch 1\n",
            "Train -   loss: 1.65     top-1: 0.67    top-5: 0.85    top-10: 0.88\n",
            "Eval -    loss: 1.51     top-1: 0.69    top-5: 0.86    top-10: 0.89\n",
            "He wrote to me from time to time.\n",
            "Il m'a écrit de temps à temps.\n",
            "\n",
            "Epoch 2\n",
            "Train -   loss: 1.35     top-1: 0.71    top-5: 0.88    top-10: 0.91\n",
            "Eval -    loss: 1.25     top-1: 0.73    top-5: 0.89    top-10: 0.92\n",
            "Have you ever gone skinny dipping?\n",
            "Avez-vous jamais été aussi maigre ?\n",
            "\n",
            "Epoch 3\n",
            "Train -   loss: 1.20     top-1: 0.74    top-5: 0.90    top-10: 0.93\n",
            "Eval -    loss: 1.12     top-1: 0.75    top-5: 0.91    top-10: 0.93\n",
            "Tom believed it.\n",
            "Tom le croyait.\n",
            "\n",
            "Epoch 4\n",
            "Train -   loss: 1.11     top-1: 0.75    top-5: 0.91    top-10: 0.94\n",
            "Eval -    loss: 1.05     top-1: 0.76    top-5: 0.92    top-10: 0.94\n",
            "What was the weather like yesterday?\n",
            "Quel temps était le temps, hier ?\n",
            "\n",
            "Epoch 5\n",
            "Train -   loss: 1.07     top-1: 0.75    top-5: 0.92    top-10: 0.94\n",
            "Eval -    loss: 1.01     top-1: 0.77    top-5: 0.92    top-10: 0.94\n",
            "Who saw me?\n",
            "Qui m'a vu ?\n",
            "\n",
            "Epoch 6\n",
            "Train -   loss: 1.01     top-1: 0.76    top-5: 0.92    top-10: 0.95\n",
            "Eval -    loss: 0.98     top-1: 0.77    top-5: 0.93    top-10: 0.95\n",
            "They are talking about what they will sing.\n",
            "Ils parlent de ce qu'ils vont chanter.\n",
            "\n",
            "Epoch 7\n",
            "Train -   loss: 0.94     top-1: 0.77    top-5: 0.93    top-10: 0.95\n",
            "Eval -    loss: 0.95     top-1: 0.78    top-5: 0.93    top-10: 0.95\n",
            "Comfort Tom.\n",
            "<unk> Tom.\n",
            "\n",
            "Epoch 8\n",
            "Train -   loss: 0.94     top-1: 0.77    top-5: 0.93    top-10: 0.95\n",
            "Eval -    loss: 0.93     top-1: 0.78    top-5: 0.93    top-10: 0.95\n",
            "I'm starting to get bored.\n",
            "Je commence à m'ennuyer.\n",
            "\n",
            "Epoch 9\n",
            "Train -   loss: 0.90     top-1: 0.78    top-5: 0.93    top-10: 0.96\n",
            "Eval -    loss: 0.92     top-1: 0.78    top-5: 0.93    top-10: 0.95\n",
            "What did you think I'd do?\n",
            "Qu'avez-vous pensé que je ferais ?\n",
            "\n",
            "Epoch 10\n",
            "Train -   loss: 0.87     top-1: 0.79    top-5: 0.94    top-10: 0.96\n",
            "Eval -    loss: 0.92     top-1: 0.79    top-5: 0.93    top-10: 0.95\n",
            "Tom didn't get home until after 2:30 this morning.\n",
            "Tom n'est pas arrivé jusqu'à la maison ce matin.\n"
          ]
        },
        {
          "output_type": "display_data",
          "data": {
            "text/plain": [
              "<IPython.core.display.HTML object>"
            ],
            "text/html": []
          },
          "metadata": {}
        },
        {
          "output_type": "display_data",
          "data": {
            "text/plain": [
              "<IPython.core.display.HTML object>"
            ],
            "text/html": [
              "<br>    <style><br>        .wandb-row {<br>            display: flex;<br>            flex-direction: row;<br>            flex-wrap: wrap;<br>            justify-content: flex-start;<br>            width: 100%;<br>        }<br>        .wandb-col {<br>            display: flex;<br>            flex-direction: column;<br>            flex-basis: 100%;<br>            flex: 1;<br>            padding: 10px;<br>        }<br>    </style><br><div class=\"wandb-row\"><div class=\"wandb-col\"><h3>Run history:</h3><br/><table class=\"wandb\"><tr><td>Train - loss</td><td>██▄▄▄▃▃▃▃▃▃▂▂▂▂▂▂▂▂▂▂▂▂▂▂▂▁▁▁▁▁▂▁▁▁▁▁▁▁▁</td></tr><tr><td>Train - top-1</td><td>▁▄▄▅▆▆▆▆▆▇▇▇▇▇▇█▇▇▇▇▇▇▇▇▇▇▇▇██▇▇██▇█████</td></tr><tr><td>Train - top-10</td><td>▁▄▄▆▆▆▇▇▇▇▇▇█▇▇▇▇██▇▇▇▇███▇█████████████</td></tr><tr><td>Train - top-5</td><td>▁▂▃▃▄▆▆▆▆▆▇▇▇▇▇▇▇▇▇▇▇▇██▇▇██████████████</td></tr><tr><td>Validation - loss</td><td>█▅▃▃▂▂▁▁▁▁</td></tr><tr><td>Validation - top-1</td><td>▁▄▅▆▇▇████</td></tr><tr><td>Validation - top-10</td><td>▁▄▆▆▇▇▇███</td></tr><tr><td>Validation - top-5</td><td>▁▄▆▆▇▇████</td></tr></table><br/></div><div class=\"wandb-col\"><h3>Run summary:</h3><br/><table class=\"wandb\"><tr><td>Train - loss</td><td>0.86598</td></tr><tr><td>Train - top-1</td><td>0.78602</td></tr><tr><td>Train - top-10</td><td>0.95928</td></tr><tr><td>Train - top-5</td><td>0.93873</td></tr><tr><td>Validation - loss</td><td>0.91573</td></tr><tr><td>Validation - top-1</td><td>0.78578</td></tr><tr><td>Validation - top-10</td><td>0.95304</td></tr><tr><td>Validation - top-5</td><td>0.93345</td></tr></table><br/></div></div>"
            ]
          },
          "metadata": {}
        },
        {
          "output_type": "display_data",
          "data": {
            "text/plain": [
              "<IPython.core.display.HTML object>"
            ],
            "text/html": [
              " View run <strong style=\"color:#cdcd00\">fifth architecture</strong> at: <a href='https://wandb.ai/lukyoda-13-polytechnique-montr-al/INF8225/runs/merbp2h8' target=\"_blank\">https://wandb.ai/lukyoda-13-polytechnique-montr-al/INF8225/runs/merbp2h8</a><br> View project at: <a href='https://wandb.ai/lukyoda-13-polytechnique-montr-al/INF8225' target=\"_blank\">https://wandb.ai/lukyoda-13-polytechnique-montr-al/INF8225</a><br>Synced 5 W&B file(s), 1 media file(s), 5 artifact file(s) and 0 other file(s)"
            ]
          },
          "metadata": {}
        },
        {
          "output_type": "display_data",
          "data": {
            "text/plain": [
              "<IPython.core.display.HTML object>"
            ],
            "text/html": [
              "Find logs at: <code>./wandb/run-20250318_133659-merbp2h8/logs</code>"
            ]
          },
          "metadata": {}
        }
      ]
    },
    {
      "cell_type": "markdown",
      "source": [
        "### Sixth architecture"
      ],
      "metadata": {
        "id": "PWXizdV2fOyc"
      }
    },
    {
      "cell_type": "markdown",
      "source": [
        "The previous architectures were big architectures. Let's try with a smaller architecture"
      ],
      "metadata": {
        "id": "qssBVVz4f-Ut"
      }
    },
    {
      "cell_type": "code",
      "source": [
        "!wandb online\n",
        "\n",
        "# Build the model, the dataloaders, optimizer and the loss function\n",
        "# Log every hyperparameters and arguments into the config dictionnary\n",
        "\n",
        "config = {\n",
        "    # General parameters\n",
        "    'epochs': 10,\n",
        "    'batch_size': 128,\n",
        "    'lr': 1e-3,\n",
        "    'betas': (0.9, 0.99),\n",
        "    'clip': 5,\n",
        "    'device': 'cuda' if torch.cuda.is_available() else 'cpu',\n",
        "\n",
        "    # Model parameters\n",
        "    'n_tokens_src': len(train_dataset.en_vocab),\n",
        "    'n_tokens_tgt': len(train_dataset.fr_vocab),\n",
        "    'n_heads': 3,\n",
        "    'dim_embedding': 30,\n",
        "    'dim_hidden': 64,\n",
        "    'n_layers': 2,\n",
        "    'dropout': 0.1,\n",
        "    'model_type': 'Transformer',\n",
        "\n",
        "    # Others\n",
        "    'max_sequence_length': MAX_SEQ_LEN,\n",
        "    'min_token_freq': MIN_TOK_FREQ,\n",
        "    'src_vocab': train_dataset.en_vocab,\n",
        "    'tgt_vocab': train_dataset.fr_vocab,\n",
        "    'src_tokenizer': en_tokenizer,\n",
        "    'tgt_tokenizer': fr_tokenizer,\n",
        "    'src_pad_idx': train_dataset.en_vocab['<pad>'],\n",
        "    'tgt_pad_idx': train_dataset.fr_vocab['<pad>'],\n",
        "    'seed': 0,\n",
        "    'log_every': 50,  # Number of batches between each wandb logs\n",
        "}\n",
        "\n",
        "torch.manual_seed(config['seed'])\n",
        "\n",
        "config['train_loader'] = DataLoader(\n",
        "    train_dataset,\n",
        "    batch_size=config['batch_size'],\n",
        "    shuffle=True,\n",
        "    collate_fn=lambda batch: generate_batch(batch, config['src_pad_idx'], config['tgt_pad_idx'])\n",
        ")\n",
        "\n",
        "config['val_loader'] = DataLoader(\n",
        "    val_dataset,\n",
        "    batch_size=config['batch_size'],\n",
        "    shuffle=True,\n",
        "    collate_fn=lambda batch: generate_batch(batch, config['src_pad_idx'], config['tgt_pad_idx'])\n",
        ")\n",
        "\n",
        "model = TranslationTransformer(\n",
        "    config['n_tokens_src'],\n",
        "    config['n_tokens_tgt'],\n",
        "    config['n_heads'],\n",
        "    config['dim_embedding'],\n",
        "    config['dim_hidden'],\n",
        "    config['n_layers'],\n",
        "    config['dropout'],\n",
        "    config['src_pad_idx'],\n",
        "    config['tgt_pad_idx'],\n",
        ")\n",
        "\n",
        "\n",
        "config['optimizer'] = optim.Adam(\n",
        "    model.parameters(),\n",
        "    lr=config['lr'],\n",
        "    betas=config['betas'],\n",
        ")\n",
        "\n",
        "weight_classes = torch.ones(config['n_tokens_tgt'], dtype=torch.float)\n",
        "weight_classes[config['tgt_vocab']['<unk>']] = 0.1  # Lower the importance of that class\n",
        "config['loss'] = nn.CrossEntropyLoss(\n",
        "    weight=weight_classes,\n",
        "    ignore_index=config['tgt_pad_idx'],  # We do not have to learn those\n",
        ")\n",
        "\n",
        "summary(\n",
        "    model,\n",
        "    input_size=[\n",
        "        (config['batch_size'], config['max_sequence_length']),\n",
        "        (config['batch_size'], config['max_sequence_length'])\n",
        "    ],\n",
        "    dtypes=[torch.long, torch.long],\n",
        "    depth=3,\n",
        ")\n",
        "\n"
      ],
      "metadata": {
        "colab": {
          "base_uri": "https://localhost:8080/"
        },
        "id": "YoKLQQqGleHf",
        "outputId": "72a37b1d-f47f-463a-e276-09321ab30404"
      },
      "execution_count": null,
      "outputs": [
        {
          "output_type": "stream",
          "name": "stdout",
          "text": [
            "W&B online. Running your script from this directory will now sync to the cloud.\n"
          ]
        },
        {
          "output_type": "execute_result",
          "data": {
            "text/plain": [
              "====================================================================================================\n",
              "Layer (type:depth-idx)                             Output Shape              Param #\n",
              "====================================================================================================\n",
              "TranslationTransformer                             [128, 60, 18340]          --\n",
              "├─Embedding: 1-1                                   [128, 60, 30]             364,620\n",
              "├─Embedding: 1-2                                   [128, 60, 30]             15,360\n",
              "├─Embedding: 1-3                                   [128, 60, 30]             550,200\n",
              "├─Embedding: 1-4                                   [128, 60, 30]             15,360\n",
              "├─Transformer: 1-5                                 [128, 60, 30]             --\n",
              "│    └─TransformerEncoder: 2-1                     [128, 60, 30]             --\n",
              "│    │    └─ModuleList: 3-1                        --                        15,548\n",
              "│    └─TransformerDecoder: 2-2                     [128, 60, 30]             --\n",
              "│    │    └─ModuleList: 3-2                        --                        23,108\n",
              "├─Linear: 1-6                                      [128, 60, 18340]          568,540\n",
              "====================================================================================================\n",
              "Total params: 1,552,736\n",
              "Trainable params: 1,552,736\n",
              "Non-trainable params: 0\n",
              "Total mult-adds (Units.MEGABYTES): 198.75\n",
              "====================================================================================================\n",
              "Input size (MB): 0.12\n",
              "Forward/backward pass size (MB): 1219.95\n",
              "Params size (MB): 6.21\n",
              "Estimated Total Size (MB): 1226.29\n",
              "===================================================================================================="
            ]
          },
          "metadata": {},
          "execution_count": 39
        }
      ]
    },
    {
      "cell_type": "code",
      "source": [
        "with wandb.init(\n",
        "        config=config,\n",
        "        project='INF8225',  # Title of your project\n",
        "        group='Transformers',\n",
        "        save_code=True,\n",
        "        name='sixth architecture',\n",
        "    ):\n",
        "    train_model(model, config)"
      ],
      "metadata": {
        "colab": {
          "base_uri": "https://localhost:8080/",
          "height": 1000
        },
        "id": "m6BbA3bqfdX-",
        "outputId": "f45a8645-4f81-4e4f-d6f1-98e01ef9d4ec"
      },
      "execution_count": null,
      "outputs": [
        {
          "output_type": "display_data",
          "data": {
            "text/plain": [
              "<IPython.core.display.HTML object>"
            ],
            "text/html": [
              "Tracking run with wandb version 0.19.8"
            ]
          },
          "metadata": {}
        },
        {
          "output_type": "display_data",
          "data": {
            "text/plain": [
              "<IPython.core.display.HTML object>"
            ],
            "text/html": [
              "Run data is saved locally in <code>/content/wandb/run-20250318_141218-yx2opww2</code>"
            ]
          },
          "metadata": {}
        },
        {
          "output_type": "display_data",
          "data": {
            "text/plain": [
              "<IPython.core.display.HTML object>"
            ],
            "text/html": [
              "Syncing run <strong><a href='https://wandb.ai/lukyoda-13-polytechnique-montr-al/INF8225/runs/yx2opww2' target=\"_blank\">sixth architecture</a></strong> to <a href='https://wandb.ai/lukyoda-13-polytechnique-montr-al/INF8225' target=\"_blank\">Weights & Biases</a> (<a href='https://wandb.me/developer-guide' target=\"_blank\">docs</a>)<br>"
            ]
          },
          "metadata": {}
        },
        {
          "output_type": "display_data",
          "data": {
            "text/plain": [
              "<IPython.core.display.HTML object>"
            ],
            "text/html": [
              " View project at <a href='https://wandb.ai/lukyoda-13-polytechnique-montr-al/INF8225' target=\"_blank\">https://wandb.ai/lukyoda-13-polytechnique-montr-al/INF8225</a>"
            ]
          },
          "metadata": {}
        },
        {
          "output_type": "display_data",
          "data": {
            "text/plain": [
              "<IPython.core.display.HTML object>"
            ],
            "text/html": [
              " View run at <a href='https://wandb.ai/lukyoda-13-polytechnique-montr-al/INF8225/runs/yx2opww2' target=\"_blank\">https://wandb.ai/lukyoda-13-polytechnique-montr-al/INF8225/runs/yx2opww2</a>"
            ]
          },
          "metadata": {}
        },
        {
          "output_type": "stream",
          "name": "stdout",
          "text": [
            "Starting training for 10 epochs, using cuda.\n",
            "\n",
            "Epoch 1\n",
            "Train -   loss: 3.45     top-1: 0.42    top-5: 0.59    top-10: 0.65\n",
            "Eval -    loss: 3.28     top-1: 0.44    top-5: 0.61    top-10: 0.67\n",
            "She arranged the flowers beautifully.\n",
            "Elle sait le français.\n",
            "\n",
            "Epoch 2\n",
            "Train -   loss: 2.93     top-1: 0.48    top-5: 0.67    top-10: 0.73\n",
            "Eval -    loss: 2.71     top-1: 0.51    top-5: 0.69    top-10: 0.75\n",
            "Beef is very expensive.\n",
            "Peu.\n",
            "\n",
            "Epoch 3\n",
            "Train -   loss: 2.61     top-1: 0.53    top-5: 0.72    top-10: 0.77\n",
            "Eval -    loss: 2.40     top-1: 0.55    top-5: 0.74    top-10: 0.79\n",
            "He decided to submit his resignation.\n",
            "Il a décidé de sa fille.\n",
            "\n",
            "Epoch 4\n",
            "Train -   loss: 2.43     top-1: 0.55    top-5: 0.74    top-10: 0.79\n",
            "Eval -    loss: 2.19     top-1: 0.58    top-5: 0.77    top-10: 0.81\n",
            "The cats are safe.\n",
            "Les chats sont différents.\n",
            "\n",
            "Epoch 5\n",
            "Train -   loss: 2.26     top-1: 0.57    top-5: 0.77    top-10: 0.81\n",
            "Eval -    loss: 2.06     top-1: 0.60    top-5: 0.79    top-10: 0.83\n",
            "I was on my way to work.\n",
            "J'étais sur mon chemin de travail.\n",
            "\n",
            "Epoch 6\n",
            "Train -   loss: 2.15     top-1: 0.59    top-5: 0.78    top-10: 0.83\n",
            "Eval -    loss: 1.96     top-1: 0.62    top-5: 0.80    top-10: 0.84\n",
            "No one knows what to say.\n",
            "Personne ne sait ce qui veut dire.\n",
            "\n",
            "Epoch 7\n",
            "Train -   loss: 2.06     top-1: 0.60    top-5: 0.79    top-10: 0.84\n",
            "Eval -    loss: 1.88     top-1: 0.62    top-5: 0.81    top-10: 0.85\n",
            "If for some reason that happened, what would you do?\n",
            "Si vous trouve une raison de quoi que tu ferais   ?\n",
            "\n",
            "Epoch 8\n",
            "Train -   loss: 1.99     top-1: 0.61    top-5: 0.80    top-10: 0.85\n",
            "Eval -    loss: 1.82     top-1: 0.63    top-5: 0.82    top-10: 0.86\n",
            "What do you consider your greatest achievement?\n",
            "Que penses-tu ton album ?\n",
            "\n",
            "Epoch 9\n",
            "Train -   loss: 1.96     top-1: 0.62    top-5: 0.80    top-10: 0.85\n",
            "Eval -    loss: 1.77     top-1: 0.64    top-5: 0.83    top-10: 0.87\n",
            "Many students go to Europe for the purpose of studying music.\n",
            "Beaucoup d'étudiants en Europe pour apprendre la musique.\n",
            "\n",
            "Epoch 10\n",
            "Train -   loss: 1.89     top-1: 0.62    top-5: 0.82    top-10: 0.86\n",
            "Eval -    loss: 1.73     top-1: 0.65    top-5: 0.83    top-10: 0.87\n",
            "You didn't keep your word.\n",
            "Vous n'avez pas tenu votre mot.\n"
          ]
        },
        {
          "output_type": "display_data",
          "data": {
            "text/plain": [
              "<IPython.core.display.HTML object>"
            ],
            "text/html": []
          },
          "metadata": {}
        },
        {
          "output_type": "display_data",
          "data": {
            "text/plain": [
              "<IPython.core.display.HTML object>"
            ],
            "text/html": [
              "<br>    <style><br>        .wandb-row {<br>            display: flex;<br>            flex-direction: row;<br>            flex-wrap: wrap;<br>            justify-content: flex-start;<br>            width: 100%;<br>        }<br>        .wandb-col {<br>            display: flex;<br>            flex-direction: column;<br>            flex-basis: 100%;<br>            flex: 1;<br>            padding: 10px;<br>        }<br>    </style><br><div class=\"wandb-row\"><div class=\"wandb-col\"><h3>Run history:</h3><br/><table class=\"wandb\"><tr><td>Train - loss</td><td>█▄▃▃▃▂▂▂▂▂▂▂▂▂▂▂▂▁▁▁▁▁▁▁▁▁▁▁▁▁▁▁▁▁▁▁▁▁▁▁</td></tr><tr><td>Train - top-1</td><td>▁▂▃▃▃▄▅▅▅▆▆▆▆▆▆▆▆▇▇▇▇▇▇▇▇▇▇▇████████████</td></tr><tr><td>Train - top-10</td><td>▁▃▄▄▅▅▅▅▆▆▆▆▆▆▆▇▇▇▇▇▇▇▇▇████████████████</td></tr><tr><td>Train - top-5</td><td>▁▄▄▅▅▅▅▆▆▆▆▆▇▇▇▇▇▇▇▇▇▇▇▇▇███████████████</td></tr><tr><td>Validation - loss</td><td>█▅▄▃▂▂▂▁▁▁</td></tr><tr><td>Validation - top-1</td><td>▁▃▅▆▆▇▇███</td></tr><tr><td>Validation - top-10</td><td>▁▄▅▆▇▇▇███</td></tr><tr><td>Validation - top-5</td><td>▁▄▅▆▇▇▇███</td></tr></table><br/></div><div class=\"wandb-col\"><h3>Run summary:</h3><br/><table class=\"wandb\"><tr><td>Train - loss</td><td>1.89182</td></tr><tr><td>Train - top-1</td><td>0.6234</td></tr><tr><td>Train - top-10</td><td>0.85933</td></tr><tr><td>Train - top-5</td><td>0.81553</td></tr><tr><td>Validation - loss</td><td>1.73038</td></tr><tr><td>Validation - top-1</td><td>0.64691</td></tr><tr><td>Validation - top-10</td><td>0.86973</td></tr><tr><td>Validation - top-5</td><td>0.83049</td></tr></table><br/></div></div>"
            ]
          },
          "metadata": {}
        },
        {
          "output_type": "display_data",
          "data": {
            "text/plain": [
              "<IPython.core.display.HTML object>"
            ],
            "text/html": [
              " View run <strong style=\"color:#cdcd00\">sixth architecture</strong> at: <a href='https://wandb.ai/lukyoda-13-polytechnique-montr-al/INF8225/runs/yx2opww2' target=\"_blank\">https://wandb.ai/lukyoda-13-polytechnique-montr-al/INF8225/runs/yx2opww2</a><br> View project at: <a href='https://wandb.ai/lukyoda-13-polytechnique-montr-al/INF8225' target=\"_blank\">https://wandb.ai/lukyoda-13-polytechnique-montr-al/INF8225</a><br>Synced 5 W&B file(s), 1 media file(s), 5 artifact file(s) and 0 other file(s)"
            ]
          },
          "metadata": {}
        },
        {
          "output_type": "display_data",
          "data": {
            "text/plain": [
              "<IPython.core.display.HTML object>"
            ],
            "text/html": [
              "Find logs at: <code>./wandb/run-20250318_141218-yx2opww2/logs</code>"
            ]
          },
          "metadata": {}
        }
      ]
    },
    {
      "cell_type": "markdown",
      "source": [
        "A smaller architecture fails to do good translation"
      ],
      "metadata": {
        "id": "2SlPH5CFqHAc"
      }
    },
    {
      "cell_type": "markdown",
      "source": [
        "### Summary"
      ],
      "metadata": {
        "id": "rloGZXI0FfQ1"
      }
    },
    {
      "cell_type": "markdown",
      "source": [
        "\n",
        "\n",
        "<img src=\"https://drive.google.com/uc?id=1_Qx5gffKckj0IY959hygnMm0f-KWrCX-\" alt=\"bayes_net\" width=\"900\"/>"
      ],
      "metadata": {
        "id": "bn2lo-UeFgnd"
      }
    },
    {
      "cell_type": "markdown",
      "source": [
        "<img src=\"https://drive.google.com/uc?id=12h360IOUV1cg7hjlGF9lNK0CbjA_rciC\" alt=\"bayes_net\" width=\"900\"/>\n"
      ],
      "metadata": {
        "id": "Kze4nGtqs7ku"
      }
    },
    {
      "cell_type": "markdown",
      "source": [
        "## Best architecture\n",
        "The best architecture seems to be the second transformer architecture (based on its loss).\n",
        "But the first architecture seems to generalize better. Because the translation of the sentence \"Iron Maiden is the best band in the world\" is better with the first architecture. So the second architecture may be overfitting. Increase the number of heads doesn't necessarily lead to better performance.\n",
        "\n"
      ],
      "metadata": {
        "id": "qcE_JAk9Vq8p"
      }
    },
    {
      "cell_type": "markdown",
      "source": [
        "### Training"
      ],
      "metadata": {
        "id": "0sAIeu7FWARJ"
      }
    },
    {
      "cell_type": "code",
      "source": [
        "!wandb online\n",
        "\n",
        "# Build the model, the dataloaders, optimizer and the loss function\n",
        "# Log every hyperparameters and arguments into the config dictionnary\n",
        "\n",
        "config = {\n",
        "    # General parameters\n",
        "    'epochs': 12,\n",
        "    'batch_size': 128,\n",
        "    'lr': 1e-3,\n",
        "    'betas': (0.9, 0.99),\n",
        "    'clip': 5,\n",
        "    'device': 'cuda' if torch.cuda.is_available() else 'cpu',\n",
        "\n",
        "    # Model parameters\n",
        "    'n_tokens_src': len(train_dataset.en_vocab),\n",
        "    'n_tokens_tgt': len(train_dataset.fr_vocab),\n",
        "    'n_heads': 4,\n",
        "    'dim_embedding': 196,\n",
        "    'dim_hidden': 256,\n",
        "    'n_layers': 1,\n",
        "    'dropout': 0.1,\n",
        "    'model_type': 'RNN',\n",
        "\n",
        "    # Others\n",
        "    'max_sequence_length': MAX_SEQ_LEN,\n",
        "    'min_token_freq': MIN_TOK_FREQ,\n",
        "    'src_vocab': train_dataset.en_vocab,\n",
        "    'tgt_vocab': train_dataset.fr_vocab,\n",
        "    'src_tokenizer': en_tokenizer,\n",
        "    'tgt_tokenizer': fr_tokenizer,\n",
        "    'src_pad_idx': train_dataset.en_vocab['<pad>'],\n",
        "    'tgt_pad_idx': train_dataset.fr_vocab['<pad>'],\n",
        "    'seed': 0,\n",
        "    'log_every': 50,  # Number of batches between each wandb logs\n",
        "}\n",
        "\n",
        "torch.manual_seed(config['seed'])\n",
        "\n",
        "config['train_loader'] = DataLoader(\n",
        "    train_dataset,\n",
        "    batch_size=config['batch_size'],\n",
        "    shuffle=True,\n",
        "    collate_fn=lambda batch: generate_batch(batch, config['src_pad_idx'], config['tgt_pad_idx'])\n",
        ")\n",
        "\n",
        "config['val_loader'] = DataLoader(\n",
        "    val_dataset,\n",
        "    batch_size=config['batch_size'],\n",
        "    shuffle=True,\n",
        "    collate_fn=lambda batch: generate_batch(batch, config['src_pad_idx'], config['tgt_pad_idx'])\n",
        ")\n",
        "\n",
        "model = TranslationTransformer(\n",
        "    config['n_tokens_src'],\n",
        "    config['n_tokens_tgt'],\n",
        "    config['n_heads'],\n",
        "    config['dim_embedding'],\n",
        "    config['dim_hidden'],\n",
        "    config['n_layers'],\n",
        "    config['dropout'],\n",
        "    config['src_pad_idx'],\n",
        "    config['tgt_pad_idx'],\n",
        ")\n",
        "\n",
        "\n",
        "config['optimizer'] = optim.Adam(\n",
        "    model.parameters(),\n",
        "    lr=config['lr'],\n",
        "    betas=config['betas'],\n",
        ")\n",
        "\n",
        "weight_classes = torch.ones(config['n_tokens_tgt'], dtype=torch.float)\n",
        "weight_classes[config['tgt_vocab']['<unk>']] = 0.1  # Lower the importance of that class\n",
        "config['loss'] = nn.CrossEntropyLoss(\n",
        "    weight=weight_classes,\n",
        "    ignore_index=config['tgt_pad_idx'],  # We do not have to learn those\n",
        ")\n",
        "\n",
        "summary(\n",
        "    model,\n",
        "    input_size=[\n",
        "        (config['batch_size'], config['max_sequence_length']),\n",
        "        (config['batch_size'], config['max_sequence_length'])\n",
        "    ],\n",
        "    dtypes=[torch.long, torch.long],\n",
        "    depth=3,\n",
        ")\n",
        "\n"
      ],
      "metadata": {
        "id": "UmGgeBGOD4Js",
        "colab": {
          "base_uri": "https://localhost:8080/"
        },
        "outputId": "70776e86-343d-48ea-b8a0-285116189baf"
      },
      "execution_count": null,
      "outputs": [
        {
          "output_type": "stream",
          "name": "stdout",
          "text": [
            "W&B online. Running your script from this directory will now sync to the cloud.\n"
          ]
        },
        {
          "output_type": "execute_result",
          "data": {
            "text/plain": [
              "====================================================================================================\n",
              "Layer (type:depth-idx)                             Output Shape              Param #\n",
              "====================================================================================================\n",
              "TranslationTransformer                             [128, 60, 18340]          --\n",
              "├─Embedding: 1-1                                   [128, 60, 196]            2,382,184\n",
              "├─Embedding: 1-2                                   [128, 60, 196]            100,352\n",
              "├─Embedding: 1-3                                   [128, 60, 196]            3,594,640\n",
              "├─Embedding: 1-4                                   [128, 60, 196]            100,352\n",
              "├─Transformer: 1-5                                 [128, 60, 196]            --\n",
              "│    └─TransformerEncoder: 2-1                     [128, 60, 196]            --\n",
              "│    │    └─ModuleList: 3-1                        --                        256,036\n",
              "│    └─TransformerDecoder: 2-2                     [128, 60, 196]            --\n",
              "│    │    └─ModuleList: 3-2                        --                        410,876\n",
              "├─Linear: 1-6                                      [128, 60, 18340]          3,612,980\n",
              "====================================================================================================\n",
              "Total params: 10,457,420\n",
              "Trainable params: 10,457,420\n",
              "Non-trainable params: 0\n",
              "Total mult-adds (Units.GIGABYTES): 1.34\n",
              "====================================================================================================\n",
              "Input size (MB): 0.12\n",
              "Forward/backward pass size (MB): 1435.24\n",
              "Params size (MB): 41.83\n",
              "Estimated Total Size (MB): 1477.19\n",
              "===================================================================================================="
            ]
          },
          "metadata": {},
          "execution_count": 19
        }
      ]
    },
    {
      "cell_type": "code",
      "source": [
        "with wandb.init(\n",
        "        config=config,\n",
        "        project='INF8225',  # Title of your project\n",
        "        group='Best architecture',  # In what group of runs do you want this run to be in?\n",
        "        save_code=True,\n",
        "        name='first architecture',\n",
        "    ):\n",
        "    train_model(model, config)\n",
        "wandb.finish()"
      ],
      "metadata": {
        "colab": {
          "base_uri": "https://localhost:8080/",
          "height": 1000
        },
        "id": "rLH1ryQjAcYg",
        "outputId": "f808abc4-b08f-428f-9d0e-a67d82d129a4"
      },
      "execution_count": null,
      "outputs": [
        {
          "output_type": "stream",
          "name": "stderr",
          "text": [
            "\u001b[34m\u001b[1mwandb\u001b[0m: Using wandb-core as the SDK backend.  Please refer to https://wandb.me/wandb-core for more information.\n",
            "\u001b[34m\u001b[1mwandb\u001b[0m: Currently logged in as: \u001b[33mlukyoda-13\u001b[0m (\u001b[33mlukyoda-13-polytechnique-montr-al\u001b[0m) to \u001b[32mhttps://api.wandb.ai\u001b[0m. Use \u001b[1m`wandb login --relogin`\u001b[0m to force relogin\n"
          ]
        },
        {
          "output_type": "display_data",
          "data": {
            "text/plain": [
              "<IPython.core.display.HTML object>"
            ],
            "text/html": [
              "Tracking run with wandb version 0.19.8"
            ]
          },
          "metadata": {}
        },
        {
          "output_type": "display_data",
          "data": {
            "text/plain": [
              "<IPython.core.display.HTML object>"
            ],
            "text/html": [
              "Run data is saved locally in <code>/content/wandb/run-20250323_123743-pjp8tc3r</code>"
            ]
          },
          "metadata": {}
        },
        {
          "output_type": "display_data",
          "data": {
            "text/plain": [
              "<IPython.core.display.HTML object>"
            ],
            "text/html": [
              "Syncing run <strong><a href='https://wandb.ai/lukyoda-13-polytechnique-montr-al/INF8225/runs/pjp8tc3r' target=\"_blank\">first architecture</a></strong> to <a href='https://wandb.ai/lukyoda-13-polytechnique-montr-al/INF8225' target=\"_blank\">Weights & Biases</a> (<a href='https://wandb.me/developer-guide' target=\"_blank\">docs</a>)<br>"
            ]
          },
          "metadata": {}
        },
        {
          "output_type": "display_data",
          "data": {
            "text/plain": [
              "<IPython.core.display.HTML object>"
            ],
            "text/html": [
              " View project at <a href='https://wandb.ai/lukyoda-13-polytechnique-montr-al/INF8225' target=\"_blank\">https://wandb.ai/lukyoda-13-polytechnique-montr-al/INF8225</a>"
            ]
          },
          "metadata": {}
        },
        {
          "output_type": "display_data",
          "data": {
            "text/plain": [
              "<IPython.core.display.HTML object>"
            ],
            "text/html": [
              " View run at <a href='https://wandb.ai/lukyoda-13-polytechnique-montr-al/INF8225/runs/pjp8tc3r' target=\"_blank\">https://wandb.ai/lukyoda-13-polytechnique-montr-al/INF8225/runs/pjp8tc3r</a>"
            ]
          },
          "metadata": {}
        },
        {
          "output_type": "stream",
          "name": "stdout",
          "text": [
            "Starting training for 12 epochs, using cuda.\n",
            "\n",
            "Epoch 1\n",
            "Train -   loss: 1.96     top-1: 0.62    top-5: 0.81    top-10: 0.85\n",
            "Eval -    loss: 1.74     top-1: 0.65    top-5: 0.83    top-10: 0.87\n",
            "You never asked what I wanted.\n",
            "Tu n'as jamais demandé ce que je voulais.\n",
            "\n",
            "Epoch 2\n",
            "Train -   loss: 1.60     top-1: 0.67    top-5: 0.85    top-10: 0.89\n",
            "Eval -    loss: 1.44     top-1: 0.69    top-5: 0.87    top-10: 0.90\n",
            "Have you read this book already?\n",
            "Avez-vous déjà lu ce livre ?\n",
            "\n",
            "Epoch 3\n",
            "Train -   loss: 1.43     top-1: 0.69    top-5: 0.88    top-10: 0.91\n",
            "Eval -    loss: 1.31     top-1: 0.71    top-5: 0.89    top-10: 0.92\n",
            "He is playing in his room.\n",
            "Il joue dans sa chambre.\n",
            "\n",
            "Epoch 4\n",
            "Train -   loss: 1.35     top-1: 0.70    top-5: 0.88    top-10: 0.92\n",
            "Eval -    loss: 1.23     top-1: 0.73    top-5: 0.90    top-10: 0.92\n",
            "I wish my girlfriend would spend more time with me.\n",
            "J'aimerais que ma petite amie passe davantage de temps avec moi.\n",
            "\n",
            "Epoch 5\n",
            "Train -   loss: 1.24     top-1: 0.72    top-5: 0.90    top-10: 0.93\n",
            "Eval -    loss: 1.18     top-1: 0.74    top-5: 0.90    top-10: 0.93\n",
            "He was so sad that he almost went mad.\n",
            "Il était si triste qu'il est parti.\n",
            "\n",
            "Epoch 6\n",
            "Train -   loss: 1.21     top-1: 0.73    top-5: 0.90    top-10: 0.93\n",
            "Eval -    loss: 1.15     top-1: 0.74    top-5: 0.91    top-10: 0.93\n",
            "You can get a loan from a bank.\n",
            "Tu peux obtenir un prêt de banque.\n",
            "\n",
            "Epoch 7\n",
            "Train -   loss: 1.14     top-1: 0.74    top-5: 0.91    top-10: 0.94\n",
            "Eval -    loss: 1.12     top-1: 0.75    top-5: 0.91    top-10: 0.93\n",
            "I swear I didn't make this up.\n",
            "Je jure que je ne faisais pas ça.\n",
            "\n",
            "Epoch 8\n",
            "Train -   loss: 1.11     top-1: 0.74    top-5: 0.91    top-10: 0.94\n",
            "Eval -    loss: 1.10     top-1: 0.75    top-5: 0.91    top-10: 0.94\n",
            "I had to stop.\n",
            "J'ai dû arrêter.\n",
            "\n",
            "Epoch 9\n",
            "Train -   loss: 1.08     top-1: 0.75    top-5: 0.92    top-10: 0.94\n",
            "Eval -    loss: 1.08     top-1: 0.76    top-5: 0.91    top-10: 0.94\n",
            "CEO's of American corporations are paid several times their Japanese counterparts.\n",
            "Les habitants de l'immobilier a été payé plusieurs fois leurs japonaise.\n",
            "\n",
            "Epoch 10\n",
            "Train -   loss: 1.08     top-1: 0.75    top-5: 0.92    top-10: 0.94\n",
            "Eval -    loss: 1.06     top-1: 0.76    top-5: 0.92    top-10: 0.94\n",
            "Tom is trying to make sure that everything is ready.\n",
            "Tom essaie d'essayer de assurer que tout est prêt.\n",
            "\n",
            "Epoch 11\n",
            "Train -   loss: 1.04     top-1: 0.76    top-5: 0.92    top-10: 0.94\n",
            "Eval -    loss: 1.05     top-1: 0.76    top-5: 0.92    top-10: 0.94\n",
            "I have to stop you from doing that. \"Stop me from doing what?\"\n",
            "«   Je dois t'empêcher de faire ça.   » «   Pas de quoi   ?   »\n",
            "\n",
            "Epoch 12\n",
            "Train -   loss: 1.00     top-1: 0.76    top-5: 0.92    top-10: 0.95\n",
            "Eval -    loss: 1.04     top-1: 0.76    top-5: 0.92    top-10: 0.94\n",
            "I'm only going to show you once.\n",
            "Je ne vais te montrer tout de suite.\n"
          ]
        },
        {
          "output_type": "display_data",
          "data": {
            "text/plain": [
              "<IPython.core.display.HTML object>"
            ],
            "text/html": []
          },
          "metadata": {}
        },
        {
          "output_type": "display_data",
          "data": {
            "text/plain": [
              "<IPython.core.display.HTML object>"
            ],
            "text/html": [
              "<br>    <style><br>        .wandb-row {<br>            display: flex;<br>            flex-direction: row;<br>            flex-wrap: wrap;<br>            justify-content: flex-start;<br>            width: 100%;<br>        }<br>        .wandb-col {<br>            display: flex;<br>            flex-direction: column;<br>            flex-basis: 100%;<br>            flex: 1;<br>            padding: 10px;<br>        }<br>    </style><br><div class=\"wandb-row\"><div class=\"wandb-col\"><h3>Run history:</h3><br/><table class=\"wandb\"><tr><td>Train - loss</td><td>█▇▆▆▅▄▃▃▃▃▃▃▂▂▂▃▃▃▂▂▂▂▂▂▂▂▁▂▂▂▂▁▁▁▂▁▁▁▁▁</td></tr><tr><td>Train - top-1</td><td>▁▂▃▄▅▆▆▆▆▆▆▆▆▆▆▆▇▇▇█▇▇█▇████▇▇██████████</td></tr><tr><td>Train - top-10</td><td>▁▂▅▅▆▆▆▆▇▇▇▇▇▇▇▇▇▇██████████████████████</td></tr><tr><td>Train - top-5</td><td>▁▂▄▄▅▆▆▇▇▇▇▇▇▇▇▇█▇▇██▇██████████████████</td></tr><tr><td>Validation - loss</td><td>█▅▄▃▂▂▂▂▁▁▁▁</td></tr><tr><td>Validation - top-1</td><td>▁▄▅▆▆▇▇▇████</td></tr><tr><td>Validation - top-10</td><td>▁▄▅▆▇▇▇▇████</td></tr><tr><td>Validation - top-5</td><td>▁▄▅▆▇▇▇▇████</td></tr></table><br/></div><div class=\"wandb-col\"><h3>Run summary:</h3><br/><table class=\"wandb\"><tr><td>Train - loss</td><td>1.0026</td></tr><tr><td>Train - top-1</td><td>0.76263</td></tr><tr><td>Train - top-10</td><td>0.94921</td></tr><tr><td>Train - top-5</td><td>0.92455</td></tr><tr><td>Validation - loss</td><td>1.03892</td></tr><tr><td>Validation - top-1</td><td>0.76393</td></tr><tr><td>Validation - top-10</td><td>0.94266</td></tr><tr><td>Validation - top-5</td><td>0.91919</td></tr></table><br/></div></div>"
            ]
          },
          "metadata": {}
        },
        {
          "output_type": "display_data",
          "data": {
            "text/plain": [
              "<IPython.core.display.HTML object>"
            ],
            "text/html": [
              " View run <strong style=\"color:#cdcd00\">first architecture</strong> at: <a href='https://wandb.ai/lukyoda-13-polytechnique-montr-al/INF8225/runs/pjp8tc3r' target=\"_blank\">https://wandb.ai/lukyoda-13-polytechnique-montr-al/INF8225/runs/pjp8tc3r</a><br> View project at: <a href='https://wandb.ai/lukyoda-13-polytechnique-montr-al/INF8225' target=\"_blank\">https://wandb.ai/lukyoda-13-polytechnique-montr-al/INF8225</a><br>Synced 5 W&B file(s), 1 media file(s), 5 artifact file(s) and 0 other file(s)"
            ]
          },
          "metadata": {}
        },
        {
          "output_type": "display_data",
          "data": {
            "text/plain": [
              "<IPython.core.display.HTML object>"
            ],
            "text/html": [
              "Find logs at: <code>./wandb/run-20250323_123743-pjp8tc3r/logs</code>"
            ]
          },
          "metadata": {}
        }
      ]
    },
    {
      "cell_type": "markdown",
      "source": [
        "<img src=\"https://drive.google.com/uc?id=1pd1UTt__FOzQNR2Py9jkqERuHNTOeStp\" alt=\"bayes_net\" width=\"700\"/>"
      ],
      "metadata": {
        "id": "H8eXrpKjKdjA"
      }
    },
    {
      "cell_type": "markdown",
      "source": [
        "\n",
        "<img src=\"https://drive.google.com/uc?id=1NqdYPzqIOTi1SVRBIDoJrDi88cnQ44Zn\" alt=\"bayes_net\" width=\"700\"/>\n"
      ],
      "metadata": {
        "id": "rEW8IhX_J0nQ"
      }
    },
    {
      "cell_type": "markdown",
      "source": [
        "### Evaluation"
      ],
      "metadata": {
        "id": "PonKtwzKWBe0"
      }
    },
    {
      "cell_type": "code",
      "source": [
        "import matplotlib.pyplot as plt\n",
        "def evaluate_model_on_dataset(model, sentences, references, config, method='greedy', beam_width=10, k=5):\n",
        "    \"\"\"\n",
        "    Evaluates the model on a list of sentences and references.\n",
        "\n",
        "    Args:\n",
        "        model: The translation/generation model.\n",
        "        sentences (List[str]): List of source sentences.\n",
        "        references (List[List[str]]): List of reference token lists.\n",
        "        config (dict): Configuration parameters.\n",
        "        method (str): Either 'greedy' or 'beam' search.\n",
        "        beam_width (int): Beam width if using beam search.\n",
        "        k (int): Number of beam candidates to consider.\n",
        "\n",
        "    Returns:\n",
        "        List[dict]: A list of metrics dictionaries for each sentence.\n",
        "    \"\"\"\n",
        "    all_metrics = []\n",
        "    for sentence, reference in zip(sentences, references):\n",
        "        if method == 'greedy':\n",
        "            translation = greedy_search(\n",
        "                model,\n",
        "                sentence,\n",
        "                config['src_vocab'],\n",
        "                config['tgt_vocab'],\n",
        "                config['src_tokenizer'],\n",
        "                config['device'],\n",
        "                max_sentence_length=config['max_sequence_length']\n",
        "            )\n",
        "            print(\"sentence : \", sentence)\n",
        "            print(\"translation : \", translation.split())\n",
        "            print(\"reference : \", reference)\n",
        "            print()\n",
        "            metrics = compute_metrics(reference, translation.split())\n",
        "        elif method == 'beam':\n",
        "            preds = beam_search(\n",
        "                model,\n",
        "                sentence,\n",
        "                config['src_vocab'],\n",
        "                config['tgt_vocab'],\n",
        "                config['src_tokenizer'],\n",
        "                config['device'],\n",
        "                beam_width=beam_width,\n",
        "                max_target=100,\n",
        "                max_sentence_length=config['max_sequence_length']\n",
        "            )[:k]\n",
        "            # Pick the best translation (first candidate)\n",
        "            translation, likelihood = preds[0]\n",
        "            print(\"translation : \", translation.split())\n",
        "            print(\"reference : \", reference)\n",
        "            metrics = compute_metrics(reference, translation.split())\n",
        "        else:\n",
        "            raise ValueError(\"Invalid method: choose 'greedy' or 'beam'\")\n",
        "        all_metrics.append(metrics)\n",
        "    return all_metrics\n",
        "\n",
        "def aggregate_metrics(all_metrics):\n",
        "    \"\"\"\n",
        "    Aggregates metrics by computing the average for each metric.\n",
        "\n",
        "    Args:\n",
        "        all_metrics (List[dict]): List of metrics for each sentence.\n",
        "\n",
        "    Returns:\n",
        "        dict: Average metrics.\n",
        "    \"\"\"\n",
        "    avg_metrics = {}\n",
        "    keys = all_metrics[0].keys()\n",
        "    for key in keys:\n",
        "        avg_metrics[key] = np.mean([m[key] for m in all_metrics])\n",
        "    return avg_metrics\n",
        "\n",
        "def plot_metrics_distribution(all_metrics):\n",
        "    \"\"\"\n",
        "    Plots histograms for the distribution of each metric.\n",
        "\n",
        "    Args:\n",
        "        all_metrics (List[dict]): List of metrics for each sentence.\n",
        "    \"\"\"\n",
        "    metrics_names = list(all_metrics[0].keys())\n",
        "    data = {metric: [m[metric] for m in all_metrics] for metric in metrics_names}\n",
        "\n",
        "    plt.figure(figsize=(15, 10))\n",
        "    for i, metric in enumerate(metrics_names):\n",
        "        plt.subplot(2, 3, i+1)\n",
        "        plt.hist(data[metric], bins=20, color='skyblue', edgecolor='black')\n",
        "        plt.title(f\"Distribution of {metric}\")\n",
        "        plt.xlabel(metric)\n",
        "        plt.ylabel(\"Frequency\")\n",
        "    plt.tight_layout()\n",
        "    plt.show()\n",
        "\n",
        "def plot_average_metrics(avg_metrics):\n",
        "    \"\"\"\n",
        "    Plots a bar chart of average metrics.\n",
        "\n",
        "    Args:\n",
        "        avg_metrics (dict): Dictionary of average metrics.\n",
        "    \"\"\"\n",
        "    metrics = list(avg_metrics.keys())\n",
        "    values = list(avg_metrics.values())\n",
        "\n",
        "    plt.figure(figsize=(10, 6))\n",
        "    plt.bar(metrics, values, color='lightgreen', edgecolor='black')\n",
        "    plt.title(\"Average Metrics over the Dataset\")\n",
        "    plt.xlabel(\"Metrics\")\n",
        "    plt.ylabel(\"Average Score\")\n",
        "    plt.show()"
      ],
      "metadata": {
        "id": "AGL9mjszWDYl"
      },
      "execution_count": null,
      "outputs": []
    },
    {
      "cell_type": "code",
      "source": [
        "sample_data = [\n",
        "        {\n",
        "            \"sentence\": \"Iron Maiden is the best band in the world\",\n",
        "            \"reference\": [\"Iron\", \"Maiden\", \"est\", \"le\", \"meilleur\", \"groupe\", \"au\", \"monde\"]\n",
        "        },\n",
        "        {\n",
        "            \"sentence\": \"The quick brown fox jumps over the lazy dog\",\n",
        "            \"reference\": [\"Le\", \"renard\", \"brun\", \"rapide\", \"saute\", \"par-dessus\", \"le\", \"chien\", \"paresseux\"]\n",
        "        },\n",
        "        {\n",
        "            \"sentence\": \"Artificial intelligence is transforming our world\",\n",
        "            \"reference\": [\"L'intelligence\", \"artificielle\", \"transforme\", \"notre\", \"monde\"]\n",
        "        },\n",
        "        {\n",
        "            \"sentence\": \"Hello world\",\n",
        "            \"reference\": [\"Bonjour\", \"le\", \"monde\"]\n",
        "        },\n",
        "         {\n",
        "            \"sentence\": \"This is a test sentence\",\n",
        "            \"reference\": [\"Ceci\", \"est\", \"une\", \"phrase\", \"de\", \"test\"]\n",
        "        },\n",
        "        {\"sentence\": \"The weather is nice today.\", \"reference\": \"Le temps est agréable aujourd'hui.\".split()},\n",
        "        {\"sentence\": \"I enjoy reading books in the park.\", \"reference\": \"J'aime lire des livres dans le parc.\".split()},\n",
        "        {\"sentence\": \"She loves to play the piano.\", \"reference\": \"Elle aime jouer du piano.\".split()},\n",
        "        {\"sentence\": \"The children are playing in the garden.\", \"reference\": \"Les enfants jouent dans le jardin.\".split()},\n",
        "        {\"sentence\": \"He is working on a new project.\", \"reference\": \"Il travaille sur un nouveau projet.\".split()},\n",
        "        {\"sentence\": \"They visited the museum last weekend.\", \"reference\": \"Ils ont visité le musée le week-end dernier.\".split()},\n",
        "        {\"sentence\": \"Our team won the championship.\", \"reference\": \"Notre équipe a gagné le championnat.\".split()},\n",
        "        {\"sentence\": \"The food at that restaurant is delicious.\", \"reference\": \"La nourriture dans ce restaurant est délicieuse.\".split()},\n",
        "        {\"sentence\": \"I will travel to France next summer.\", \"reference\": \"Je voyagerai en France l'été prochain.\".split()},\n",
        "        {\"sentence\": \"Technology is changing the world rapidly.\", \"reference\": \"La technologie change le monde rapidement.\".split()},\n",
        "        {\"sentence\": \"She is learning to speak Spanish.\", \"reference\": \"Elle apprend à parler espagnol.\".split()},\n",
        "        {\"sentence\": \"Music brings joy to our lives.\", \"reference\": \"La musique apporte de la joie à nos vies.\".split()},\n",
        "        {\"sentence\": \"He enjoys hiking in the mountains.\", \"reference\": \"Il aime faire de la randonnée dans les montagnes.\".split()},\n",
        "        {\"sentence\": \"The movie was both entertaining and thought-provoking.\", \"reference\": \"Le film était à la fois divertissant et stimulant.\".split()},\n",
        "        {\"sentence\": \"They are planning a surprise party for their friend.\", \"reference\": \"Ils prévoient une fête surprise pour leur ami.\".split()}\n",
        "\n",
        "    ]\n",
        "\n",
        "\n"
      ],
      "metadata": {
        "id": "4eK_V0yKXOZ4"
      },
      "execution_count": null,
      "outputs": []
    },
    {
      "cell_type": "code",
      "source": [
        "dataset = sample_data\n",
        "sentences = [item[\"sentence\"] for item in dataset]\n",
        "references = [item[\"reference\"] for item in dataset]\n",
        "\n",
        "# Evaluate the model on the dataset using greedy search.\n",
        "all_metrics = evaluate_model_on_dataset(model, sentences, references, config, method='greedy')\n",
        "avg_metrics = aggregate_metrics(all_metrics)\n",
        "print(\"Average Metrics over the Dataset:\")\n",
        "for metric, value in avg_metrics.items():\n",
        "  print(f\"{metric}: {value}\")\n",
        "\n"
      ],
      "metadata": {
        "colab": {
          "base_uri": "https://localhost:8080/"
        },
        "id": "e6fR2Zl5HkiL",
        "outputId": "2af69435-ed31-4b48-c769-f3e7e44d9d11"
      },
      "execution_count": null,
      "outputs": [
        {
          "output_type": "stream",
          "name": "stdout",
          "text": [
            "sentence :  Iron Maiden is the best band in the world\n",
            "translation :  ['Le', 'Le', 'vin', 'est', 'le', 'meilleur', 'groupe', 'dans', 'le', 'monde.']\n",
            "reference :  ['Iron', 'Maiden', 'est', 'le', 'meilleur', 'groupe', 'au', 'monde']\n",
            "\n",
            "sentence :  The quick brown fox jumps over the lazy dog\n",
            "translation :  ['Le', 'centre-ville', 'marron', 'le', 'renard.']\n",
            "reference :  ['Le', 'renard', 'brun', 'rapide', 'saute', 'par-dessus', 'le', 'chien', 'paresseux']\n",
            "\n",
            "sentence :  Artificial intelligence is transforming our world\n",
            "translation :  [\"L'intelligence\", 'artificielle', 'est', 'plus', 'grande', 'que', 'le', 'monde', 'soit', 'au', 'monde.']\n",
            "reference :  [\"L'intelligence\", 'artificielle', 'transforme', 'notre', 'monde']\n",
            "\n",
            "sentence :  Hello world\n",
            "translation :  ['Salut', 'le', 'monde.']\n",
            "reference :  ['Bonjour', 'le', 'monde']\n",
            "\n",
            "sentence :  This is a test sentence\n",
            "translation :  [\"C'est\", 'un', 'examen', 'd’', 'une', 'phrase.']\n",
            "reference :  ['Ceci', 'est', 'une', 'phrase', 'de', 'test']\n",
            "\n",
            "sentence :  The weather is nice today.\n",
            "translation :  ['Le', 'temps', 'est', 'beau', \"aujourd'hui.\"]\n",
            "reference :  ['Le', 'temps', 'est', 'agréable', \"aujourd'hui.\"]\n",
            "\n",
            "sentence :  I enjoy reading books in the park.\n",
            "translation :  [\"J'aime\", 'lire', 'des', 'livres', 'dans', 'le', 'parc.']\n",
            "reference :  [\"J'aime\", 'lire', 'des', 'livres', 'dans', 'le', 'parc.']\n",
            "\n",
            "sentence :  She loves to play the piano.\n",
            "translation :  ['Elle', 'aime', 'jouer', 'du', 'piano.']\n",
            "reference :  ['Elle', 'aime', 'jouer', 'du', 'piano.']\n",
            "\n",
            "sentence :  The children are playing in the garden.\n",
            "translation :  ['Les', 'enfants', 'jouent', 'dans', 'le', 'jardin.']\n",
            "reference :  ['Les', 'enfants', 'jouent', 'dans', 'le', 'jardin.']\n",
            "\n",
            "sentence :  He is working on a new project.\n",
            "translation :  ['Il', 'travaille', 'sur', 'un', 'nouveau', 'projet.']\n",
            "reference :  ['Il', 'travaille', 'sur', 'un', 'nouveau', 'projet.']\n",
            "\n",
            "sentence :  They visited the museum last weekend.\n",
            "translation :  ['Ils', 'ont', 'visité', 'le', 'musée', 'le', 'week-end', 'dernier.']\n",
            "reference :  ['Ils', 'ont', 'visité', 'le', 'musée', 'le', 'week-end', 'dernier.']\n",
            "\n",
            "sentence :  Our team won the championship.\n",
            "translation :  ['Notre', 'équipe', 'a', 'gagné', 'le', 'championnat.']\n",
            "reference :  ['Notre', 'équipe', 'a', 'gagné', 'le', 'championnat.']\n",
            "\n",
            "sentence :  The food at that restaurant is delicious.\n",
            "translation :  ['La', 'nourriture', 'au', 'restaurant', 'est', 'délicieuse.']\n",
            "reference :  ['La', 'nourriture', 'dans', 'ce', 'restaurant', 'est', 'délicieuse.']\n",
            "\n",
            "sentence :  I will travel to France next summer.\n",
            "translation :  ['Je', 'vais', 'voyager', 'à', 'la', 'France', \"l'été\", 'prochain.']\n",
            "reference :  ['Je', 'voyagerai', 'en', 'France', \"l'été\", 'prochain.']\n",
            "\n",
            "sentence :  Technology is changing the world rapidly.\n",
            "translation :  ['La', 'technologie', 'change', 'du', 'monde', 'est', 'rapidement.']\n",
            "reference :  ['La', 'technologie', 'change', 'le', 'monde', 'rapidement.']\n",
            "\n",
            "sentence :  She is learning to speak Spanish.\n",
            "translation :  ['Elle', 'apprend', 'à', 'parler', 'espagnol.']\n",
            "reference :  ['Elle', 'apprend', 'à', 'parler', 'espagnol.']\n",
            "\n",
            "sentence :  Music brings joy to our lives.\n",
            "translation :  ['La', 'musique', 'classique', 'de', 'notre', 'vie', 'à', 'notre', 'vies.']\n",
            "reference :  ['La', 'musique', 'apporte', 'de', 'la', 'joie', 'à', 'nos', 'vies.']\n",
            "\n",
            "sentence :  He enjoys hiking in the mountains.\n",
            "translation :  ['Il', 'aime', 'la', 'randonnée', 'dans', 'les', 'montagnes.']\n",
            "reference :  ['Il', 'aime', 'faire', 'de', 'la', 'randonnée', 'dans', 'les', 'montagnes.']\n",
            "\n",
            "sentence :  The movie was both entertaining and thought-provoking.\n",
            "translation :  ['Le', 'film', 'était', 'à', 'la', 'fois,', 'et', 'pensais', '«', '»']\n",
            "reference :  ['Le', 'film', 'était', 'à', 'la', 'fois', 'divertissant', 'et', 'stimulant.']\n",
            "\n",
            "sentence :  They are planning a surprise party for their friend.\n",
            "translation :  ['Ils', 'ont', \"l'intention\", \"d'une\", 'surprise', 'pour', 'leur', 'amie.']\n",
            "reference :  ['Ils', 'prévoient', 'une', 'fête', 'surprise', 'pour', 'leur', 'ami.']\n",
            "\n",
            "Average Metrics over the Dataset:\n",
            "BLEU: 0.41025996480920907\n",
            "ROUGE-1: 0.7648611111111111\n",
            "ROUGE-2: 0.61386322011322\n",
            "ROUGE-L: 0.7586111111111111\n",
            "METEOR: 0.6578715069174248\n"
          ]
        }
      ]
    },
    {
      "cell_type": "code",
      "source": [
        "# Plot the distribution of metrics and the average metrics.\n",
        "plot_metrics_distribution(all_metrics)\n",
        "plot_average_metrics(avg_metrics)"
      ],
      "metadata": {
        "colab": {
          "base_uri": "https://localhost:8080/",
          "height": 1000
        },
        "id": "4CHAx6hWH17c",
        "outputId": "8dc4341d-2dde-4d98-9d5e-22bb49976a11"
      },
      "execution_count": null,
      "outputs": [
        {
          "output_type": "display_data",
          "data": {
            "text/plain": [
              "<Figure size 1500x1000 with 5 Axes>"
            ],
            "image/png": "[encoded data removed]"
          },
          "metadata": {}
        },
        {
          "output_type": "display_data",
          "data": {
            "text/plain": [
              "<Figure size 1000x600 with 1 Axes>"
            ],
            "image/png": "[encoded data removed]"
          },
          "metadata": {}
        }
      ]
    },
    {
      "cell_type": "markdown",
      "source": [
        "### Conclusion"
      ],
      "metadata": {
        "id": "L7EyXM4BH341"
      }
    },
    {
      "cell_type": "markdown",
      "source": [
        "The model can perform good translations of small sentences with few ambiguities. The model has some difficulties translating words like “at”, as they can have different translations and meanings in French. METEOR score is slight above 0.65 which indicates that the machine-generated translation is fairly close to alignment with human reference translations. However BLEU indicates that the translations are not so similar to the references."
      ],
      "metadata": {
        "id": "mD0BFuSXH58X"
      }
    },
    {
      "cell_type": "markdown",
      "source": [
        "## Final Conclusion"
      ],
      "metadata": {
        "id": "mJS7OsHXKoEi"
      }
    },
    {
      "cell_type": "markdown",
      "source": [
        "There are several types of architecture for translation. RNN does not seem to be sufficiently efficient for translation. GRU is an improvement on RNN, but still fails to generalize well. Transformers have potential for translation. But with a larger data set, they could lead to better performance."
      ],
      "metadata": {
        "id": "boMh0aq4KqdJ"
      }
    },
    {
      "cell_type": "markdown",
      "source": [
        "---\n",
        "# Not Part of TP3, But A Potential Project Idea: Understanding the Architecture of a Decoder-Only Transformer\n",
        "\n",
        "Step 1: In a project group of 3-4 create a high level plan for a Decoder-Only model for how you would need to modify this code to implement a Decoder-Only Transformer. Key components of the implementation should be split up and each member of the group should present the pseudo-code (or actual code) for one component of the full model to one another, and in a report. Then create the working model and perform experiments comparing it with your TP3 encoder-decoder model.\n",
        "\n",
        "For more details on the Decoder-Only Transformer see [this blog post](https://medium.com/international-school-of-ai-data-science/building-custom-gpt-with-pytorch-59e5ba8102d4). The [first \"GPT\" paper](https://cdn.openai.com/research-covers/language-unsupervised/language_understanding_paper.pdf), and the paper cited by this GPT-1 paper for the Decoder Only architecture used for GPT, [i.e. this paper](https://arxiv.org/abs/1801.10198)"
      ],
      "metadata": {
        "id": "U6-OpYG_hz2R"
      }
    },
    {
      "cell_type": "code",
      "execution_count": null,
      "metadata": {
        "id": "AxFnLwN1zI-h"
      },
      "outputs": [],
      "source": []
    }
  ],
  "metadata": {
    "colab": {
      "provenance": [],
      "toc_visible": true,
      "gpuType": "T4",
      "include_colab_link": true
    },
    "kernelspec": {
      "display_name": "Python 3",
      "name": "python3"
    },
    "language_info": {
      "codemirror_mode": {
        "name": "ipython",
        "version": 3
      },
      "file_extension": ".py",
      "mimetype": "text/x-python",
      "name": "python",
      "nbconvert_exporter": "python",
      "pygments_lexer": "ipython3",
      "version": "3.8.5"
    },
    "accelerator": "GPU"
  },
  "nbformat": 4,
  "nbformat_minor": 0
}